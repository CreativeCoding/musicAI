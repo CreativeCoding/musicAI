{
  "nbformat": 4,
  "nbformat_minor": 0,
  "metadata": {
    "colab": {
      "name": "3.2 Functions.ipynb",
      "provenance": [],
      "collapsed_sections": [],
      "toc_visible": true,
      "include_colab_link": true
    },
    "kernelspec": {
      "name": "python3",
      "display_name": "Python 3"
    }
  },
  "cells": [
    {
      "cell_type": "markdown",
      "metadata": {
        "id": "view-in-github",
        "colab_type": "text"
      },
      "source": [
        "<a href=\"https://colab.research.google.com/github/davidkant/mai/blob/master/tutorial/3_2_Functions.ipynb\" target=\"_parent\"><img src=\"https://colab.research.google.com/assets/colab-badge.svg\" alt=\"Open In Colab\"/></a>"
      ]
    },
    {
      "cell_type": "markdown",
      "metadata": {
        "id": "MvPZxWGQ_p4G",
        "colab_type": "text"
      },
      "source": [
        "# 3.2 Coding Concepts: Functions\n"
      ]
    },
    {
      "cell_type": "markdown",
      "metadata": {
        "id": "WlVv2tpSHAJY",
        "colab_type": "text"
      },
      "source": [
        "# Functions\n",
        "A function is a block of code that can be reused elsewhere in your notebook. Each function has a name, and we execute the function by *calling* it, using the function name. Functions are the building blocks of computer programming because they allow us to organize our code into meaningful pieces. See [Functions](https://python.swaroopch.com/functions.html) for more information."
      ]
    },
    {
      "cell_type": "markdown",
      "metadata": {
        "id": "19y0Uo_aliiC",
        "colab_type": "text"
      },
      "source": [
        "## Function defintions\n",
        "A function is defined using the `def` statment. It requires both a function name, which is followed by parenthesis `()` and a colon `:`, as well as a block of code indented below."
      ]
    },
    {
      "cell_type": "markdown",
      "metadata": {
        "id": "q8CPkyLYAP6p",
        "colab_type": "text"
      },
      "source": [
        "Here is a simple function that prints `\"Hello_80L\"`."
      ]
    },
    {
      "cell_type": "code",
      "metadata": {
        "id": "0LxafYMc_3t6",
        "colab_type": "code",
        "colab": {}
      },
      "source": [
        "# define a function that prints \"hello world!\"\n",
        "def hello_world():\n",
        "  print(\"Hello_80l!\")"
      ],
      "execution_count": 0,
      "outputs": []
    },
    {
      "cell_type": "markdown",
      "metadata": {
        "id": "xM_Es0spAQlS",
        "colab_type": "text"
      },
      "source": [
        "Now we call the function by writing the function name ***and*** parenthesis!"
      ]
    },
    {
      "cell_type": "code",
      "metadata": {
        "id": "kz7fNrMb__Bq",
        "colab_type": "code",
        "outputId": "4ecace03-e829-4b67-f91b-8d31973b4e35",
        "colab": {
          "base_uri": "https://localhost:8080/",
          "height": 34
        }
      },
      "source": [
        "# call the function\n",
        "hello_world()"
      ],
      "execution_count": 0,
      "outputs": [
        {
          "output_type": "stream",
          "text": [
            "Hello_80l!\n"
          ],
          "name": "stdout"
        }
      ]
    },
    {
      "cell_type": "markdown",
      "metadata": {
        "id": "3fMfK3EL_2il",
        "colab_type": "text"
      },
      "source": [
        "## Return statements \n",
        "Functions can return values. This is written using the `return` statement and the value you wish to return. When you call the function, you get the value it returns."
      ]
    },
    {
      "cell_type": "markdown",
      "metadata": {
        "id": "HSYsnfRcBSzA",
        "colab_type": "text"
      },
      "source": [
        "Here we define a function that returns the value `99`. Note that the `return` statment is generally the last line of the function, because once the interpreter executes a `return` statement it leaves the function and returns to the program that called it."
      ]
    },
    {
      "cell_type": "code",
      "metadata": {
        "id": "BNoZ2JG4ExWG",
        "colab_type": "code",
        "colab": {}
      },
      "source": [
        "# define a funtion that returns the value 99\n",
        "def a_return_function():\n",
        "  return 99"
      ],
      "execution_count": 0,
      "outputs": []
    },
    {
      "cell_type": "markdown",
      "metadata": {
        "id": "kjK36MTjBwc9",
        "colab_type": "text"
      },
      "source": [
        "Call the function."
      ]
    },
    {
      "cell_type": "code",
      "metadata": {
        "id": "pqpp5jMXHRNK",
        "colab_type": "code",
        "outputId": "bf365ebc-69ba-471b-b88a-17654c46813c",
        "colab": {
          "base_uri": "https://localhost:8080/",
          "height": 34
        }
      },
      "source": [
        "# call the function\n",
        "a_return_function()"
      ],
      "execution_count": 0,
      "outputs": [
        {
          "output_type": "execute_result",
          "data": {
            "text/plain": [
              "99"
            ]
          },
          "metadata": {
            "tags": []
          },
          "execution_count": 4
        }
      ]
    },
    {
      "cell_type": "markdown",
      "metadata": {
        "id": "CNDZHQWpBzT_",
        "colab_type": "text"
      },
      "source": [
        "We can even use that returned value to do arithmetic!"
      ]
    },
    {
      "cell_type": "code",
      "metadata": {
        "id": "HdMYocLl_vu3",
        "colab_type": "code",
        "outputId": "71f96fb7-62d5-43e7-b6e8-8d3edc73c8e6",
        "colab": {
          "base_uri": "https://localhost:8080/",
          "height": 34
        }
      },
      "source": [
        "# call the function and do arithmetic\n",
        "1 + a_return_function()"
      ],
      "execution_count": 0,
      "outputs": [
        {
          "output_type": "execute_result",
          "data": {
            "text/plain": [
              "100"
            ]
          },
          "metadata": {
            "tags": []
          },
          "execution_count": 5
        }
      ]
    },
    {
      "cell_type": "markdown",
      "metadata": {
        "id": "A_Kdm1fRA-cH",
        "colab_type": "text"
      },
      "source": [
        "## Both in one\n",
        "Functions can do many things, including both printing and returning a value. Here we define a function that does both."
      ]
    },
    {
      "cell_type": "code",
      "metadata": {
        "id": "yKu6ErAmA_eo",
        "colab_type": "code",
        "colab": {}
      },
      "source": [
        "# define a funtion that returns the value 99\n",
        "def my_first_function():\n",
        "  \n",
        "  # print\n",
        "  print(\"Hello_80L!\")\n",
        "\n",
        "  # return \n",
        "  return 99"
      ],
      "execution_count": 0,
      "outputs": []
    },
    {
      "cell_type": "markdown",
      "metadata": {
        "id": "8Y23NJYHB9qU",
        "colab_type": "text"
      },
      "source": [
        "And call it."
      ]
    },
    {
      "cell_type": "code",
      "metadata": {
        "id": "VEDK-J54BCAt",
        "colab_type": "code",
        "outputId": "b7724904-19a2-4a37-d213-43b6a262049f",
        "colab": {
          "base_uri": "https://localhost:8080/",
          "height": 52
        }
      },
      "source": [
        "my_first_function()"
      ],
      "execution_count": 0,
      "outputs": [
        {
          "output_type": "stream",
          "text": [
            "Hello_80L!\n"
          ],
          "name": "stdout"
        },
        {
          "output_type": "execute_result",
          "data": {
            "text/plain": [
              "99"
            ]
          },
          "metadata": {
            "tags": []
          },
          "execution_count": 7
        }
      ]
    },
    {
      "cell_type": "markdown",
      "metadata": {
        "id": "5OSQbl2OmRpI",
        "colab_type": "text"
      },
      "source": [
        "## Arguments\n",
        "Functions may take one or more *arguments*. Arguments are defined by argument names within the parentheses of the function definition. Arguments allow us to pass information from outside the function into the function for use within our code block. Arguments are similar to variables becuase they associate a name with a value, but they are different because we don't define them using a variable declaration statement."
      ]
    },
    {
      "cell_type": "code",
      "metadata": {
        "id": "XNhiiZ-6HSc6",
        "colab_type": "code",
        "colab": {}
      },
      "source": [
        "# define a function with arguments\n",
        "def function_with_arguments(arg1, arg2):\n",
        "  \n",
        "  # print the first argument\n",
        "  print(arg1)\n",
        "  \n",
        "  # print the second argument\n",
        "  print(arg2)\n",
        "  \n",
        "  # return the product\n",
        "  return arg1 * arg2"
      ],
      "execution_count": 0,
      "outputs": []
    },
    {
      "cell_type": "markdown",
      "metadata": {
        "id": "lZpmUNH_nMTF",
        "colab_type": "text"
      },
      "source": [
        "When we call a function that has arguments, we pass values to the function by placing them inside parenthesis. Each value is passed to the corresponding argument name."
      ]
    },
    {
      "cell_type": "code",
      "metadata": {
        "id": "lmzNmjnWHi_4",
        "colab_type": "code",
        "cellView": "both",
        "outputId": "c1c98ad7-7433-4cae-e51b-5353a0ec05e5",
        "colab": {
          "base_uri": "https://localhost:8080/",
          "height": 69
        }
      },
      "source": [
        "# call the function\n",
        "print(function_with_arguments(3, 76))"
      ],
      "execution_count": 0,
      "outputs": [
        {
          "output_type": "stream",
          "text": [
            "3\n",
            "76\n",
            "228\n"
          ],
          "name": "stdout"
        }
      ]
    },
    {
      "cell_type": "markdown",
      "metadata": {
        "id": "XCJwvjhLCSPi",
        "colab_type": "text"
      },
      "source": [
        "# AMB as a function\n",
        "Here's the AMB function that lives inside the `mai` course package. All I've done is take the giant `while` loop from the previous tutorial and put it inside the body of a function. I added *arguments* for each of the AMB parameters and also a `return` statement to return the lists of pitches and durations generated by AMB."
      ]
    },
    {
      "cell_type": "code",
      "metadata": {
        "id": "TmdlfAnZVkqm",
        "colab_type": "code",
        "colab": {}
      },
      "source": [
        "def amb(pitch_center=40, pitch_range=6, pulse=120, rhythm=0.0, detune=0.0, repeat=0.5, memory=5, length=24):\n",
        "\n",
        "    # start with empty lists for both pitch and duration\n",
        "    my_pitches = []\n",
        "    my_durs = []\n",
        "\n",
        "    # loop until we have enough notes\n",
        "    while len(my_durs) < length:\n",
        "\n",
        "        # do we look back?\n",
        "        if random.random() <= repeat and len(my_pitches) >= memory:\n",
        "\n",
        "            # use the fifth previous note\n",
        "            new_pitch = my_pitches[-memory]\n",
        "            new_dur = my_durs[-memory]\n",
        "\n",
        "        # if we don't look back\n",
        "        else:\n",
        "\n",
        "            # choose pitch\n",
        "            new_pitch = random.randint(pitch_center - pitch_range, pitch_center + pitch_range)\n",
        "\n",
        "        # microtonal pitch adjustment \n",
        "        new_pitch += random.uniform(-detune, detune)\n",
        "\n",
        "        # choose duration\n",
        "        new_dur = (60.0 / pulse) * random.uniform(1-rhythm, 1+rhythm)\n",
        "    \n",
        "        # append to the melody\n",
        "        my_pitches += [new_pitch]\n",
        "        my_durs += [new_dur]\n",
        "    \n",
        "    return my_pitches, my_durs"
      ],
      "execution_count": 0,
      "outputs": []
    }
  ]
}