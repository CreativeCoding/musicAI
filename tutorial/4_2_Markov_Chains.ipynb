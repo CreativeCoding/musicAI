{
  "nbformat": 4,
  "nbformat_minor": 0,
  "metadata": {
    "colab": {
      "name": "4.2 Markov Chains.ipynb",
      "version": "0.3.2",
      "provenance": [],
      "collapsed_sections": [],
      "include_colab_link": true
    },
    "kernelspec": {
      "display_name": "Python 2",
      "language": "python",
      "name": "python2"
    }
  },
  "cells": [
    {
      "cell_type": "markdown",
      "metadata": {
        "id": "view-in-github",
        "colab_type": "text"
      },
      "source": [
        "[View in Colaboratory](https://colab.research.google.com/github/davidkant/mai/blob/master/tutorial/4_2_Markov_Chains.ipynb)"
      ]
    },
    {
      "metadata": {
        "id": "Fn3y44pNQq_1",
        "colab_type": "text"
      },
      "cell_type": "markdown",
      "source": [
        "# 4.2 Markov Chains\n",
        "So how can we do better? Remember, music is a temporal art, and often the order in which things happens is meaningful. The answer: ***conditional probability.*** Conditional probability quantifies the likelihood that an outcome will occur *given that another outcome has already ocurred*. Conditional probability expresses the concept of contingency and is used to describe random processes that depend on something. With music,  we often use conditional probability to express the realtionships between the future and past.\n",
        "\n",
        "A ***Markov chain*** is a probability system in which the likelihood of *future* outcomes is determined by *past* outcomes. It's a tool for working with conditional probability, and, in this notebook, we'll use Markov chains to model sequence of musical events. Markov chains have two improtant features: the ***order*** which determines how far back past events affect future likelihoods, and the ***transition matrix*** which is a data structure that represents the system of conditional probabilitles.\n",
        "\n",
        "Note: Markov chains are implements in the `mai` package, so this notebook is mostly about how to use it."
      ]
    },
    {
      "metadata": {
        "id": "wqEXYqA0RDmO",
        "colab_type": "text"
      },
      "cell_type": "markdown",
      "source": [
        "## Setup"
      ]
    },
    {
      "metadata": {
        "id": "CRzvLns-NAnB",
        "colab_type": "code",
        "colab": {}
      },
      "cell_type": "code",
      "source": [
        "# install external libraries\n",
        "!pip install -q git+https://github.com/davidkant/mai#egg=mai;\n",
        "!pip install -q pretty_midi\n",
        "!pip install -q pyfluidsynth\n",
        "!apt-get -qq update\n",
        "!apt-get -qq install -y libfluidsynth1"
      ],
      "execution_count": 0,
      "outputs": []
    },
    {
      "metadata": {
        "id": "gRBZXY2_f9jA",
        "colab_type": "code",
        "colab": {
          "base_uri": "https://localhost:8080/",
          "height": 35
        },
        "outputId": "e814a77e-2866-47f2-d8b4-986bf4983fda"
      },
      "cell_type": "code",
      "source": [
        "# imports\n",
        "import mai\n",
        "import random\n",
        "import matplotlib.pyplot as plt"
      ],
      "execution_count": 2,
      "outputs": [
        {
          "output_type": "stream",
          "text": [
            "Using TensorFlow backend.\n"
          ],
          "name": "stderr"
        }
      ]
    },
    {
      "metadata": {
        "id": "vtZehjvVTxds",
        "colab_type": "text"
      },
      "cell_type": "markdown",
      "source": [
        "## Learn a transition table from data\n",
        "We are going to learn a markov chain transition matrix from an example sequence. Our first example is a short sequence of numbers:"
      ]
    },
    {
      "metadata": {
        "id": "B7A23OZkXttk",
        "colab_type": "code",
        "colab": {}
      },
      "cell_type": "code",
      "source": [
        "# make some dummy music\n",
        "music = [60, 62, 64, 65, 67]"
      ],
      "execution_count": 0,
      "outputs": []
    },
    {
      "metadata": {
        "id": "J7nT2t3MT_9E",
        "colab_type": "text"
      },
      "cell_type": "markdown",
      "source": [
        "First, we have to create a new markov chain to keep track of our data — this is the variable `mark`. Then we learn the transition table by calling the function `train` and passing our example musical sequence `music` as an argument."
      ]
    },
    {
      "metadata": {
        "id": "ZObq469TXttn",
        "colab_type": "code",
        "colab": {}
      },
      "cell_type": "code",
      "source": [
        "# create a new markov chain \n",
        "mark = mai.markov.Markov()\n",
        "\n",
        "# learn a new table from data\n",
        "mark.train(music, order=1)"
      ],
      "execution_count": 0,
      "outputs": []
    },
    {
      "metadata": {
        "id": "feCzjZzeVL3M",
        "colab_type": "text"
      },
      "cell_type": "markdown",
      "source": [
        "View the transition table --- is this what you expected? The transition table counts the number of times we transition from each state to the next. For each entry of the table, the transition is to the left of the colon and the count is to the right. For instance, `((60,), 62): 1,` means the sequence transitions from the state `60` to the state `62` once. "
      ]
    },
    {
      "metadata": {
        "id": "mqaj8U2jXttr",
        "colab_type": "code",
        "colab": {
          "base_uri": "https://localhost:8080/",
          "height": 35
        },
        "outputId": "525ff891-44d1-48fe-fb87-2464a58d2730"
      },
      "cell_type": "code",
      "source": [
        "# view the transition table\n",
        "mark.transitions"
      ],
      "execution_count": 5,
      "outputs": [
        {
          "output_type": "execute_result",
          "data": {
            "text/plain": [
              "{((60,), 62): 1, ((62,), 64): 1, ((64,), 65): 1, ((65,), 67): 1}"
            ]
          },
          "metadata": {
            "tags": []
          },
          "execution_count": 5
        }
      ]
    },
    {
      "metadata": {
        "id": "VaeqeFacVQ-y",
        "colab_type": "text"
      },
      "cell_type": "markdown",
      "source": [
        "## Generate a new musical sequence from the trained Markov model\n",
        "This is the fun part. Once we have learned a Markov transition matrix, we can generate new sequences from it! The first thing we must do is set an initial state, otherwise the Markov chain wouldn't know where to start, then call the function `choose` to choose the next state according to the transition table."
      ]
    },
    {
      "metadata": {
        "id": "hotHKhewXtty",
        "colab_type": "code",
        "colab": {
          "base_uri": "https://localhost:8080/",
          "height": 35
        },
        "outputId": "2614e79a-d646-4854-d592-2ef8abf41c01"
      },
      "cell_type": "code",
      "source": [
        "# set initial state\n",
        "mark.state = (60,)\n",
        "\n",
        "# next choice\n",
        "mark.choose()"
      ],
      "execution_count": 6,
      "outputs": [
        {
          "output_type": "execute_result",
          "data": {
            "text/plain": [
              "62"
            ]
          },
          "metadata": {
            "tags": []
          },
          "execution_count": 6
        }
      ]
    },
    {
      "metadata": {
        "id": "nes3T8FccRWG",
        "colab_type": "text"
      },
      "cell_type": "markdown",
      "source": [
        "You can continue to call choose as many times as you wish... until you get an error!!! NOTE: in the following cell we omit the line of code that sets the initial state because we do not want to resent our initial state each time.\n",
        "\n"
      ]
    },
    {
      "metadata": {
        "id": "SGh5lFSGXtt3",
        "colab_type": "code",
        "colab": {
          "base_uri": "https://localhost:8080/",
          "height": 35
        },
        "outputId": "e96cdbac-c262-4cd0-a8d4-83a17346973a"
      },
      "cell_type": "code",
      "source": [
        "# next choice\n",
        "mark.choose()"
      ],
      "execution_count": 7,
      "outputs": [
        {
          "output_type": "execute_result",
          "data": {
            "text/plain": [
              "64"
            ]
          },
          "metadata": {
            "tags": []
          },
          "execution_count": 7
        }
      ]
    },
    {
      "metadata": {
        "id": "5PsDbcIEe0-i",
        "colab_type": "text"
      },
      "cell_type": "markdown",
      "source": [
        "If you call `choose` too many times on this particular transition table you eventually get the error: `LookupError: Current state not found in transition table`. The problem is we eventually transition *to* the state `67` but there is no entry in the transition table that tells us where to go *from* state `67`. This is because state `67` is the last number in the sequence that we learned from."
      ]
    },
    {
      "metadata": {
        "id": "BoFkCAkNd6SH",
        "colab_type": "text"
      },
      "cell_type": "markdown",
      "source": [
        "## Now let's try a few other sequences"
      ]
    },
    {
      "metadata": {
        "id": "89KLluGzeFtf",
        "colab_type": "text"
      },
      "cell_type": "markdown",
      "source": [
        "### Example Sequence #2\n",
        "What's different about this sequence? Here we add one additional value to our training sequence in order to avoid the error above. We create a loop where the sequence begins and ends on the same value, `60`."
      ]
    },
    {
      "metadata": {
        "id": "01M57CTEXtuI",
        "colab_type": "code",
        "colab": {
          "base_uri": "https://localhost:8080/",
          "height": 108
        },
        "outputId": "368c1f6e-1aa0-4e01-f9e3-7e7b476a9c7d"
      },
      "cell_type": "code",
      "source": [
        "# sequence to train on\n",
        "music = [60, 62, 64, 65, 67, 60]\n",
        "\n",
        "# create a new markov chain \n",
        "mark = mai.markov.Markov()\n",
        "\n",
        "# learn a new table from data\n",
        "mark.train(music, order=1)\n",
        "\n",
        "# view the transition table\n",
        "mark.transitions"
      ],
      "execution_count": 8,
      "outputs": [
        {
          "output_type": "execute_result",
          "data": {
            "text/plain": [
              "{((60,), 62): 1,\n",
              " ((62,), 64): 1,\n",
              " ((64,), 65): 1,\n",
              " ((65,), 67): 1,\n",
              " ((67,), 60): 1}"
            ]
          },
          "metadata": {
            "tags": []
          },
          "execution_count": 8
        }
      ]
    },
    {
      "metadata": {
        "id": "RKp2D8aYfTun",
        "colab_type": "text"
      },
      "cell_type": "markdown",
      "source": [
        "Set the initial state"
      ]
    },
    {
      "metadata": {
        "id": "dGfCxex8eseg",
        "colab_type": "code",
        "colab": {}
      },
      "cell_type": "code",
      "source": [
        "# set initial state\n",
        "mark.state = (60,)"
      ],
      "execution_count": 0,
      "outputs": []
    },
    {
      "metadata": {
        "id": "xq5LY1MlfV8V",
        "colab_type": "text"
      },
      "cell_type": "markdown",
      "source": [
        "Now choose repeatedly. You should **not** get an error this time. What happens instead?"
      ]
    },
    {
      "metadata": {
        "id": "XUMUL6uafao5",
        "colab_type": "code",
        "colab": {
          "base_uri": "https://localhost:8080/",
          "height": 35
        },
        "outputId": "2f0a5889-dc10-41d6-afd6-7ed8ef0688f0"
      },
      "cell_type": "code",
      "source": [
        "# next choice\n",
        "mark.choose()"
      ],
      "execution_count": 10,
      "outputs": [
        {
          "output_type": "execute_result",
          "data": {
            "text/plain": [
              "62"
            ]
          },
          "metadata": {
            "tags": []
          },
          "execution_count": 10
        }
      ]
    },
    {
      "metadata": {
        "id": "bFO0xSiR0Vnb",
        "colab_type": "text"
      },
      "cell_type": "markdown",
      "source": [
        "Generate a sequence of 12 choices and plot it. The original sequence is in blue and the new sequence is in green. How do they compare? The new sequence is an exact copy of the original just repeated."
      ]
    },
    {
      "metadata": {
        "id": "E2GYhhmQgkLk",
        "colab_type": "code",
        "colab": {
          "base_uri": "https://localhost:8080/",
          "height": 211
        },
        "outputId": "9bde5737-d225-4aac-e330-1372c93ae013"
      },
      "cell_type": "code",
      "source": [
        "# plot original and new\n",
        "plt.figure(figsize=(8,3))\n",
        "plt.plot(music)\n",
        "plt.plot([mark.choose() for x in range(12)])\n",
        "plt.show()"
      ],
      "execution_count": 11,
      "outputs": [
        {
          "output_type": "display_data",
          "data": {
            "image/png": "[encoded data removed]",
            "text/plain": [
              "<matplotlib.figure.Figure at 0x7fd150aafdd0>"
            ]
          },
          "metadata": {
            "tags": []
          }
        }
      ]
    },
    {
      "metadata": {
        "id": "ENBrQxLYfimA",
        "colab_type": "text"
      },
      "cell_type": "markdown",
      "source": [
        "### Example Sequence #3\n",
        "Example sequence #2 loops the same sequence over and over and over again. It is deterministic because there is only one option for each previous state to transition to. How would you change the training sequence such that there are multiple optoins for at least one state?"
      ]
    },
    {
      "metadata": {
        "id": "MxEWdfuiYc9p",
        "colab_type": "code",
        "colab": {
          "base_uri": "https://localhost:8080/",
          "height": 126
        },
        "outputId": "c20952d4-ff6a-474e-e7f2-44dbcab15b28"
      },
      "cell_type": "code",
      "source": [
        "# training sequence that is not deterministic\n",
        "music = [60, 62, 64, 65, 67, 60, 67]\n",
        "\n",
        "# create a new markov chain \n",
        "mark = mai.markov.Markov()\n",
        "\n",
        "# learn a new table from data\n",
        "mark.train(music, order=1)\n",
        "\n",
        "# view the transition table\n",
        "mark.transitions"
      ],
      "execution_count": 12,
      "outputs": [
        {
          "output_type": "execute_result",
          "data": {
            "text/plain": [
              "{((60,), 62): 1,\n",
              " ((60,), 67): 1,\n",
              " ((62,), 64): 1,\n",
              " ((64,), 65): 1,\n",
              " ((65,), 67): 1,\n",
              " ((67,), 60): 1}"
            ]
          },
          "metadata": {
            "tags": []
          },
          "execution_count": 12
        }
      ]
    },
    {
      "metadata": {
        "id": "KPQOvw5vgIeA",
        "colab_type": "code",
        "colab": {}
      },
      "cell_type": "code",
      "source": [
        "# set initial state\n",
        "mark.state = (60,)"
      ],
      "execution_count": 0,
      "outputs": []
    },
    {
      "metadata": {
        "id": "iDkmVLkbgJfi",
        "colab_type": "code",
        "colab": {
          "base_uri": "https://localhost:8080/",
          "height": 35
        },
        "outputId": "fc8bdfd7-127c-49a7-ba7b-ab3719aa1ed2"
      },
      "cell_type": "code",
      "source": [
        "# next choice\n",
        "mark.choose()"
      ],
      "execution_count": 14,
      "outputs": [
        {
          "output_type": "execute_result",
          "data": {
            "text/plain": [
              "62"
            ]
          },
          "metadata": {
            "tags": []
          },
          "execution_count": 14
        }
      ]
    },
    {
      "metadata": {
        "id": "VZ7vYAOH000H",
        "colab_type": "text"
      },
      "cell_type": "markdown",
      "source": [
        "Generate a new sequence of 12 choices and plot it. The original sequence is in blue and the new sequence is in green. How do they compare? The new sequence is not (necessarily) an exact copy of the original, but more like cut up and rearranged segments of the original."
      ]
    },
    {
      "metadata": {
        "id": "TU20ZBrdgWyD",
        "colab_type": "code",
        "colab": {
          "base_uri": "https://localhost:8080/",
          "height": 211
        },
        "outputId": "cbe8642b-fb67-42e2-c1c9-2392728b11e5"
      },
      "cell_type": "code",
      "source": [
        "# plot original and new\n",
        "plt.figure(figsize=(8,3))\n",
        "plt.plot(music)\n",
        "plt.plot([mark.choose() for x in range(12)])\n",
        "plt.show()"
      ],
      "execution_count": 15,
      "outputs": [
        {
          "output_type": "display_data",
          "data": {
            "image/png": "[encoded data removed]",
            "text/plain": [
              "<matplotlib.figure.Figure at 0x7fd150aafb90>"
            ]
          },
          "metadata": {
            "tags": []
          }
        }
      ]
    },
    {
      "metadata": {
        "id": "25k0rB5b6i03",
        "colab_type": "text"
      },
      "cell_type": "markdown",
      "source": [
        "Hopefully these simple sequence are helping your intuition develop, but let's move onto music now..."
      ]
    }
  ]
}