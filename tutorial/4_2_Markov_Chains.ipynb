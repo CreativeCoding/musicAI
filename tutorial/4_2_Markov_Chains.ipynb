{
  "nbformat": 4,
  "nbformat_minor": 0,
  "metadata": {
    "colab": {
      "name": "4.2 Markov Chains.ipynb",
      "provenance": [],
      "collapsed_sections": [],
      "toc_visible": true,
      "include_colab_link": true
    },
    "kernelspec": {
      "name": "python3",
      "display_name": "Python 3"
    }
  },
  "cells": [
    {
      "cell_type": "markdown",
      "metadata": {
        "id": "view-in-github",
        "colab_type": "text"
      },
      "source": [
        "<a href=\"https://colab.research.google.com/github/davidkant/mai/blob/master/tutorial/4_2_Markov_Chains.ipynb\" target=\"_parent\"><img src=\"https://colab.research.google.com/assets/colab-badge.svg\" alt=\"Open In Colab\"/></a>"
      ]
    },
    {
      "cell_type": "markdown",
      "metadata": {
        "id": "Fn3y44pNQq_1",
        "colab_type": "text"
      },
      "source": [
        "# 4.2 Markov Chains\n",
        "So how can we do better? Remember, music is a temporal art, and often the order in which things happens is meaningful. The answer: ***conditional probability.*** Conditional probability quantifies the likelihood that an outcome will occur *given that another outcome has already ocurred*. Conditional probability expresses the concept of contingency and is used to describe random processes that depend on something. With music,  we often use conditional probability to express the realtionships between the future and past.\n",
        "\n",
        "A ***Markov chain*** is a probability system in which the likelihood of *future* outcomes is determined by *past* outcomes. It's a tool for working with conditional probability, and, in this notebook, we'll use Markov chains to model sequence of musical events. Markov chains have two improtant features: the ***order*** which determines how far back past events affect future likelihoods, and the ***transition matrix*** which is a data structure that represents the system of conditional probabilitles.\n",
        "\n",
        "Note: Markov chains are implements in the `mai` package, so this notebook is mostly about how to use it."
      ]
    },
    {
      "cell_type": "markdown",
      "metadata": {
        "id": "wqEXYqA0RDmO",
        "colab_type": "text"
      },
      "source": [
        "## Setup"
      ]
    },
    {
      "cell_type": "code",
      "metadata": {
        "id": "CRzvLns-NAnB",
        "colab_type": "code",
        "colab": {}
      },
      "source": [
        "# install external libraries for sound playback\n",
        "from IPython.display import clear_output\n",
        "!pip install -q git+https://github.com/davidkant/mai#egg=mai;\n",
        "!apt-get -qq update\n",
        "!apt-get -qq install -y libfluidsynth1\n",
        "clear_output()"
      ],
      "execution_count": 0,
      "outputs": []
    },
    {
      "cell_type": "code",
      "metadata": {
        "id": "gRBZXY2_f9jA",
        "colab_type": "code",
        "outputId": "70dfd991-1be8-4db2-ec4a-8f612d75924f",
        "colab": {
          "base_uri": "https://localhost:8080/",
          "height": 35
        }
      },
      "source": [
        "# imports\n",
        "import mai\n",
        "import random\n",
        "import matplotlib.pyplot as plt"
      ],
      "execution_count": 0,
      "outputs": [
        {
          "output_type": "stream",
          "text": [
            "Using TensorFlow backend.\n"
          ],
          "name": "stderr"
        }
      ]
    },
    {
      "cell_type": "markdown",
      "metadata": {
        "id": "vtZehjvVTxds",
        "colab_type": "text"
      },
      "source": [
        "## Learn a transition table from data\n",
        "We are going to learn a markov chain transition matrix from an example sequence. Our first example is a short sequence of numbers:"
      ]
    },
    {
      "cell_type": "code",
      "metadata": {
        "id": "B7A23OZkXttk",
        "colab_type": "code",
        "colab": {}
      },
      "source": [
        "# make some dummy music\n",
        "music = [60, 62, 64, 65, 67]"
      ],
      "execution_count": 0,
      "outputs": []
    },
    {
      "cell_type": "markdown",
      "metadata": {
        "id": "J7nT2t3MT_9E",
        "colab_type": "text"
      },
      "source": [
        "First, we have to create a new markov chain to keep track of our data — this is the variable `mark`. Then we learn the transition table by calling the function `train` and passing our example musical sequence `music` as an argument."
      ]
    },
    {
      "cell_type": "code",
      "metadata": {
        "id": "ZObq469TXttn",
        "colab_type": "code",
        "colab": {}
      },
      "source": [
        "# create a new markov chain \n",
        "mark = mai.markov.Markov()\n",
        "\n",
        "# learn a new table from data\n",
        "mark.train(music, order=1)"
      ],
      "execution_count": 0,
      "outputs": []
    },
    {
      "cell_type": "markdown",
      "metadata": {
        "id": "feCzjZzeVL3M",
        "colab_type": "text"
      },
      "source": [
        "View the transition table --- is this what you expected? The transition table counts the number of times we transition from each state to the next. For each entry of the table, the transition is to the left of the colon and the count is to the right. For instance, `((60,), 62): 1,` means the sequence transitions from the state `60` to the state `62` once. "
      ]
    },
    {
      "cell_type": "code",
      "metadata": {
        "id": "mqaj8U2jXttr",
        "colab_type": "code",
        "outputId": "f4517b0e-117a-49bd-afaa-7f81908ff4cc",
        "colab": {
          "base_uri": "https://localhost:8080/",
          "height": 35
        }
      },
      "source": [
        "# view the transition table\n",
        "mark.transitions"
      ],
      "execution_count": 0,
      "outputs": [
        {
          "output_type": "execute_result",
          "data": {
            "text/plain": [
              "{((60,), 62): 1, ((62,), 64): 1, ((64,), 65): 1, ((65,), 67): 1}"
            ]
          },
          "metadata": {
            "tags": []
          },
          "execution_count": 5
        }
      ]
    },
    {
      "cell_type": "markdown",
      "metadata": {
        "id": "VaeqeFacVQ-y",
        "colab_type": "text"
      },
      "source": [
        "## Generate a new musical sequence from the trained Markov model\n",
        "This is the fun part. Once we have learned a Markov transition matrix, we can generate new sequences from it! The first thing we must do is set an initial state, otherwise the Markov chain wouldn't know where to start, then call the function `choose` to choose the next state according to the transition table."
      ]
    },
    {
      "cell_type": "code",
      "metadata": {
        "id": "hotHKhewXtty",
        "colab_type": "code",
        "outputId": "b8bcdf37-a400-4828-dc90-da7376976024",
        "colab": {
          "base_uri": "https://localhost:8080/",
          "height": 35
        }
      },
      "source": [
        "# set initial state\n",
        "mark.state = (60,)\n",
        "\n",
        "# next choice\n",
        "mark.choose()"
      ],
      "execution_count": 0,
      "outputs": [
        {
          "output_type": "execute_result",
          "data": {
            "text/plain": [
              "62"
            ]
          },
          "metadata": {
            "tags": []
          },
          "execution_count": 6
        }
      ]
    },
    {
      "cell_type": "markdown",
      "metadata": {
        "id": "nes3T8FccRWG",
        "colab_type": "text"
      },
      "source": [
        "You can continue to call choose as many times as you wish... until you get an error!!! NOTE: in the following cell we omit the line of code that sets the initial state because we do not want to resent our initial state each time.\n",
        "\n"
      ]
    },
    {
      "cell_type": "code",
      "metadata": {
        "id": "SGh5lFSGXtt3",
        "colab_type": "code",
        "outputId": "d2e02424-7dee-4a88-c4b6-6f884d9b5310",
        "colab": {
          "base_uri": "https://localhost:8080/",
          "height": 35
        }
      },
      "source": [
        "# next choice\n",
        "mark.choose()"
      ],
      "execution_count": 0,
      "outputs": [
        {
          "output_type": "execute_result",
          "data": {
            "text/plain": [
              "64"
            ]
          },
          "metadata": {
            "tags": []
          },
          "execution_count": 7
        }
      ]
    },
    {
      "cell_type": "markdown",
      "metadata": {
        "id": "5PsDbcIEe0-i",
        "colab_type": "text"
      },
      "source": [
        "If you call `choose` too many times on this particular transition table you eventually get the error: `LookupError: Current state not found in transition table`. The problem is we eventually transition *to* the state `67` but there is no entry in the transition table that tells us where to go *from* state `67`. This is because state `67` is the last number in the sequence that we learned from."
      ]
    },
    {
      "cell_type": "markdown",
      "metadata": {
        "id": "BoFkCAkNd6SH",
        "colab_type": "text"
      },
      "source": [
        "## Now let's try a few other sequences"
      ]
    },
    {
      "cell_type": "markdown",
      "metadata": {
        "id": "89KLluGzeFtf",
        "colab_type": "text"
      },
      "source": [
        "### Example Sequence #2\n",
        "What's different about this sequence? Here we add one additional value to our training sequence in order to avoid the error above. We create a loop where the sequence begins and ends on the same value, `60`."
      ]
    },
    {
      "cell_type": "code",
      "metadata": {
        "id": "01M57CTEXtuI",
        "colab_type": "code",
        "outputId": "ca8dc9df-82b1-4896-d7b3-8684ebdd0286",
        "colab": {
          "base_uri": "https://localhost:8080/",
          "height": 104
        }
      },
      "source": [
        "# sequence to train on\n",
        "music = [60, 62, 64, 65, 67, 60]\n",
        "\n",
        "# create a new markov chain \n",
        "mark = mai.markov.Markov()\n",
        "\n",
        "# learn a new table from data\n",
        "mark.train(music, order=1)\n",
        "\n",
        "# view the transition table\n",
        "mark.transitions"
      ],
      "execution_count": 0,
      "outputs": [
        {
          "output_type": "execute_result",
          "data": {
            "text/plain": [
              "{((60,), 62): 1,\n",
              " ((62,), 64): 1,\n",
              " ((64,), 65): 1,\n",
              " ((65,), 67): 1,\n",
              " ((67,), 60): 1}"
            ]
          },
          "metadata": {
            "tags": []
          },
          "execution_count": 8
        }
      ]
    },
    {
      "cell_type": "markdown",
      "metadata": {
        "id": "RKp2D8aYfTun",
        "colab_type": "text"
      },
      "source": [
        "Set the initial state"
      ]
    },
    {
      "cell_type": "code",
      "metadata": {
        "id": "dGfCxex8eseg",
        "colab_type": "code",
        "colab": {}
      },
      "source": [
        "# set initial state\n",
        "mark.state = (60,)"
      ],
      "execution_count": 0,
      "outputs": []
    },
    {
      "cell_type": "markdown",
      "metadata": {
        "id": "xq5LY1MlfV8V",
        "colab_type": "text"
      },
      "source": [
        "Now choose repeatedly. You should **not** get an error this time. What happens instead?"
      ]
    },
    {
      "cell_type": "code",
      "metadata": {
        "id": "XUMUL6uafao5",
        "colab_type": "code",
        "outputId": "a5ee124e-fb3b-4c04-d2bb-9e095e22e6a5",
        "colab": {
          "base_uri": "https://localhost:8080/",
          "height": 35
        }
      },
      "source": [
        "# next choice\n",
        "mark.choose()"
      ],
      "execution_count": 0,
      "outputs": [
        {
          "output_type": "execute_result",
          "data": {
            "text/plain": [
              "62"
            ]
          },
          "metadata": {
            "tags": []
          },
          "execution_count": 10
        }
      ]
    },
    {
      "cell_type": "markdown",
      "metadata": {
        "id": "bFO0xSiR0Vnb",
        "colab_type": "text"
      },
      "source": [
        "Generate a sequence of 12 choices and plot it. The original sequence is in blue and the new sequence is in green. How do they compare? The new sequence is an exact copy of the original just repeated."
      ]
    },
    {
      "cell_type": "code",
      "metadata": {
        "id": "E2GYhhmQgkLk",
        "colab_type": "code",
        "outputId": "81564a41-380f-4b84-a3a0-0454d79fd290",
        "colab": {
          "base_uri": "https://localhost:8080/",
          "height": 211
        }
      },
      "source": [
        "# plot original and new\n",
        "plt.figure(figsize=(8,3))\n",
        "plt.plot(music)\n",
        "plt.plot([mark.choose() for x in range(12)])\n",
        "plt.show()"
      ],
      "execution_count": 0,
      "outputs": [
        {
          "output_type": "display_data",
          "data": {
            "image/png": "[encoded data removed]",
            "text/plain": [
              "<Figure size 576x216 with 1 Axes>"
            ]
          },
          "metadata": {
            "tags": []
          }
        }
      ]
    },
    {
      "cell_type": "markdown",
      "metadata": {
        "id": "ENBrQxLYfimA",
        "colab_type": "text"
      },
      "source": [
        "### Example Sequence #3\n",
        "Example sequence #2 loops the same sequence over and over and over again. It is deterministic because there is only one option for each previous state to transition to. How would you change the training sequence such that there are multiple optoins for at least one state?"
      ]
    },
    {
      "cell_type": "code",
      "metadata": {
        "id": "MxEWdfuiYc9p",
        "colab_type": "code",
        "outputId": "4b1f5be1-c308-4a70-c0af-2efd384249b4",
        "colab": {
          "base_uri": "https://localhost:8080/",
          "height": 121
        }
      },
      "source": [
        "# training sequence that is not deterministic\n",
        "music = [60, 62, 64, 65, 67, 60, 67]\n",
        "\n",
        "# create a new markov chain \n",
        "mark = mai.markov.Markov()\n",
        "\n",
        "# learn a new table from data\n",
        "mark.train(music, order=1)\n",
        "\n",
        "# view the transition table\n",
        "mark.transitions"
      ],
      "execution_count": 0,
      "outputs": [
        {
          "output_type": "execute_result",
          "data": {
            "text/plain": [
              "{((60,), 62): 1,\n",
              " ((60,), 67): 1,\n",
              " ((62,), 64): 1,\n",
              " ((64,), 65): 1,\n",
              " ((65,), 67): 1,\n",
              " ((67,), 60): 1}"
            ]
          },
          "metadata": {
            "tags": []
          },
          "execution_count": 12
        }
      ]
    },
    {
      "cell_type": "code",
      "metadata": {
        "id": "KPQOvw5vgIeA",
        "colab_type": "code",
        "colab": {}
      },
      "source": [
        "# set initial state\n",
        "mark.state = (60,)"
      ],
      "execution_count": 0,
      "outputs": []
    },
    {
      "cell_type": "code",
      "metadata": {
        "id": "iDkmVLkbgJfi",
        "colab_type": "code",
        "outputId": "c30b9e95-de5c-468c-804e-5cd1e7ce494b",
        "colab": {
          "base_uri": "https://localhost:8080/",
          "height": 35
        }
      },
      "source": [
        "# next choice\n",
        "mark.choose()"
      ],
      "execution_count": 0,
      "outputs": [
        {
          "output_type": "execute_result",
          "data": {
            "text/plain": [
              "67"
            ]
          },
          "metadata": {
            "tags": []
          },
          "execution_count": 14
        }
      ]
    },
    {
      "cell_type": "markdown",
      "metadata": {
        "id": "VZ7vYAOH000H",
        "colab_type": "text"
      },
      "source": [
        "Generate a new sequence of 12 choices and plot it. The original sequence is in blue and the new sequence is in green. How do they compare? The new sequence is not (necessarily) an exact copy of the original, but more like cut up and rearranged segments of the original."
      ]
    },
    {
      "cell_type": "code",
      "metadata": {
        "id": "TU20ZBrdgWyD",
        "colab_type": "code",
        "outputId": "485c6658-bc58-4525-ad48-3560eb244660",
        "colab": {
          "base_uri": "https://localhost:8080/",
          "height": 211
        }
      },
      "source": [
        "# plot original and new\n",
        "plt.figure(figsize=(8,3))\n",
        "plt.plot(music)\n",
        "plt.plot([mark.choose() for x in range(12)])\n",
        "plt.show()"
      ],
      "execution_count": 0,
      "outputs": [
        {
          "output_type": "display_data",
          "data": {
            "image/png": "[encoded data removed]",
            "text/plain": [
              "<Figure size 576x216 with 1 Axes>"
            ]
          },
          "metadata": {
            "tags": []
          }
        }
      ]
    },
    {
      "cell_type": "markdown",
      "metadata": {
        "id": "25k0rB5b6i03",
        "colab_type": "text"
      },
      "source": [
        "Hopefully these simple sequence are helping your intuition develop, but let's move onto music now..."
      ]
    }
  ]
}