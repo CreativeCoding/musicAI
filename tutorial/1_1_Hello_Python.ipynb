{
  "nbformat": 4,
  "nbformat_minor": 0,
  "metadata": {
    "colab": {
      "name": "1.1 Hello Python.ipynb",
      "version": "0.3.2",
      "provenance": [],
      "collapsed_sections": [],
      "toc_visible": true,
      "include_colab_link": true
    },
    "kernelspec": {
      "name": "python3",
      "display_name": "Python 3"
    }
  },
  "cells": [
    {
      "cell_type": "markdown",
      "metadata": {
        "id": "view-in-github",
        "colab_type": "text"
      },
      "source": [
        "<a href=\"https://colab.research.google.com/github/davidkant/mai/blob/master/tutorial/1_1_Hello_Python.ipynb\" target=\"_parent\"><img src=\"https://colab.research.google.com/assets/colab-badge.svg\" alt=\"Open In Colab\"/></a>"
      ]
    },
    {
      "metadata": {
        "id": "-bEMPSTz3c60",
        "colab_type": "text"
      },
      "cell_type": "markdown",
      "source": [
        "# Welcome to Python!\n",
        "Welcome to **Python** and the **Google Colaboratory**. Google Colaboratory is a Python environment that runs in the cloud and integrates with Google Drive. It allows us to write, run, and view the results of Python code all in the browser. Notebooks are accessed, stored, and shared via Google Drive and run using a desktop web browser — I recommend Chrome. Google Colaboratory is a cloud-based version of [**Jupyter Notebook**](https://jupyter.org/), which doesn't run in the cloud. "
      ]
    },
    {
      "metadata": {
        "id": "-hZnrJZAbwvA",
        "colab_type": "text"
      },
      "cell_type": "markdown",
      "source": [
        "## About Python\n",
        "\n",
        "Python is a general purpose, high-level, dynamic programming language that emphasizes human readable code and supports multiple programming paradigms. Python is interpreted; we can run code line by line, rather than all at once, which is useful for stepping through complex algorithms. If you're familiar with languages like Java or C, you'll notice an absence of semicolons and curly braces in Python. That's because in Python whitespace is meaninful! More on that later."
      ]
    },
    {
      "metadata": {
        "id": "gHDduaHP3iIc",
        "colab_type": "text"
      },
      "cell_type": "markdown",
      "source": [
        "# Cells \n",
        "Code lives in individual blocks called *cells*. You write code within a cell and then execute that cell by selecting \"Run focused\" from the \"Runtime\" dropdown menu above. Alternatively, use the keyboard shortcut Ctrl+Enter. Navigate to the cell below and run it. "
      ]
    },
    {
      "metadata": {
        "id": "wPPRZzHo5wro",
        "colab_type": "code",
        "outputId": "adb083b9-8fa2-498e-e451-e95994535ac2",
        "colab": {
          "base_uri": "https://localhost:8080/",
          "height": 35
        }
      },
      "cell_type": "code",
      "source": [
        "print(\"Hello 80L!\")"
      ],
      "execution_count": 0,
      "outputs": [
        {
          "output_type": "stream",
          "text": [
            "Hello 80L!\n"
          ],
          "name": "stdout"
        }
      ]
    },
    {
      "metadata": {
        "id": "Aab8CsAP1TBc",
        "colab_type": "text"
      },
      "cell_type": "markdown",
      "source": [
        "# Hello World\n",
        "The first thing we usually do in any programming language is write the program *Hello World*, which prints the text \"Hello World\" to the console. In Python, use the `print()` function, placing what you want to display inside of the parenthesis `()`. Note: the quotation  marks `\"\"` do not print."
      ]
    },
    {
      "metadata": {
        "id": "eeZ8-R3Tn57s",
        "colab_type": "code",
        "outputId": "21d015df-1cee-4169-9e07-61f268097c3d",
        "colab": {
          "base_uri": "https://localhost:8080/",
          "height": 35
        }
      },
      "cell_type": "code",
      "source": [
        "print(\"Hello 80L!\")"
      ],
      "execution_count": 0,
      "outputs": [
        {
          "output_type": "stream",
          "text": [
            "Hello 80L!\n"
          ],
          "name": "stdout"
        }
      ]
    },
    {
      "metadata": {
        "id": "4sUGm87K6LNu",
        "colab_type": "text"
      },
      "cell_type": "markdown",
      "source": [
        "# The Python Interpreter\n",
        "`Print()` isn't the only way to see the resuls of your code. Code cells allow you to interact with the Python *interpreter*, which is what we call the program that executes your code. By default, whenever you execute a cell, the interpreter returns the result of that execution. Execute the cell below and you should see the result of your computation."
      ]
    },
    {
      "metadata": {
        "id": "9Zbek0s67Jos",
        "colab_type": "code",
        "outputId": "f1cfc1ae-d4b1-4f26-8677-8d3b938ce820",
        "colab": {
          "base_uri": "https://localhost:8080/",
          "height": 35
        }
      },
      "cell_type": "code",
      "source": [
        "1 + 2"
      ],
      "execution_count": 0,
      "outputs": [
        {
          "output_type": "execute_result",
          "data": {
            "text/plain": [
              "3"
            ]
          },
          "metadata": {
            "tags": []
          },
          "execution_count": 3
        }
      ]
    },
    {
      "metadata": {
        "id": "bBoyHmSY8QKg",
        "colab_type": "text"
      },
      "cell_type": "markdown",
      "source": [
        "What do you think we'll see when we run the cell below?... If the cell contains multiple lines of code, the interpreter executes *all* of the lines, but displays the result of the *last line only*."
      ]
    },
    {
      "metadata": {
        "id": "3TWCbDp88HFK",
        "colab_type": "code",
        "outputId": "50f08243-c473-4771-ac09-af70918696b8",
        "colab": {
          "base_uri": "https://localhost:8080/",
          "height": 35
        }
      },
      "cell_type": "code",
      "source": [
        "1 + 2\n",
        "2 + 3\n",
        "3 + 4\n",
        "4 + 5"
      ],
      "execution_count": 0,
      "outputs": [
        {
          "output_type": "execute_result",
          "data": {
            "text/plain": [
              "9"
            ]
          },
          "metadata": {
            "tags": []
          },
          "execution_count": 4
        }
      ]
    },
    {
      "metadata": {
        "id": "J8jsw1-o1xBR",
        "colab_type": "text"
      },
      "cell_type": "markdown",
      "source": [
        "Use `print()` to see the result of each line."
      ]
    },
    {
      "metadata": {
        "id": "BdEAbr6m12VZ",
        "colab_type": "code",
        "outputId": "74fcb7d4-23e3-4562-848c-70a37021d368",
        "colab": {
          "base_uri": "https://localhost:8080/",
          "height": 87
        }
      },
      "cell_type": "code",
      "source": [
        "print(1 + 2)\n",
        "print(2 + 3)\n",
        "print(3 + 4)\n",
        "print(4 + 5)"
      ],
      "execution_count": 0,
      "outputs": [
        {
          "output_type": "stream",
          "text": [
            "3\n",
            "5\n",
            "7\n",
            "9\n"
          ],
          "name": "stdout"
        }
      ]
    },
    {
      "metadata": {
        "id": "rBf6aj861XgS",
        "colab_type": "text"
      },
      "cell_type": "markdown",
      "source": [
        "# Comments\n",
        "A comment is code that is not executed by the interpreter. Comments are indicated by the pound symbol `#`. We'll use comments to make notes to ourselves about what our code does. Remember, comments are there for the computer programmer — that's you! — not the computer program."
      ]
    },
    {
      "metadata": {
        "id": "Wz9EoVEJ1YiI",
        "colab_type": "code",
        "outputId": "084cac02-dc3b-4c2d-dfd2-b5cdffa3a062",
        "colab": {
          "base_uri": "https://localhost:8080/",
          "height": 35
        }
      },
      "cell_type": "code",
      "source": [
        "# note to self, you can write anything here!\n",
        "print(\"Hello 80L!\")"
      ],
      "execution_count": 0,
      "outputs": [
        {
          "output_type": "stream",
          "text": [
            "Hello 80L!\n"
          ],
          "name": "stdout"
        }
      ]
    },
    {
      "metadata": {
        "id": "dWUEuRAy_xWI",
        "colab_type": "text"
      },
      "cell_type": "markdown",
      "source": [
        "# Python as a Calculator\n",
        "Computers are great for doing math, and Python is capable of performing all of the standard arithmetic operations: addition, subtraction, multiplication, division, and exponentiation."
      ]
    },
    {
      "metadata": {
        "id": "UHzDbq4kAPiy",
        "colab_type": "code",
        "outputId": "36951c14-a9bb-4850-cfff-64df32f2d157",
        "colab": {
          "base_uri": "https://localhost:8080/",
          "height": 156
        }
      },
      "cell_type": "code",
      "source": [
        "# addition\n",
        "print(79 + 1)\n",
        "\n",
        "# subtraction\n",
        "print(100 - 1)\n",
        "\n",
        "# multiplication\n",
        "print(2 * 5)\n",
        "\n",
        "# division\n",
        "print(33 / 11)\n",
        "\n",
        "# floor division (quotient)\n",
        "print(10 // 8)\n",
        "\n",
        "# modulo division (remainder)\n",
        "print(10 % 8)\n",
        "\n",
        "# exponents\n",
        "print(2**3)\n",
        "\n",
        "# complex expressions (order of operations)\n",
        "print(-2 + 3 * 4 - 10)"
      ],
      "execution_count": 0,
      "outputs": [
        {
          "output_type": "stream",
          "text": [
            "80\n",
            "99\n",
            "10\n",
            "3.0\n",
            "1\n",
            "2\n",
            "8\n",
            "0\n"
          ],
          "name": "stdout"
        }
      ]
    },
    {
      "metadata": {
        "id": "eUeLEcFdsZ1M",
        "colab_type": "text"
      },
      "cell_type": "markdown",
      "source": [
        "One of these numbers looks different than the others... Any idea why?"
      ]
    },
    {
      "metadata": {
        "id": "BWHaHw-8-XMS",
        "colab_type": "text"
      },
      "cell_type": "markdown",
      "source": [
        "# Variables\n",
        "A fundmental concept in computer programming is the *variable*. Variables allow us to keep track of data by storing it for later. Variables have both a *name* and a *value*. The process of *variable assignment* associates a variable name with a given value."
      ]
    },
    {
      "metadata": {
        "id": "S5Ap4i3pDT2o",
        "colab_type": "text"
      },
      "cell_type": "markdown",
      "source": [
        "In the cell below, `my_first_variable` is the variable name, `9` is the variable value, and the equals sign `=` assigns the value `9` to the name `my_first_variable`."
      ]
    },
    {
      "metadata": {
        "id": "XG70D1ASDFya",
        "colab_type": "code",
        "colab": {}
      },
      "cell_type": "code",
      "source": [
        "# declare my variable\n",
        "my_first_variable = 9"
      ],
      "execution_count": 0,
      "outputs": []
    },
    {
      "metadata": {
        "id": "OYNELlanD8dC",
        "colab_type": "text"
      },
      "cell_type": "markdown",
      "source": [
        "We can declare our variable in one cell and recall it in another. Variables *persist* between cells. In fact, variables persist throughout an entire notebook, allowing us to keep track of data from one cell to the next. BUT once you close the notebook, it's all over... "
      ]
    },
    {
      "metadata": {
        "id": "rN9BYog0DoJ0",
        "colab_type": "code",
        "outputId": "2bb08145-3ba1-4013-8484-817cf0aed66a",
        "colab": {
          "base_uri": "https://localhost:8080/",
          "height": 35
        }
      },
      "cell_type": "code",
      "source": [
        "# recall my variable\n",
        "print(my_first_variable)"
      ],
      "execution_count": 0,
      "outputs": [
        {
          "output_type": "stream",
          "text": [
            "9\n"
          ],
          "name": "stdout"
        }
      ]
    },
    {
      "metadata": {
        "id": "2_GS7trSnRDV",
        "colab_type": "text"
      },
      "cell_type": "markdown",
      "source": [
        "Note that when we print `my_first_variable` the *value* is printed, not the variable *name*."
      ]
    },
    {
      "metadata": {
        "id": "2lXwf5VnV882",
        "colab_type": "text"
      },
      "cell_type": "markdown",
      "source": [
        "The value of a variable *can* be modified once it's declared."
      ]
    },
    {
      "metadata": {
        "id": "sXqvzK2FWFda",
        "colab_type": "code",
        "outputId": "b62726ec-a980-4ae7-e950-f45c43b2e46a",
        "colab": {
          "base_uri": "https://localhost:8080/",
          "height": 35
        }
      },
      "cell_type": "code",
      "source": [
        "# change the value of my variable to 1\n",
        "my_first_variable = 1\n",
        "\n",
        "# and then print it\n",
        "print(my_first_variable)"
      ],
      "execution_count": 0,
      "outputs": [
        {
          "output_type": "stream",
          "text": [
            "1\n"
          ],
          "name": "stdout"
        }
      ]
    },
    {
      "metadata": {
        "id": "bfRnCTykWR6Y",
        "colab_type": "text"
      },
      "cell_type": "markdown",
      "source": [
        "We can even use the value of a variable to modify itself!"
      ]
    },
    {
      "metadata": {
        "id": "rFqxcUHIWWX6",
        "colab_type": "code",
        "outputId": "8fda486b-1551-4492-a9f9-a52585f4235d",
        "colab": {
          "base_uri": "https://localhost:8080/",
          "height": 35
        }
      },
      "cell_type": "code",
      "source": [
        "# increment value of my variable by 1\n",
        "my_first_variable = my_first_variable + 1\n",
        "\n",
        "# and then print it\n",
        "print(my_first_variable)"
      ],
      "execution_count": 0,
      "outputs": [
        {
          "output_type": "stream",
          "text": [
            "2\n"
          ],
          "name": "stdout"
        }
      ]
    },
    {
      "metadata": {
        "id": "ecXxoU6tpDrP",
        "colab_type": "text"
      },
      "cell_type": "markdown",
      "source": [
        "# Errors\n",
        "What happens if we use a variable name *before* we declare it? ...Say hello to your first *Error*. We'll definitely see a lot of these, so don't let all of that red text induce too much fear. The best way to become a better programmer is to get friendly with errors. Think of them as friendly reminders of what went wrong. In this case, the error message is telling us exactly what the problem is: we used a varaible name that is not defined."
      ]
    },
    {
      "metadata": {
        "id": "6qcM4njapHLj",
        "colab_type": "code",
        "outputId": "cc61ef68-ba7e-4959-b022-c25b2b97012b",
        "colab": {
          "base_uri": "https://localhost:8080/",
          "height": 167
        }
      },
      "cell_type": "code",
      "source": [
        "print(my_second_variable)"
      ],
      "execution_count": 0,
      "outputs": [
        {
          "output_type": "error",
          "ename": "NameError",
          "evalue": "ignored",
          "traceback": [
            "\u001b[0;31m---------------------------------------------------------------------------\u001b[0m",
            "\u001b[0;31mNameError\u001b[0m                                 Traceback (most recent call last)",
            "\u001b[0;32m<ipython-input-12-089bd48a38b4>\u001b[0m in \u001b[0;36m<module>\u001b[0;34m()\u001b[0m\n\u001b[0;32m----> 1\u001b[0;31m \u001b[0mprint\u001b[0m\u001b[0;34m(\u001b[0m\u001b[0mmy_second_variable\u001b[0m\u001b[0;34m)\u001b[0m\u001b[0;34m\u001b[0m\u001b[0;34m\u001b[0m\u001b[0m\n\u001b[0m",
            "\u001b[0;31mNameError\u001b[0m: name 'my_second_variable' is not defined"
          ]
        }
      ]
    },
    {
      "metadata": {
        "id": "29R_xkdpWwgC",
        "colab_type": "text"
      },
      "cell_type": "markdown",
      "source": [
        "\n",
        "# Numbers come in a few varieties\n",
        "A few cells up, when we divided `33` by  `11`, we got `3.0`, which looked a bit different because of the decimal point. Python distinguished between *integers* and *floating point* (or decimal) numbers. Integers (called *ints*) can only take on whole number values, where as floating point numbers (called *floats*) can take on fractional values as well. When we divided `33` by `11`, Python automatically converted the result to a float, because division often produces fractional results. For example: "
      ]
    },
    {
      "metadata": {
        "id": "g7NbueSVW7Pw",
        "colab_type": "code",
        "outputId": "90e4d4a8-f994-47d1-b2e8-4db69073a275",
        "colab": {
          "base_uri": "https://localhost:8080/",
          "height": 35
        }
      },
      "cell_type": "code",
      "source": [
        "33 / 10"
      ],
      "execution_count": 0,
      "outputs": [
        {
          "output_type": "execute_result",
          "data": {
            "text/plain": [
              "3.3"
            ]
          },
          "metadata": {
            "tags": []
          },
          "execution_count": 13
        }
      ]
    },
    {
      "metadata": {
        "id": "_STHMFqcZ48E",
        "colab_type": "text"
      },
      "cell_type": "markdown",
      "source": [
        "# Data Types\n",
        "The difference between `ints` and `floats` is an example of a more general computer science concept called *data types*. Data is classified into different  types, which determine the possible values the data can represent and the possible operations that can be performed on them. There are many data types, but we'll just need a few:\n",
        "\n",
        "* integers (`int`) represent whole numbers\n",
        "* floating point numbers (`float`) represent fractional numbers\n",
        "* booleans (`bool`) can take on either of two values, `True` or `False`\n",
        "* strings (`str`) is a sequence of characters, often used to represent words"
      ]
    },
    {
      "metadata": {
        "id": "JfQprtTqZ1-0",
        "colab_type": "code",
        "outputId": "c77d0ca6-aae0-439e-8b5c-2cb6cf9d0d2f",
        "colab": {
          "base_uri": "https://localhost:8080/",
          "height": 87
        }
      },
      "cell_type": "code",
      "source": [
        "# an intger\n",
        "print(1)\n",
        "\n",
        "# a boolean\n",
        "print(True)\n",
        "\n",
        "# a floating point\n",
        "print(1.0)\n",
        "\n",
        "# a string\n",
        "print(\"Hello 80L!\")"
      ],
      "execution_count": 0,
      "outputs": [
        {
          "output_type": "stream",
          "text": [
            "1\n",
            "True\n",
            "1.0\n",
            "Hello 80L!\n"
          ],
          "name": "stdout"
        }
      ]
    },
    {
      "metadata": {
        "id": "_rmb0FwM5xMT",
        "colab_type": "text"
      },
      "cell_type": "markdown",
      "source": [
        "In Python 3, we don't need to be super aware of basic data types because the interpreter infers much of it for us. This isn't the case, however, with many other programming languages, where you  need to be very careful with your data types!"
      ]
    },
    {
      "metadata": {
        "id": "7CMNl9B96f7h",
        "colab_type": "text"
      },
      "cell_type": "markdown",
      "source": [
        "# Strings vs variable names\n",
        "Strings are written with quotation makes `\"\"` to distinguish them from variable names. Why *doesn't* the following cell print? "
      ]
    },
    {
      "metadata": {
        "id": "pmbe0e4u7Gq4",
        "colab_type": "code",
        "outputId": "afb54577-43f1-4926-9696-8552b9e0b266",
        "colab": {
          "base_uri": "https://localhost:8080/",
          "height": 167
        }
      },
      "cell_type": "code",
      "source": [
        "print(Hello_80L)"
      ],
      "execution_count": 0,
      "outputs": [
        {
          "output_type": "error",
          "ename": "NameError",
          "evalue": "ignored",
          "traceback": [
            "\u001b[0;31m---------------------------------------------------------------------------\u001b[0m",
            "\u001b[0;31mNameError\u001b[0m                                 Traceback (most recent call last)",
            "\u001b[0;32m<ipython-input-15-8ffab7b767a8>\u001b[0m in \u001b[0;36m<module>\u001b[0;34m()\u001b[0m\n\u001b[0;32m----> 1\u001b[0;31m \u001b[0mprint\u001b[0m\u001b[0;34m(\u001b[0m\u001b[0mHello_80L\u001b[0m\u001b[0;34m)\u001b[0m\u001b[0;34m\u001b[0m\u001b[0;34m\u001b[0m\u001b[0m\n\u001b[0m",
            "\u001b[0;31mNameError\u001b[0m: name 'Hello_80L' is not defined"
          ]
        }
      ]
    },
    {
      "metadata": {
        "id": "MJWDWie-70ps",
        "colab_type": "text"
      },
      "cell_type": "markdown",
      "source": [
        "Since `Hello_80L` is written *without* quotation marks, the interpreter treats it as a *variable name*. That variable name, however, has not be defined yet, so we get an error. How would you fix the code to print \"Hello_80L\"? One option would be to add quotation marks, making it a *string*."
      ]
    },
    {
      "metadata": {
        "id": "xDhu3zhP7M1A",
        "colab_type": "code",
        "outputId": "a97ab26a-3066-48ad-8c98-69bb127afb2f",
        "colab": {
          "base_uri": "https://localhost:8080/",
          "height": 35
        }
      },
      "cell_type": "code",
      "source": [
        "print(\"Hello_80L\")"
      ],
      "execution_count": 0,
      "outputs": [
        {
          "output_type": "stream",
          "text": [
            "Hello_80L\n"
          ],
          "name": "stdout"
        }
      ]
    },
    {
      "metadata": {
        "id": "KgBLhNtv-dik",
        "colab_type": "text"
      },
      "cell_type": "markdown",
      "source": [
        "# Lists\n",
        "A *data structure* is a way of organzing, storing, and structuring data within a computer program. Often we'll want to collect together many values in order represent something — a piece of music, for example! Data structures define relationships among a collection of values, as well as operations on them, and different data structures reflect different ideas about how to represent information. \n",
        "\n",
        "There are many many ways of reprsenting data, but throughout this course the *list* will be the most commonly used. A list is an ordered set of elements. It is delimitted by square brackets `[]` and the elements are separated by commas `,`."
      ]
    },
    {
      "metadata": {
        "id": "dYCjuONqZCrg",
        "colab_type": "code",
        "outputId": "44625ff7-2c22-4652-c6fe-ddf47cfaedef",
        "colab": {
          "base_uri": "https://localhost:8080/",
          "height": 35
        }
      },
      "cell_type": "code",
      "source": [
        "# a simple list of numbers\n",
        "my_first_list = [1, 2, 3, 4, 5]\n",
        "\n",
        "# and print it\n",
        "print(my_first_list)"
      ],
      "execution_count": 0,
      "outputs": [
        {
          "output_type": "stream",
          "text": [
            "[1, 2, 3, 4, 5]\n"
          ],
          "name": "stdout"
        }
      ]
    },
    {
      "metadata": {
        "id": "XSpO4vc6Zlg8",
        "colab_type": "text"
      },
      "cell_type": "markdown",
      "source": [
        "The elements of a list do not have to all be the same type."
      ]
    },
    {
      "metadata": {
        "id": "Mgy87n0RbTiK",
        "colab_type": "code",
        "outputId": "8771048b-77f4-4934-f408-adc1a2354fa7",
        "colab": {
          "base_uri": "https://localhost:8080/",
          "height": 35
        }
      },
      "cell_type": "code",
      "source": [
        "# a simple list of mixed types\n",
        "my_mixed_type_list = [1, True, 1.0, \"Hello 80L!\"]\n",
        "\n",
        "# and print it\n",
        "print(my_mixed_type_list)"
      ],
      "execution_count": 0,
      "outputs": [
        {
          "output_type": "stream",
          "text": [
            "[1, True, 1.0, 'Hello 80L!']\n"
          ],
          "name": "stdout"
        }
      ]
    },
    {
      "metadata": {
        "id": "vzEmkGAscEvc",
        "colab_type": "text"
      },
      "cell_type": "markdown",
      "source": [
        "## Accessing list elements \n",
        "You can access individual elements of a list according to their position (called *index*), written using square brackets. Note, compuer scientists like to  **count from 0!**"
      ]
    },
    {
      "metadata": {
        "id": "ZqVaibTwcEZa",
        "colab_type": "code",
        "outputId": "c888ba02-cd8b-4c20-9bb0-7221dd5d26d0",
        "colab": {
          "base_uri": "https://localhost:8080/",
          "height": 69
        }
      },
      "cell_type": "code",
      "source": [
        "# accesss the first element of my list (index 0)\n",
        "print(my_first_list[0])\n",
        "\n",
        "# accesss the second element of my list (index 1)\n",
        "print(my_first_list[1])\n",
        "\n",
        "# accesss the third element of my list (index 2)\n",
        "print(my_first_list[2])"
      ],
      "execution_count": 0,
      "outputs": [
        {
          "output_type": "stream",
          "text": [
            "1\n",
            "2\n",
            "3\n"
          ],
          "name": "stdout"
        }
      ]
    },
    {
      "metadata": {
        "id": "a-PzXnx3cuuK",
        "colab_type": "text"
      },
      "cell_type": "markdown",
      "source": [
        "What happens if you try to access an element that does not exist? Here's error number two..."
      ]
    },
    {
      "metadata": {
        "id": "OgdNiKx6cyaU",
        "colab_type": "code",
        "outputId": "9cea6b60-0e58-4cbf-916a-3961818fb800",
        "colab": {
          "base_uri": "https://localhost:8080/",
          "height": 167
        }
      },
      "cell_type": "code",
      "source": [
        "# accesss the sixth element of my list\n",
        "print(my_first_list[5])"
      ],
      "execution_count": 0,
      "outputs": [
        {
          "output_type": "error",
          "ename": "IndexError",
          "evalue": "ignored",
          "traceback": [
            "\u001b[0;31m---------------------------------------------------------------------------\u001b[0m",
            "\u001b[0;31mIndexError\u001b[0m                                Traceback (most recent call last)",
            "\u001b[0;32m<ipython-input-20-d4b77bef8e57>\u001b[0m in \u001b[0;36m<module>\u001b[0;34m()\u001b[0m\n\u001b[0;32m----> 1\u001b[0;31m \u001b[0mprint\u001b[0m\u001b[0;34m(\u001b[0m\u001b[0mmy_first_list\u001b[0m\u001b[0;34m[\u001b[0m\u001b[0;36m5\u001b[0m\u001b[0;34m]\u001b[0m\u001b[0;34m)\u001b[0m\u001b[0;34m\u001b[0m\u001b[0;34m\u001b[0m\u001b[0m\n\u001b[0m",
            "\u001b[0;31mIndexError\u001b[0m: list index out of range"
          ]
        }
      ]
    },
    {
      "metadata": {
        "id": "1UxCRh7FBg31",
        "colab_type": "text"
      },
      "cell_type": "markdown",
      "source": [
        "Often you'll need the last (most recently added) element of your list. You can access the last element using the index `-1`."
      ]
    },
    {
      "metadata": {
        "id": "iV1cjc8XBoT8",
        "colab_type": "code",
        "outputId": "6d5208c0-fda0-4138-c80d-1eb4223eeb28",
        "colab": {
          "base_uri": "https://localhost:8080/",
          "height": 35
        }
      },
      "cell_type": "code",
      "source": [
        "# last element of the list\n",
        "print(my_first_list[-1])"
      ],
      "execution_count": 0,
      "outputs": [
        {
          "output_type": "stream",
          "text": [
            "5\n"
          ],
          "name": "stdout"
        }
      ]
    },
    {
      "metadata": {
        "id": "QTHGH8zydDwC",
        "colab_type": "text"
      },
      "cell_type": "markdown",
      "source": [
        "## Adding elements to a list\n",
        "We can add an element to our list after it is created."
      ]
    },
    {
      "metadata": {
        "id": "SabSuHh9dIbq",
        "colab_type": "code",
        "outputId": "397cabe2-a1e4-47f7-8ae7-c3565faaf17f",
        "colab": {
          "base_uri": "https://localhost:8080/",
          "height": 35
        }
      },
      "cell_type": "code",
      "source": [
        "# add a sixth element to my list\n",
        "my_first_list = my_first_list + [6]\n",
        "\n",
        "# and print it\n",
        "print(my_first_list)"
      ],
      "execution_count": 0,
      "outputs": [
        {
          "output_type": "stream",
          "text": [
            "[1, 2, 3, 4, 5, 6]\n"
          ],
          "name": "stdout"
        }
      ]
    },
    {
      "metadata": {
        "id": "X3_GUTUWrdEv",
        "colab_type": "text"
      },
      "cell_type": "markdown",
      "source": [
        "We'll do this so much that often you'll see it written using the shortcut `+=`"
      ]
    },
    {
      "metadata": {
        "id": "cs6LtOkHriTx",
        "colab_type": "code",
        "outputId": "20f4147e-d89c-4fdf-8f64-d150d5c33dd7",
        "colab": {
          "base_uri": "https://localhost:8080/",
          "height": 35
        }
      },
      "cell_type": "code",
      "source": [
        "# add a seventh element to my list\n",
        "my_first_list += [7]\n",
        "\n",
        "# and print it\n",
        "print(my_first_list)"
      ],
      "execution_count": 0,
      "outputs": [
        {
          "output_type": "stream",
          "text": [
            "[1, 2, 3, 4, 5, 6, 7]\n"
          ],
          "name": "stdout"
        }
      ]
    },
    {
      "metadata": {
        "id": "ZSvu64FcdSbw",
        "colab_type": "text"
      },
      "cell_type": "markdown",
      "source": [
        "For all you set theorists out there, the empty list exists! Often we'll start with an empty list and incrementally add more and more elements to it."
      ]
    },
    {
      "metadata": {
        "id": "4_9VMUYxZWuo",
        "colab_type": "code",
        "outputId": "429380cf-2009-4d2c-c42e-8668783e3289",
        "colab": {
          "base_uri": "https://localhost:8080/",
          "height": 52
        }
      },
      "cell_type": "code",
      "source": [
        "# start from an empty list\n",
        "empty_list = []\n",
        "print(empty_list)\n",
        "\n",
        "# and add elements to it\n",
        "empty_list += [\"Not so empty anymore\"]\n",
        "print(empty_list)"
      ],
      "execution_count": 0,
      "outputs": [
        {
          "output_type": "stream",
          "text": [
            "[]\n",
            "['Not so empty anymore']\n"
          ],
          "name": "stdout"
        }
      ]
    },
    {
      "metadata": {
        "id": "Nd5wadPRCXwa",
        "colab_type": "text"
      },
      "cell_type": "markdown",
      "source": [
        "##Other useful list properties\n",
        "You can get the length of your list by writing `len()`. Note, in this cell, `len()` is a *function* and your list is passed as an *argument* to that function, but we'll learn about functions and arguments next week."
      ]
    },
    {
      "metadata": {
        "id": "JAyR-QscCxIF",
        "colab_type": "code",
        "outputId": "d4f2f9b5-2093-4720-899a-8ef612472295",
        "colab": {
          "base_uri": "https://localhost:8080/",
          "height": 35
        }
      },
      "cell_type": "code",
      "source": [
        "# length of my list\n",
        "print(len(my_first_list))"
      ],
      "execution_count": 0,
      "outputs": [
        {
          "output_type": "stream",
          "text": [
            "7\n"
          ],
          "name": "stdout"
        }
      ]
    },
    {
      "metadata": {
        "id": "TIrTUPuHckuO",
        "colab_type": "text"
      },
      "cell_type": "markdown",
      "source": [
        "Other useful list functions include `min()` and `max()`,  which give the minimum and maximum elements."
      ]
    },
    {
      "metadata": {
        "id": "fJ-g9GZ9csg9",
        "colab_type": "code",
        "outputId": "2fc0a9db-5ffb-4272-9009-6f8cb4c28f08",
        "colab": {
          "base_uri": "https://localhost:8080/",
          "height": 52
        }
      },
      "cell_type": "code",
      "source": [
        "# max element\n",
        "print(max(my_first_list))\n",
        "\n",
        "# min element\n",
        "print(min(my_first_list))"
      ],
      "execution_count": 0,
      "outputs": [
        {
          "output_type": "stream",
          "text": [
            "7\n",
            "1\n"
          ],
          "name": "stdout"
        }
      ]
    },
    {
      "metadata": {
        "id": "Nz9Q9SDile1L",
        "colab_type": "text"
      },
      "cell_type": "markdown",
      "source": [
        "## Generating Lists\n",
        "You can always write a list explicitly, which means writing out all of the values between square brackets `[1,2,3,4]`, but what if you want to generate a list using an algorithm or procedure? Python has a nifty *list comprehension* feature (which is really a clever version of a very classic computer science structure called a *for loop* but more on *for loops* next time). Try the next few cells to see if you can intuit what is going on here..."
      ]
    },
    {
      "metadata": {
        "id": "W1Qh_JrGmEbC",
        "colab_type": "code",
        "outputId": "4f288de1-84de-464b-8e05-7998f53e3c7b",
        "colab": {
          "base_uri": "https://localhost:8080/",
          "height": 35
        }
      },
      "cell_type": "code",
      "source": [
        "[x for x in range(5)]"
      ],
      "execution_count": 0,
      "outputs": [
        {
          "output_type": "execute_result",
          "data": {
            "text/plain": [
              "[0, 1, 2, 3, 4]"
            ]
          },
          "metadata": {
            "tags": []
          },
          "execution_count": 28
        }
      ]
    },
    {
      "metadata": {
        "id": "PZ2ZE4p_ZyLN",
        "colab_type": "code",
        "outputId": "621f2f50-b90a-41f4-8581-0fce289c9f2b",
        "colab": {
          "base_uri": "https://localhost:8080/",
          "height": 35
        }
      },
      "cell_type": "code",
      "source": [
        "[x for x in range(10)]"
      ],
      "execution_count": 0,
      "outputs": [
        {
          "output_type": "execute_result",
          "data": {
            "text/plain": [
              "[0, 1, 2, 3, 4, 5, 6, 7, 8, 9]"
            ]
          },
          "metadata": {
            "tags": []
          },
          "execution_count": 29
        }
      ]
    },
    {
      "metadata": {
        "id": "1bRkQ89amIC_",
        "colab_type": "code",
        "outputId": "1efb8e1e-e8f0-43de-95d8-c99fba70bbe9",
        "colab": {
          "base_uri": "https://localhost:8080/",
          "height": 35
        }
      },
      "cell_type": "code",
      "source": [
        "[x**2 for x in range(10)]"
      ],
      "execution_count": 0,
      "outputs": [
        {
          "output_type": "execute_result",
          "data": {
            "text/plain": [
              "[0, 1, 4, 9, 16, 25, 36, 49, 64, 81]"
            ]
          },
          "metadata": {
            "tags": []
          },
          "execution_count": 30
        }
      ]
    },
    {
      "metadata": {
        "id": "JO-Z44Bbse6i",
        "colab_type": "text"
      },
      "cell_type": "markdown",
      "source": [
        "OKSO, the value between the parenthesis of `range()` determines the highest number in the list, and the expression `x**2` applies a function to each item in the list. Basically, we're looping through the values `0` to whatever-our-highest-value-is, applying a function to each element, and collecting it all back together into a new list. Pretty nifty."
      ]
    },
    {
      "metadata": {
        "id": "IyDGXrwVuIDq",
        "colab_type": "text"
      },
      "cell_type": "markdown",
      "source": [
        "# But how is this music?\n",
        "Here's the big question of the clas: how do we turn these lists of numbers into music? See the next section to find out."
      ]
    },
    {
      "metadata": {
        "id": "cN7LqUNf2j2-",
        "colab_type": "text"
      },
      "cell_type": "markdown",
      "source": [
        "# Getting Help\n",
        "There are a few ways to get help with Python, including Python's built-in `help()` function, the [Python Documentation](https://docs.python.org/3.7/), and the internet, including Google, but [Stack Overflow](https://stackoverflow.com/) is also a great place to search for answers. To use the built-in help, write `help()` and put whatever you're curious about between the parenthesis."
      ]
    },
    {
      "metadata": {
        "id": "QSwKqsijFYcn",
        "colab_type": "code",
        "outputId": "dbe9a607-6ccc-47b3-d2d7-810ebc3557a4",
        "colab": {
          "base_uri": "https://localhost:8080/",
          "height": 2083
        }
      },
      "cell_type": "code",
      "source": [
        "help([1,2])"
      ],
      "execution_count": 0,
      "outputs": [
        {
          "output_type": "stream",
          "text": [
            "Help on list object:\n",
            "\n",
            "class list(object)\n",
            " |  list() -> new empty list\n",
            " |  list(iterable) -> new list initialized from iterable's items\n",
            " |  \n",
            " |  Methods defined here:\n",
            " |  \n",
            " |  __add__(self, value, /)\n",
            " |      Return self+value.\n",
            " |  \n",
            " |  __contains__(self, key, /)\n",
            " |      Return key in self.\n",
            " |  \n",
            " |  __delitem__(self, key, /)\n",
            " |      Delete self[key].\n",
            " |  \n",
            " |  __eq__(self, value, /)\n",
            " |      Return self==value.\n",
            " |  \n",
            " |  __ge__(self, value, /)\n",
            " |      Return self>=value.\n",
            " |  \n",
            " |  __getattribute__(self, name, /)\n",
            " |      Return getattr(self, name).\n",
            " |  \n",
            " |  __getitem__(...)\n",
            " |      x.__getitem__(y) <==> x[y]\n",
            " |  \n",
            " |  __gt__(self, value, /)\n",
            " |      Return self>value.\n",
            " |  \n",
            " |  __iadd__(self, value, /)\n",
            " |      Implement self+=value.\n",
            " |  \n",
            " |  __imul__(self, value, /)\n",
            " |      Implement self*=value.\n",
            " |  \n",
            " |  __init__(self, /, *args, **kwargs)\n",
            " |      Initialize self.  See help(type(self)) for accurate signature.\n",
            " |  \n",
            " |  __iter__(self, /)\n",
            " |      Implement iter(self).\n",
            " |  \n",
            " |  __le__(self, value, /)\n",
            " |      Return self<=value.\n",
            " |  \n",
            " |  __len__(self, /)\n",
            " |      Return len(self).\n",
            " |  \n",
            " |  __lt__(self, value, /)\n",
            " |      Return self<value.\n",
            " |  \n",
            " |  __mul__(self, value, /)\n",
            " |      Return self*value.\n",
            " |  \n",
            " |  __ne__(self, value, /)\n",
            " |      Return self!=value.\n",
            " |  \n",
            " |  __new__(*args, **kwargs) from builtins.type\n",
            " |      Create and return a new object.  See help(type) for accurate signature.\n",
            " |  \n",
            " |  __repr__(self, /)\n",
            " |      Return repr(self).\n",
            " |  \n",
            " |  __reversed__(...)\n",
            " |      L.__reversed__() -- return a reverse iterator over the list\n",
            " |  \n",
            " |  __rmul__(self, value, /)\n",
            " |      Return value*self.\n",
            " |  \n",
            " |  __setitem__(self, key, value, /)\n",
            " |      Set self[key] to value.\n",
            " |  \n",
            " |  __sizeof__(...)\n",
            " |      L.__sizeof__() -- size of L in memory, in bytes\n",
            " |  \n",
            " |  append(...)\n",
            " |      L.append(object) -> None -- append object to end\n",
            " |  \n",
            " |  clear(...)\n",
            " |      L.clear() -> None -- remove all items from L\n",
            " |  \n",
            " |  copy(...)\n",
            " |      L.copy() -> list -- a shallow copy of L\n",
            " |  \n",
            " |  count(...)\n",
            " |      L.count(value) -> integer -- return number of occurrences of value\n",
            " |  \n",
            " |  extend(...)\n",
            " |      L.extend(iterable) -> None -- extend list by appending elements from the iterable\n",
            " |  \n",
            " |  index(...)\n",
            " |      L.index(value, [start, [stop]]) -> integer -- return first index of value.\n",
            " |      Raises ValueError if the value is not present.\n",
            " |  \n",
            " |  insert(...)\n",
            " |      L.insert(index, object) -- insert object before index\n",
            " |  \n",
            " |  pop(...)\n",
            " |      L.pop([index]) -> item -- remove and return item at index (default last).\n",
            " |      Raises IndexError if list is empty or index is out of range.\n",
            " |  \n",
            " |  remove(...)\n",
            " |      L.remove(value) -> None -- remove first occurrence of value.\n",
            " |      Raises ValueError if the value is not present.\n",
            " |  \n",
            " |  reverse(...)\n",
            " |      L.reverse() -- reverse *IN PLACE*\n",
            " |  \n",
            " |  sort(...)\n",
            " |      L.sort(key=None, reverse=False) -> None -- stable sort *IN PLACE*\n",
            " |  \n",
            " |  ----------------------------------------------------------------------\n",
            " |  Data and other attributes defined here:\n",
            " |  \n",
            " |  __hash__ = None\n",
            "\n"
          ],
          "name": "stdout"
        }
      ]
    }
  ]
}