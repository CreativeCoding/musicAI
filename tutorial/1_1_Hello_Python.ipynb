{
  "nbformat": 4,
  "nbformat_minor": 0,
  "metadata": {
    "colab": {
      "name": "1.1 Hello Python.ipynb",
      "version": "0.3.2",
      "provenance": [],
      "collapsed_sections": [],
      "include_colab_link": true
    },
    "kernelspec": {
      "name": "python2",
      "display_name": "Python 2"
    }
  },
  "cells": [
    {
      "cell_type": "markdown",
      "metadata": {
        "id": "view-in-github",
        "colab_type": "text"
      },
      "source": [
        "[View in Colaboratory](https://colab.research.google.com/github/davidkant/mai/blob/master/tutorial/1_1_Hello_Python.ipynb)"
      ]
    },
    {
      "metadata": {
        "id": "-bEMPSTz3c60",
        "colab_type": "text"
      },
      "cell_type": "markdown",
      "source": [
        "# Welcome to Python!\n",
        "Welcome to **Python** and the **Google Colaboratory** notebook. Google Colaboratory a Python environment based on **Jupyter notebook** that runs in the cloud. Notebooks are accessed, stored, and shared via Google Drive and run using a desktop web browser — I recommend Chrome. \n",
        "* Python is the programming language\n",
        "* Google Colaboratory is a cloud-based browser application that allow us to write and view the results of Python code\n",
        "* Google Colaboratory is based on the Jupyter Notebook, which doesn't run in the cloud!"
      ]
    },
    {
      "metadata": {
        "id": "-hZnrJZAbwvA",
        "colab_type": "text"
      },
      "cell_type": "markdown",
      "source": [
        "## About Python\n",
        "\n",
        "Python is an interpreted, general purpose, high-level, readable, and dynamic programming language that supports multiple programming paradigms. If you're familiar with languages like Java or C, you'll notice an absence of semicolons and curly braces in Python. That's because in Python whitespace is meaninful!"
      ]
    },
    {
      "metadata": {
        "id": "gHDduaHP3iIc",
        "colab_type": "text"
      },
      "cell_type": "markdown",
      "source": [
        "# Cells \n",
        "Code lives in indivudal blocks called \"cells.\" You write code within a cell and then execute that cell by selecting \"Run focused\" from the \"Runtime\" dropdown menu above. Alternatively, use the keyboard shortcut Ctrl+Enter. Navigate to the cell below and run it. "
      ]
    },
    {
      "metadata": {
        "id": "wPPRZzHo5wro",
        "colab_type": "code",
        "colab": {
          "base_uri": "https://localhost:8080/",
          "height": 35
        },
        "outputId": "5b978c00-63d1-407a-b4c3-09c440590af7"
      },
      "cell_type": "code",
      "source": [
        "print \"Hello 80L!\""
      ],
      "execution_count": 1,
      "outputs": [
        {
          "output_type": "stream",
          "text": [
            "Hello 80L!\n"
          ],
          "name": "stdout"
        }
      ]
    },
    {
      "metadata": {
        "id": "Aab8CsAP1TBc",
        "colab_type": "text"
      },
      "cell_type": "markdown",
      "source": [
        "# Hello World: Print\n",
        "The first thing we usually do in any programming language is \"Hello World!\" In Python, use the `print` statement to print to the console."
      ]
    },
    {
      "metadata": {
        "id": "eeZ8-R3Tn57s",
        "colab_type": "code",
        "colab": {
          "base_uri": "https://localhost:8080/",
          "height": 35
        },
        "outputId": "a365f889-7397-494f-8954-cf4428f4a2e6"
      },
      "cell_type": "code",
      "source": [
        "print \"Hello 80L!\""
      ],
      "execution_count": 2,
      "outputs": [
        {
          "output_type": "stream",
          "text": [
            "Hello 80L!\n"
          ],
          "name": "stdout"
        }
      ]
    },
    {
      "metadata": {
        "id": "4sUGm87K6LNu",
        "colab_type": "text"
      },
      "cell_type": "markdown",
      "source": [
        "# The Python Interpreter\n",
        "`Print` isn't the only way to see the resuls of your code. Code cells allow you to interact with the Python *interpreter*, which is what we call the program that executes your code. By default, whenever you execute a cell, the interpreter returns the result of that execution. Execute the cell below and you should see the result of your computation."
      ]
    },
    {
      "metadata": {
        "id": "9Zbek0s67Jos",
        "colab_type": "code",
        "colab": {
          "base_uri": "https://localhost:8080/",
          "height": 35
        },
        "outputId": "da55f9bc-7a65-4ae1-d920-debb10067ee4"
      },
      "cell_type": "code",
      "source": [
        "1 + 2"
      ],
      "execution_count": 3,
      "outputs": [
        {
          "output_type": "execute_result",
          "data": {
            "text/plain": [
              "3"
            ]
          },
          "metadata": {
            "tags": []
          },
          "execution_count": 3
        }
      ]
    },
    {
      "metadata": {
        "id": "bBoyHmSY8QKg",
        "colab_type": "text"
      },
      "cell_type": "markdown",
      "source": [
        "What do you think we'll see when we run the cell below?... If the cell contains multiple lines of code, the interpreter displays the result of the last line only."
      ]
    },
    {
      "metadata": {
        "id": "3TWCbDp88HFK",
        "colab_type": "code",
        "colab": {
          "base_uri": "https://localhost:8080/",
          "height": 35
        },
        "outputId": "fe880c27-c34d-45b1-8410-499dd6c448e6"
      },
      "cell_type": "code",
      "source": [
        "1 + 2\n",
        "2 + 3\n",
        "3 + 4\n",
        "4 + 5"
      ],
      "execution_count": 4,
      "outputs": [
        {
          "output_type": "execute_result",
          "data": {
            "text/plain": [
              "9"
            ]
          },
          "metadata": {
            "tags": []
          },
          "execution_count": 4
        }
      ]
    },
    {
      "metadata": {
        "id": "rBf6aj861XgS",
        "colab_type": "text"
      },
      "cell_type": "markdown",
      "source": [
        "# Comments\n",
        "A comment is code that is not executed by the interpreter. Comments are indicated by the pound symbol `#`. We'll use comments to make notes to ourselves about what our code does. Remember, comments are there for the computer programmer — that's you! — not the computer program."
      ]
    },
    {
      "metadata": {
        "id": "Wz9EoVEJ1YiI",
        "colab_type": "code",
        "colab": {
          "base_uri": "https://localhost:8080/",
          "height": 35
        },
        "outputId": "7a8f9dd3-527e-4ab1-c52a-1dc9fdc47759"
      },
      "cell_type": "code",
      "source": [
        "# note to self, you can write anything here!\n",
        "print \"Hello 80L!\""
      ],
      "execution_count": 5,
      "outputs": [
        {
          "output_type": "stream",
          "text": [
            "Hello 80L!\n"
          ],
          "name": "stdout"
        }
      ]
    },
    {
      "metadata": {
        "id": "dWUEuRAy_xWI",
        "colab_type": "text"
      },
      "cell_type": "markdown",
      "source": [
        "# Python as a Calculator\n",
        "Computers are great for doing math. Python is capable of performing all of the standard arithmetic operations: addition, subtraction, multiplication, division, and exponentiation."
      ]
    },
    {
      "metadata": {
        "id": "UHzDbq4kAPiy",
        "colab_type": "code",
        "colab": {
          "base_uri": "https://localhost:8080/",
          "height": 162
        },
        "outputId": "235a1f78-d9dc-44e2-c171-abd9b7081c85"
      },
      "cell_type": "code",
      "source": [
        "# addition\n",
        "print 79 + 1\n",
        "\n",
        "# subtraction\n",
        "print 100 - 1\n",
        "\n",
        "# multiplication\n",
        "print 2 * 5\n",
        "\n",
        "# division\n",
        "print 33 / 11\n",
        "\n",
        "# floor division (quotient)\n",
        "print 10 // 8\n",
        "\n",
        "# modulo division (remainder)\n",
        "print 10 % 8\n",
        "\n",
        "# exponents\n",
        "print 2**3\n",
        "\n",
        "# complex expressions (order of operations)\n",
        "print -2 + 3 * 4 - 10"
      ],
      "execution_count": 6,
      "outputs": [
        {
          "output_type": "stream",
          "text": [
            "80\n",
            "99\n",
            "10\n",
            "3\n",
            "1\n",
            "2\n",
            "8\n",
            "0\n"
          ],
          "name": "stdout"
        }
      ]
    },
    {
      "metadata": {
        "id": "BWHaHw-8-XMS",
        "colab_type": "text"
      },
      "cell_type": "markdown",
      "source": [
        "# Variables\n",
        "A fundmantal concept in computer programming is the variable. Variables allow us to keep track of data by storing it for later. Variables have both a *name* and a *value*. The process of *variable assignment* associates a variable name with a given value."
      ]
    },
    {
      "metadata": {
        "id": "S5Ap4i3pDT2o",
        "colab_type": "text"
      },
      "cell_type": "markdown",
      "source": [
        "In the cell below, `my_first_variable` is the variable name, `9` is the variable value, and the eqausl sign `=` assigns the value `9` to the name `my_first_variable`."
      ]
    },
    {
      "metadata": {
        "id": "XG70D1ASDFya",
        "colab_type": "code",
        "colab": {}
      },
      "cell_type": "code",
      "source": [
        "# declare my variable\n",
        "my_first_variable = 9"
      ],
      "execution_count": 0,
      "outputs": []
    },
    {
      "metadata": {
        "id": "OYNELlanD8dC",
        "colab_type": "text"
      },
      "cell_type": "markdown",
      "source": [
        "We can declare our variable in one cell and recall it in another. Variables *persist* between cells. In fact, variables persist throughout an entire notebook, allowing us to keep track of data from one cell to the next. BUT once you close the notebook, it's all over... "
      ]
    },
    {
      "metadata": {
        "id": "rN9BYog0DoJ0",
        "colab_type": "code",
        "colab": {
          "base_uri": "https://localhost:8080/",
          "height": 35
        },
        "outputId": "4a24cf35-87ca-481c-d160-1e84c21bbc1e"
      },
      "cell_type": "code",
      "source": [
        "# recall my variable\n",
        "print my_first_variable"
      ],
      "execution_count": 8,
      "outputs": [
        {
          "output_type": "stream",
          "text": [
            "9\n"
          ],
          "name": "stdout"
        }
      ]
    },
    {
      "metadata": {
        "id": "2lXwf5VnV882",
        "colab_type": "text"
      },
      "cell_type": "markdown",
      "source": [
        "The value of a variable can be modified once it's declared."
      ]
    },
    {
      "metadata": {
        "id": "sXqvzK2FWFda",
        "colab_type": "code",
        "colab": {
          "base_uri": "https://localhost:8080/",
          "height": 35
        },
        "outputId": "3d1edd84-2e4f-438d-b4ad-4aed8484c84c"
      },
      "cell_type": "code",
      "source": [
        "# change the value of my variable to 1\n",
        "my_first_variable = 1\n",
        "print my_first_variable"
      ],
      "execution_count": 9,
      "outputs": [
        {
          "output_type": "stream",
          "text": [
            "1\n"
          ],
          "name": "stdout"
        }
      ]
    },
    {
      "metadata": {
        "id": "bfRnCTykWR6Y",
        "colab_type": "text"
      },
      "cell_type": "markdown",
      "source": [
        "We can even use the value of a variable to modify itself!"
      ]
    },
    {
      "metadata": {
        "id": "rFqxcUHIWWX6",
        "colab_type": "code",
        "colab": {
          "base_uri": "https://localhost:8080/",
          "height": 35
        },
        "outputId": "b0f3f844-8337-405a-9b4d-20b13b54e6ef"
      },
      "cell_type": "code",
      "source": [
        "# increment value of my variable by 1\n",
        "my_first_variable = my_first_variable + 1\n",
        "print my_first_variable"
      ],
      "execution_count": 10,
      "outputs": [
        {
          "output_type": "stream",
          "text": [
            "2\n"
          ],
          "name": "stdout"
        }
      ]
    },
    {
      "metadata": {
        "id": "ecXxoU6tpDrP",
        "colab_type": "text"
      },
      "cell_type": "markdown",
      "source": [
        "# Errors\n",
        "What happens if we use a variable name *before* we declare it? ...Say hello to your first *Error*. We'll definitely see a lot of these, so don't let all of that red text induce too much fear. The best way to become a better programmer is to get friendly with errors. Think of them as friendly reminders of what went wrong. In this case, the error message is telling us exactly what the problem is: we used a varaible name that is not defined."
      ]
    },
    {
      "metadata": {
        "id": "6qcM4njapHLj",
        "colab_type": "code",
        "colab": {
          "base_uri": "https://localhost:8080/",
          "height": 170
        },
        "outputId": "54919c41-296e-4a4e-ee4b-f407f440dfd0"
      },
      "cell_type": "code",
      "source": [
        "print my_second_variable"
      ],
      "execution_count": 11,
      "outputs": [
        {
          "output_type": "error",
          "ename": "NameError",
          "evalue": "ignored",
          "traceback": [
            "\u001b[0;31m\u001b[0m",
            "\u001b[0;31mNameError\u001b[0mTraceback (most recent call last)",
            "\u001b[0;32m<ipython-input-11-b40c88e0c63d>\u001b[0m in \u001b[0;36m<module>\u001b[0;34m()\u001b[0m\n\u001b[0;32m----> 1\u001b[0;31m \u001b[0;32mprint\u001b[0m \u001b[0mmy_second_variable\u001b[0m\u001b[0;34m\u001b[0m\u001b[0m\n\u001b[0m",
            "\u001b[0;31mNameError\u001b[0m: name 'my_second_variable' is not defined"
          ]
        }
      ]
    },
    {
      "metadata": {
        "id": "29R_xkdpWwgC",
        "colab_type": "text"
      },
      "cell_type": "markdown",
      "source": [
        "\n",
        "# Not all numbers are created equal!\n",
        "Python distinguished between integers and floating point (decimal point) numbers."
      ]
    },
    {
      "metadata": {
        "id": "RzocxtlFAlm2",
        "colab_type": "text"
      },
      "cell_type": "markdown",
      "source": [
        "What do you think will be the result of  `33 / 10` ?"
      ]
    },
    {
      "metadata": {
        "id": "g7NbueSVW7Pw",
        "colab_type": "code",
        "colab": {
          "base_uri": "https://localhost:8080/",
          "height": 35
        },
        "outputId": "3d299d2c-9b76-405d-c022-59af427442a9"
      },
      "cell_type": "code",
      "source": [
        "print 33 / 10"
      ],
      "execution_count": 12,
      "outputs": [
        {
          "output_type": "stream",
          "text": [
            "3\n"
          ],
          "name": "stdout"
        }
      ]
    },
    {
      "metadata": {
        "id": "oOZ2g2fxXKt8",
        "colab_type": "text"
      },
      "cell_type": "markdown",
      "source": [
        "If both numbers in an expression are written as integers, Python will do integer division, dicarding anything after the decimal point. We can force Python to use floating point division by making at least one or both of the numbers floating point numbers (using a decimal point)."
      ]
    },
    {
      "metadata": {
        "id": "G7OhHKkHW_o0",
        "colab_type": "code",
        "colab": {
          "base_uri": "https://localhost:8080/",
          "height": 35
        },
        "outputId": "1aea5754-5b8b-405a-bda0-a0917427f86f"
      },
      "cell_type": "code",
      "source": [
        "print 33.0 / 10.0"
      ],
      "execution_count": 13,
      "outputs": [
        {
          "output_type": "stream",
          "text": [
            "3.3\n"
          ],
          "name": "stdout"
        }
      ]
    },
    {
      "metadata": {
        "id": "_STHMFqcZ48E",
        "colab_type": "text"
      },
      "cell_type": "markdown",
      "source": [
        "# Data Types\n",
        "The difference between *integer* and *float* is an example of a more general concept called *data types*. Data is classified into different data types, which specify what values the data can  take on and what operations can be performed on that data. There are many data types, but we'll just need a few: integers, floating point numbers, booleans (True or False) to start, and strings."
      ]
    },
    {
      "metadata": {
        "id": "JfQprtTqZ1-0",
        "colab_type": "code",
        "colab": {
          "base_uri": "https://localhost:8080/",
          "height": 90
        },
        "outputId": "45282eb1-a995-423f-dab5-1eaf396dc40b"
      },
      "cell_type": "code",
      "source": [
        "print type(1)\n",
        "print type(True)\n",
        "print type(1.0)\n",
        "print type(\"Hello 80L!\")"
      ],
      "execution_count": 14,
      "outputs": [
        {
          "output_type": "stream",
          "text": [
            "<type 'int'>\n",
            "<type 'bool'>\n",
            "<type 'float'>\n",
            "<type 'str'>\n"
          ],
          "name": "stdout"
        }
      ]
    },
    {
      "metadata": {
        "id": "KgBLhNtv-dik",
        "colab_type": "text"
      },
      "cell_type": "markdown",
      "source": [
        "# Lists\n",
        "A *data structure* is a way of organzing data within a computer program. Different data structures embody different ideas about how to represent information. There are many many ways of reprsenting data, but throughout this course the *list* will be the most commonly used. A list is an ordered set of elements. It is delimitted by square brackets `[]` and the elements are separated by commas `,`."
      ]
    },
    {
      "metadata": {
        "id": "dYCjuONqZCrg",
        "colab_type": "code",
        "colab": {
          "base_uri": "https://localhost:8080/",
          "height": 35
        },
        "outputId": "bffe24d5-8eb1-4c52-942b-fe1bf3b7dc17"
      },
      "cell_type": "code",
      "source": [
        "# a simple list of numbers\n",
        "my_first_list = [1, 2, 3, 4, 5]\n",
        "print my_first_list"
      ],
      "execution_count": 15,
      "outputs": [
        {
          "output_type": "stream",
          "text": [
            "[1, 2, 3, 4, 5]\n"
          ],
          "name": "stdout"
        }
      ]
    },
    {
      "metadata": {
        "id": "XSpO4vc6Zlg8",
        "colab_type": "text"
      },
      "cell_type": "markdown",
      "source": [
        "The elements of a list do not have to all be the same type."
      ]
    },
    {
      "metadata": {
        "id": "Mgy87n0RbTiK",
        "colab_type": "code",
        "colab": {
          "base_uri": "https://localhost:8080/",
          "height": 35
        },
        "outputId": "08a58095-1262-4e8f-e03a-9d6700e016fb"
      },
      "cell_type": "code",
      "source": [
        "# a simple list of mixed types\n",
        "my_mixed_type_list = [1, True, 1.0, \"Hello 80L!\"]\n",
        "print my_mixed_type_list"
      ],
      "execution_count": 16,
      "outputs": [
        {
          "output_type": "stream",
          "text": [
            "[1, True, 1.0, 'Hello 80L!']\n"
          ],
          "name": "stdout"
        }
      ]
    },
    {
      "metadata": {
        "id": "vzEmkGAscEvc",
        "colab_type": "text"
      },
      "cell_type": "markdown",
      "source": [
        "You can access the elements of a list by appending square brackets and the element index to the list name. Note, in CS we **count from 0!**"
      ]
    },
    {
      "metadata": {
        "id": "ZqVaibTwcEZa",
        "colab_type": "code",
        "colab": {
          "base_uri": "https://localhost:8080/",
          "height": 72
        },
        "outputId": "c2a59401-2139-4f35-c0d1-b89a3e39ade2"
      },
      "cell_type": "code",
      "source": [
        "# accesss the first element of my list\n",
        "print my_first_list[0]\n",
        "\n",
        "# accesss the second element of my list\n",
        "print my_first_list[1]\n",
        "\n",
        "# accesss the third element of my list\n",
        "print my_first_list[2]"
      ],
      "execution_count": 17,
      "outputs": [
        {
          "output_type": "stream",
          "text": [
            "1\n",
            "2\n",
            "3\n"
          ],
          "name": "stdout"
        }
      ]
    },
    {
      "metadata": {
        "id": "a-PzXnx3cuuK",
        "colab_type": "text"
      },
      "cell_type": "markdown",
      "source": [
        "What happens if you try to access an element that does not exist? Here's error number two..."
      ]
    },
    {
      "metadata": {
        "id": "OgdNiKx6cyaU",
        "colab_type": "code",
        "colab": {
          "base_uri": "https://localhost:8080/",
          "height": 170
        },
        "outputId": "75914888-fddb-4bcc-ee14-ae2736e4fa4c"
      },
      "cell_type": "code",
      "source": [
        "# accesss the sixth element of my list\n",
        "print my_first_list[5]"
      ],
      "execution_count": 18,
      "outputs": [
        {
          "output_type": "error",
          "ename": "IndexError",
          "evalue": "ignored",
          "traceback": [
            "\u001b[0;31m\u001b[0m",
            "\u001b[0;31mIndexError\u001b[0mTraceback (most recent call last)",
            "\u001b[0;32m<ipython-input-18-a8b70e01f995>\u001b[0m in \u001b[0;36m<module>\u001b[0;34m()\u001b[0m\n\u001b[0;32m----> 1\u001b[0;31m \u001b[0;32mprint\u001b[0m \u001b[0mmy_first_list\u001b[0m\u001b[0;34m[\u001b[0m\u001b[0;36m5\u001b[0m\u001b[0;34m]\u001b[0m\u001b[0;34m\u001b[0m\u001b[0m\n\u001b[0m",
            "\u001b[0;31mIndexError\u001b[0m: list index out of range"
          ]
        }
      ]
    },
    {
      "metadata": {
        "id": "QTHGH8zydDwC",
        "colab_type": "text"
      },
      "cell_type": "markdown",
      "source": [
        "We can add an element to our list after it is created."
      ]
    },
    {
      "metadata": {
        "id": "SabSuHh9dIbq",
        "colab_type": "code",
        "colab": {
          "base_uri": "https://localhost:8080/",
          "height": 35
        },
        "outputId": "cc97f3eb-0d80-46ae-8bc9-36e003ef3906"
      },
      "cell_type": "code",
      "source": [
        "# add a sixth element to my list\n",
        "my_first_list = my_first_list + [6]\n",
        "print my_first_list"
      ],
      "execution_count": 19,
      "outputs": [
        {
          "output_type": "stream",
          "text": [
            "[1, 2, 3, 4, 5, 6]\n"
          ],
          "name": "stdout"
        }
      ]
    },
    {
      "metadata": {
        "id": "X3_GUTUWrdEv",
        "colab_type": "text"
      },
      "cell_type": "markdown",
      "source": [
        "We'll do this so much that often you'll see the shortcut `+=`"
      ]
    },
    {
      "metadata": {
        "id": "cs6LtOkHriTx",
        "colab_type": "code",
        "colab": {
          "base_uri": "https://localhost:8080/",
          "height": 35
        },
        "outputId": "0df4a4df-acff-4028-cc54-0cfbe74b62e6"
      },
      "cell_type": "code",
      "source": [
        "# add a seventth element to my list\n",
        "my_first_list = my_first_list + [7]\n",
        "print my_first_list"
      ],
      "execution_count": 20,
      "outputs": [
        {
          "output_type": "stream",
          "text": [
            "[1, 2, 3, 4, 5, 6, 7]\n"
          ],
          "name": "stdout"
        }
      ]
    },
    {
      "metadata": {
        "id": "ZSvu64FcdSbw",
        "colab_type": "text"
      },
      "cell_type": "markdown",
      "source": [
        "For all you set theorists out there, the empty list exists! Often we'll start with an empty list and incrementally add more and more elements to it."
      ]
    },
    {
      "metadata": {
        "id": "4_9VMUYxZWuo",
        "colab_type": "code",
        "colab": {
          "base_uri": "https://localhost:8080/",
          "height": 53
        },
        "outputId": "ac6f746e-4dac-4c95-c56a-c84a6335a307"
      },
      "cell_type": "code",
      "source": [
        "# start from an empty list\n",
        "empty_list = []\n",
        "print empty_list\n",
        "\n",
        "# and add elements to it\n",
        "empty_list += [\"Not so empty anymore\"]\n",
        "print empty_list"
      ],
      "execution_count": 21,
      "outputs": [
        {
          "output_type": "stream",
          "text": [
            "[]\n",
            "['Not so empty anymore']\n"
          ],
          "name": "stdout"
        }
      ]
    },
    {
      "metadata": {
        "id": "1UxCRh7FBg31",
        "colab_type": "text"
      },
      "cell_type": "markdown",
      "source": [
        "Often you'll need the last (most recently added) element of your list. You can access the last element using the index -1."
      ]
    },
    {
      "metadata": {
        "id": "iV1cjc8XBoT8",
        "colab_type": "code",
        "colab": {
          "base_uri": "https://localhost:8080/",
          "height": 35
        },
        "outputId": "e6c81ba0-581f-41dc-d026-fdc3cd487040"
      },
      "cell_type": "code",
      "source": [
        "# last element of the list\n",
        "print my_first_list[-1]"
      ],
      "execution_count": 22,
      "outputs": [
        {
          "output_type": "stream",
          "text": [
            "7\n"
          ],
          "name": "stdout"
        }
      ]
    },
    {
      "metadata": {
        "id": "Nd5wadPRCXwa",
        "colab_type": "text"
      },
      "cell_type": "markdown",
      "source": [
        "You can get the length of your list by writing `len()`. Note, in this cell, `len()` is a *function* and your list is passed as an *argument* to that function, but we'll learn about functions and arguments next week."
      ]
    },
    {
      "metadata": {
        "id": "JAyR-QscCxIF",
        "colab_type": "code",
        "colab": {
          "base_uri": "https://localhost:8080/",
          "height": 35
        },
        "outputId": "ebc1c5c2-90c4-4e1d-a92b-9d0946b20127"
      },
      "cell_type": "code",
      "source": [
        "# length of my list\n",
        "print len(my_first_list)"
      ],
      "execution_count": 23,
      "outputs": [
        {
          "output_type": "stream",
          "text": [
            "7\n"
          ],
          "name": "stdout"
        }
      ]
    },
    {
      "metadata": {
        "id": "TIrTUPuHckuO",
        "colab_type": "text"
      },
      "cell_type": "markdown",
      "source": [
        "Other usefuly functions on lists include `min()` and `max()`,  which query the maximum element of a list ."
      ]
    },
    {
      "metadata": {
        "id": "fJ-g9GZ9csg9",
        "colab_type": "code",
        "colab": {
          "base_uri": "https://localhost:8080/",
          "height": 53
        },
        "outputId": "3051c4be-bd87-4de6-9840-96e092753e02"
      },
      "cell_type": "code",
      "source": [
        "# max element\n",
        "print max(my_first_list)\n",
        "\n",
        "# min element\n",
        "print min(my_first_list)"
      ],
      "execution_count": 24,
      "outputs": [
        {
          "output_type": "stream",
          "text": [
            "7\n",
            "1\n"
          ],
          "name": "stdout"
        }
      ]
    },
    {
      "metadata": {
        "id": "Nz9Q9SDile1L",
        "colab_type": "text"
      },
      "cell_type": "markdown",
      "source": [
        "# Generating Lists\n",
        "You can always write a list explicitly, which means writing out all of the values between square brackets `[1,2,3,4]`, but what if you wang to generate a list using an algorithm or procedure? Python has a nifty *list comprehension* feature (which is really a clever version of a very classic computer science structure called a *for loop* but more on *for loops* next time). Try the next few cells to see if you can intuit what is going on here..."
      ]
    },
    {
      "metadata": {
        "id": "W1Qh_JrGmEbC",
        "colab_type": "code",
        "colab": {
          "base_uri": "https://localhost:8080/",
          "height": 35
        },
        "outputId": "6478d28c-b06c-4038-ff47-423600e54494"
      },
      "cell_type": "code",
      "source": [
        "[x for x in range(5)]"
      ],
      "execution_count": 25,
      "outputs": [
        {
          "output_type": "execute_result",
          "data": {
            "text/plain": [
              "[0, 1, 2, 3, 4]"
            ]
          },
          "metadata": {
            "tags": []
          },
          "execution_count": 25
        }
      ]
    },
    {
      "metadata": {
        "id": "PZ2ZE4p_ZyLN",
        "colab_type": "code",
        "colab": {
          "base_uri": "https://localhost:8080/",
          "height": 35
        },
        "outputId": "5f97fd96-eeb7-4235-d600-2b09d9b1ae7b"
      },
      "cell_type": "code",
      "source": [
        "[x for x in range(10)]"
      ],
      "execution_count": 26,
      "outputs": [
        {
          "output_type": "execute_result",
          "data": {
            "text/plain": [
              "[0, 1, 2, 3, 4, 5, 6, 7, 8, 9]"
            ]
          },
          "metadata": {
            "tags": []
          },
          "execution_count": 26
        }
      ]
    },
    {
      "metadata": {
        "id": "1bRkQ89amIC_",
        "colab_type": "code",
        "colab": {
          "base_uri": "https://localhost:8080/",
          "height": 35
        },
        "outputId": "01ab53dc-2cb2-4eb0-c12d-7483dd943fb2"
      },
      "cell_type": "code",
      "source": [
        "[x**2 for x in range(10)]"
      ],
      "execution_count": 27,
      "outputs": [
        {
          "output_type": "execute_result",
          "data": {
            "text/plain": [
              "[0, 1, 4, 9, 16, 25, 36, 49, 64, 81]"
            ]
          },
          "metadata": {
            "tags": []
          },
          "execution_count": 27
        }
      ]
    },
    {
      "metadata": {
        "id": "JO-Z44Bbse6i",
        "colab_type": "text"
      },
      "cell_type": "markdown",
      "source": [
        "OKSO, the value between the parenthesis of `range()` determines the highest number in the list, and the expression `x**2` applies a function to each item in the list. Basically, we're looping through the values `0` to whatever-our-highest-value-is, applying a function to each element, and collecting it all back together into a new list. Pretty nifty."
      ]
    },
    {
      "metadata": {
        "id": "IyDGXrwVuIDq",
        "colab_type": "text"
      },
      "cell_type": "markdown",
      "source": [
        "# But how is this music?\n",
        "Here's the big question of the clas: how do we turn these lists of numbers into music? See the next section to find out."
      ]
    },
    {
      "metadata": {
        "id": "cN7LqUNf2j2-",
        "colab_type": "text"
      },
      "cell_type": "markdown",
      "source": [
        "# Getting Help\n",
        "* https://docs.python.org/2.7/"
      ]
    }
  ]
}