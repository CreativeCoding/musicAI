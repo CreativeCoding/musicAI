{
  "nbformat": 4,
  "nbformat_minor": 0,
  "metadata": {
    "colab": {
      "name": "2.2 Putting It All Together.ipynb",
      "version": "0.3.2",
      "provenance": [],
      "collapsed_sections": [],
      "include_colab_link": true
    }
  },
  "cells": [
    {
      "cell_type": "markdown",
      "metadata": {
        "id": "view-in-github",
        "colab_type": "text"
      },
      "source": [
        "[View in Colaboratory](https://colab.research.google.com/github/davidkant/mai/blob/master/tutorial/2_2_Putting_It_All_Together.ipynb)"
      ]
    },
    {
      "metadata": {
        "id": "qYCvJRm3yGca",
        "colab_type": "text"
      },
      "cell_type": "markdown",
      "source": [
        "# Coding the Illiac, Part 2\n",
        "How can we use random numbers, comparison operators, logical operators, the `if` statement, and the `while` loop to implement a \"generate and test\" composition program like *Illiac Suite*?\n",
        "\n"
      ]
    },
    {
      "metadata": {
        "id": "f33_F4JWdrFR",
        "colab_type": "text"
      },
      "cell_type": "markdown",
      "source": [
        "## Setup\n",
        "Import the `random` module."
      ]
    },
    {
      "metadata": {
        "id": "9l4pLe7TWhNV",
        "colab_type": "code",
        "colab": {}
      },
      "cell_type": "code",
      "source": [
        "import random"
      ],
      "execution_count": 0,
      "outputs": []
    },
    {
      "metadata": {
        "id": "dzuiKdWBV1xV",
        "colab_type": "text"
      },
      "cell_type": "markdown",
      "source": [
        "## Generate\n",
        "Let's start with generating random pitches. As in **Tutorial 1. Hello Python for Music**, let's assume the musical representation in which a melody is expressed as a list of numbers. "
      ]
    },
    {
      "metadata": {
        "id": "XB2PH3MJavEy",
        "colab_type": "text"
      },
      "cell_type": "markdown",
      "source": [
        "**Exercise 1:** Write a `while` loop that generates a list of 12 random numbers. Hint: you're going to need that `while` loop and random number generator from the previous **section 2.1**."
      ]
    },
    {
      "metadata": {
        "id": "vW1wPQteVj-M",
        "colab_type": "code",
        "colab": {
          "base_uri": "https://localhost:8080/",
          "height": 35
        },
        "outputId": "a9ecff4e-1dbc-429c-d7d7-9fd89022ff96"
      },
      "cell_type": "code",
      "source": [
        "# start with an empty list\n",
        "my_music = [60]\n",
        "\n",
        "# loop until we have 12 notes\n",
        "while len(my_music) < 12:\n",
        " \n",
        "  # generate a random note\n",
        "  new_note = random.randint(0, 127)\n",
        "\n",
        "  # append it to the list\n",
        "  my_music += [new_note]\n",
        "  \n",
        "# print the final list\n",
        "print my_music"
      ],
      "execution_count": 2,
      "outputs": [
        {
          "output_type": "stream",
          "text": [
            "[60, 93, 7, 107, 36, 67, 100, 71, 51, 74, 70, 1]\n"
          ],
          "name": "stdout"
        }
      ]
    },
    {
      "metadata": {
        "id": "LiUIDINQgQ5P",
        "colab_type": "text"
      },
      "cell_type": "markdown",
      "source": [
        "**Caveat:** for now let's start with `my_music = [60]` rather than a completely empty list. You'll see why later..."
      ]
    },
    {
      "metadata": {
        "id": "vtw1QbBLW17Z",
        "colab_type": "text"
      },
      "cell_type": "markdown",
      "source": [
        "## and Test\n",
        "How would you express a musical rule such as \"no melodic line may span for an an octave\" or \"a melodic skip of a major or minor seventh is forbidden\" or \"no more than one successive repeat of a given note?\" The answer: comparison and logical operators."
      ]
    },
    {
      "metadata": {
        "id": "4GNDsmZqZ9us",
        "colab_type": "text"
      },
      "cell_type": "markdown",
      "source": [
        "**Exercise 2:** Use a comparison operator to express the rule \"no melodic skip larger than a perfect fourth.\" Eventually we'll want to insert this code into our `while` loop, so let's assume that `my_music` is a list of numbers representing our melody and `new_note` is a random number. These assumptions are  expressed in the first cell below. Write your code in the second cell."
      ]
    },
    {
      "metadata": {
        "id": "VTGSXXviZUvn",
        "colab_type": "code",
        "colab": {
          "base_uri": "https://localhost:8080/",
          "height": 35
        },
        "outputId": "b21bc876-c957-45f0-b44c-ca1d8f180c77"
      },
      "cell_type": "code",
      "source": [
        "# our melody thus far\n",
        "my_melody = [60, 62, 63]\n",
        "\n",
        "# generate a random note\n",
        "new_note = random.randint(0, 127)\n",
        "\n",
        "# print it\n",
        "print new_note"
      ],
      "execution_count": 3,
      "outputs": [
        {
          "output_type": "stream",
          "text": [
            "79\n"
          ],
          "name": "stdout"
        }
      ]
    },
    {
      "metadata": {
        "id": "DS2EU-tmc5o8",
        "colab_type": "code",
        "colab": {
          "base_uri": "https://localhost:8080/",
          "height": 35
        },
        "outputId": "557a43a8-3034-482f-efba-c57363797de9"
      },
      "cell_type": "code",
      "source": [
        "# is new_note larger than a perfect fourth?\n",
        "abs(new_note - my_music[-1]) <= 4"
      ],
      "execution_count": 4,
      "outputs": [
        {
          "output_type": "execute_result",
          "data": {
            "text/plain": [
              "False"
            ]
          },
          "metadata": {
            "tags": []
          },
          "execution_count": 4
        }
      ]
    },
    {
      "metadata": {
        "id": "BB253XbPdIK4",
        "colab_type": "text"
      },
      "cell_type": "markdown",
      "source": [
        "## Putting it together\n",
        "Those are the two major piece of the puzzle. Now see if you can put them together. \n",
        "\n",
        "**Exercise 3:** Move your rule code into your `while` loop. Hint: you're probably going to need an `if` statement to do it."
      ]
    },
    {
      "metadata": {
        "id": "Ugg8USqNdJC3",
        "colab_type": "code",
        "colab": {
          "base_uri": "https://localhost:8080/",
          "height": 35
        },
        "outputId": "7e5386f8-ad76-493a-b78d-12ec6ce1b9cd"
      },
      "cell_type": "code",
      "source": [
        "# start with an empty list\n",
        "my_music = [60]\n",
        "\n",
        "# loop until we have 12 notes\n",
        "while len(my_music) < 12:\n",
        " \n",
        "  # generate a random note\n",
        "  new_note = random.randint(0, 127)\n",
        "\n",
        "  # is new_note larger than a perfect fourth?\n",
        "  if abs(new_note - my_music[-1]) <= 4:\n",
        "\n",
        "    # append it to the list\n",
        "    my_music += [new_note]\n",
        "  \n",
        "# print the final list\n",
        "print my_music"
      ],
      "execution_count": 5,
      "outputs": [
        {
          "output_type": "stream",
          "text": [
            "[60, 58, 62, 63, 60, 60, 56, 58, 62, 58, 60, 57]\n"
          ],
          "name": "stdout"
        }
      ]
    },
    {
      "metadata": {
        "id": "mUxjL9olgxSx",
        "colab_type": "text"
      },
      "cell_type": "markdown",
      "source": [
        "## that Caveat\n",
        "Things are never quite as simple as you'd like. Try initializing to an empty list with `my_music = []`. What's the problem?"
      ]
    },
    {
      "metadata": {
        "id": "8UP10hOLgyi5",
        "colab_type": "code",
        "colab": {
          "base_uri": "https://localhost:8080/",
          "height": 243
        },
        "outputId": "c4ac1b57-0ee5-45db-ae62-a969f85d441b"
      },
      "cell_type": "code",
      "source": [
        "# start with an empty list\n",
        "my_music = []\n",
        "\n",
        "# loop until we have 12 notes\n",
        "while len(my_music) < 12:\n",
        " \n",
        "  # generate a random note\n",
        "  new_note = random.randint(0, 127)\n",
        "\n",
        "  # is new_note larger than a perfect fourth?\n",
        "  if abs(new_note - my_music[-1]) <= 4:\n",
        "\n",
        "    # append it to the list\n",
        "    my_music += [new_note]\n",
        "  \n",
        "# print the final list\n",
        "print my_music"
      ],
      "execution_count": 6,
      "outputs": [
        {
          "output_type": "error",
          "ename": "IndexError",
          "evalue": "ignored",
          "traceback": [
            "\u001b[0;31m\u001b[0m",
            "\u001b[0;31mIndexError\u001b[0mTraceback (most recent call last)",
            "\u001b[0;32m<ipython-input-6-c310ba817490>\u001b[0m in \u001b[0;36m<module>\u001b[0;34m()\u001b[0m\n\u001b[1;32m      8\u001b[0m \u001b[0;34m\u001b[0m\u001b[0m\n\u001b[1;32m      9\u001b[0m   \u001b[0;31m# is new_note larger than a perfect fourth?\u001b[0m\u001b[0;34m\u001b[0m\u001b[0;34m\u001b[0m\u001b[0m\n\u001b[0;32m---> 10\u001b[0;31m   \u001b[0;32mif\u001b[0m \u001b[0mabs\u001b[0m\u001b[0;34m(\u001b[0m\u001b[0mnew_note\u001b[0m \u001b[0;34m-\u001b[0m \u001b[0mmy_music\u001b[0m\u001b[0;34m[\u001b[0m\u001b[0;34m-\u001b[0m\u001b[0;36m1\u001b[0m\u001b[0;34m]\u001b[0m\u001b[0;34m)\u001b[0m \u001b[0;34m<=\u001b[0m \u001b[0;36m4\u001b[0m\u001b[0;34m:\u001b[0m\u001b[0;34m\u001b[0m\u001b[0m\n\u001b[0m\u001b[1;32m     11\u001b[0m \u001b[0;34m\u001b[0m\u001b[0m\n\u001b[1;32m     12\u001b[0m     \u001b[0;31m# append it to the list\u001b[0m\u001b[0;34m\u001b[0m\u001b[0;34m\u001b[0m\u001b[0m\n",
            "\u001b[0;31mIndexError\u001b[0m: list index out of range"
          ]
        }
      ]
    },
    {
      "metadata": {
        "id": "kk29sgm0hE4V",
        "colab_type": "text"
      },
      "cell_type": "markdown",
      "source": [
        "We get an `IndexError: list index out of range`. What happened? We tried to access the previous note `my_music-[1]` before there was anything there! Ideally, we'd like to start from an empty list, so how can we fix this? Essentially, we want the rule to be `True` when (1) the interval is not greater than a perfect fourth *or* (2) when `my_music` is an empty list (meaning we are choosing the first note). Can you think of a way to implement this?"
      ]
    },
    {
      "metadata": {
        "id": "NbNBhYOPjqra",
        "colab_type": "text"
      },
      "cell_type": "markdown",
      "source": [
        "**Exercise 4:** Edit your rule to not throw an error on the first note! Hint: consider using a logical operator."
      ]
    },
    {
      "metadata": {
        "id": "IP-zEcT1g_fv",
        "colab_type": "code",
        "colab": {
          "base_uri": "https://localhost:8080/",
          "height": 35
        },
        "outputId": "743aa6c7-d8e7-45bf-a1af-51c918db420e"
      },
      "cell_type": "code",
      "source": [
        "# empty meldy it's the first note!\n",
        "my_music = []\n",
        "\n",
        "# generate a random note\n",
        "new_note = random.randint(0, 127)\n",
        "\n",
        "# print it\n",
        "print new_note"
      ],
      "execution_count": 7,
      "outputs": [
        {
          "output_type": "stream",
          "text": [
            "49\n"
          ],
          "name": "stdout"
        }
      ]
    },
    {
      "metadata": {
        "id": "IOyALWXrj2K9",
        "colab_type": "code",
        "colab": {
          "base_uri": "https://localhost:8080/",
          "height": 35
        },
        "outputId": "db90a561-a11f-4615-c3a2-cc12034d34b9"
      },
      "cell_type": "code",
      "source": [
        "# is new_note larger than a perfect fourth?\n",
        "len(my_music) < 1 or abs(new_note - my_music[-1]) <= 4"
      ],
      "execution_count": 8,
      "outputs": [
        {
          "output_type": "execute_result",
          "data": {
            "text/plain": [
              "True"
            ]
          },
          "metadata": {
            "tags": []
          },
          "execution_count": 8
        }
      ]
    },
    {
      "metadata": {
        "id": "HPs2BhxzjJPJ",
        "colab_type": "text"
      },
      "cell_type": "markdown",
      "source": [
        "We're actually doing something quite sophisticated here. Remember, if Python tries to access the list when it's empty, we'll get an error, so how does the `or` statement avioid that, aren't we still accessing the list? The `or` statement does a nifty trick called \"short circuiting.\" If the first condition is `True`, it doesn't  bother to evaluate the second condition, because it knows the entire statement will be `True` regardless."
      ]
    },
    {
      "metadata": {
        "id": "f9IHHQRL1TF3",
        "colab_type": "text"
      },
      "cell_type": "markdown",
      "source": [
        "## Finally\n",
        "Replace the test with your new line of code that is protected against errors and you are ready to make some music."
      ]
    },
    {
      "metadata": {
        "id": "zzjs96Vz1O4C",
        "colab_type": "code",
        "colab": {
          "base_uri": "https://localhost:8080/",
          "height": 35
        },
        "outputId": "db949422-7ddd-4269-d5d8-7acda93de2d1"
      },
      "cell_type": "code",
      "source": [
        "# start with an empty list\n",
        "my_music = []\n",
        "\n",
        "# loop until we have 12 notes\n",
        "while len(my_music) < 12:\n",
        " \n",
        "  # generate a random note\n",
        "  new_note = random.randint(0, 127)\n",
        "\n",
        "  # is new_note larger than a perfect fourth?\n",
        "  if len(my_music) < 1 or abs(new_note - my_music[-1]) <= 4:\n",
        "\n",
        "    # append it to the list\n",
        "    my_music += [new_note]\n",
        "  \n",
        "# print the final list\n",
        "print my_music"
      ],
      "execution_count": 9,
      "outputs": [
        {
          "output_type": "stream",
          "text": [
            "[14, 11, 9, 9, 11, 14, 10, 6, 5, 4, 8, 10]\n"
          ],
          "name": "stdout"
        }
      ]
    }
  ]
}