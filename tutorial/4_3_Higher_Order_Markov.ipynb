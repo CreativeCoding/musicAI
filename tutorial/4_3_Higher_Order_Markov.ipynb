{
  "nbformat": 4,
  "nbformat_minor": 0,
  "metadata": {
    "colab": {
      "name": "4.3 Higher Order Markov.ipynb",
      "provenance": [],
      "collapsed_sections": [],
      "toc_visible": true,
      "include_colab_link": true
    },
    "kernelspec": {
      "name": "python3",
      "display_name": "Python 3"
    }
  },
  "cells": [
    {
      "cell_type": "markdown",
      "metadata": {
        "id": "view-in-github",
        "colab_type": "text"
      },
      "source": [
        "<a href=\"https://colab.research.google.com/github/davidkant/mai/blob/master/tutorial/4_3_Higher_Order_Markov.ipynb\" target=\"_parent\"><img src=\"https://colab.research.google.com/assets/colab-badge.svg\" alt=\"Open In Colab\"/></a>"
      ]
    },
    {
      "cell_type": "markdown",
      "metadata": {
        "id": "cjgAU0dYYuVE",
        "colab_type": "text"
      },
      "source": [
        "#4.3 Higher Order Markov Chains\n",
        "In this notebook we'll learn how extend the previous code to work with Markov chains of *higher order*."
      ]
    },
    {
      "cell_type": "markdown",
      "metadata": {
        "id": "VTZewVyNindF",
        "colab_type": "text"
      },
      "source": [
        "## Setup"
      ]
    },
    {
      "cell_type": "code",
      "metadata": {
        "id": "1CNORh5eikyF",
        "colab_type": "code",
        "colab": {}
      },
      "source": [
        "# install external libraries for sound playback\n",
        "from IPython.display import clear_output\n",
        "!pip install -q git+https://github.com/davidkant/mai#egg=mai;\n",
        "!apt-get -qq update\n",
        "!apt-get -qq install -y libfluidsynth1\n",
        "clear_output()"
      ],
      "execution_count": 0,
      "outputs": []
    },
    {
      "cell_type": "code",
      "metadata": {
        "id": "4KnCEtGthIst",
        "colab_type": "code",
        "outputId": "825055a2-5fc9-4158-f4d2-df56fc675a96",
        "colab": {
          "base_uri": "https://localhost:8080/",
          "height": 35
        }
      },
      "source": [
        "# imports\n",
        "import mai\n",
        "import random\n",
        "import matplotlib.pyplot as plt"
      ],
      "execution_count": 0,
      "outputs": [
        {
          "output_type": "stream",
          "text": [
            "Using TensorFlow backend.\n"
          ],
          "name": "stderr"
        }
      ]
    },
    {
      "cell_type": "markdown",
      "metadata": {
        "id": "23_CIonEi0aX",
        "colab_type": "text"
      },
      "source": [
        "## Learn a higher order transition table from data\n",
        "This time we are going to learn a third order transition table. Conceptually, *order* specifies how far back the Markov chain looks when considering what to do next. In terms of numerical formalization, when order is greater than 1, the previous state is represented not as a single value but as a list of values. Order is the number of items in that list."
      ]
    },
    {
      "cell_type": "markdown",
      "metadata": {
        "id": "4e_VqT4ijEZj",
        "colab_type": "text"
      },
      "source": [
        "Example sequence to train on"
      ]
    },
    {
      "cell_type": "code",
      "metadata": {
        "id": "wPiwgbz5YrYP",
        "colab_type": "code",
        "colab": {}
      },
      "source": [
        "# make some dummy music\n",
        "music = [60, 62, 64, 65, 67, 60]"
      ],
      "execution_count": 0,
      "outputs": []
    },
    {
      "cell_type": "markdown",
      "metadata": {
        "id": "yCcwxHzOjFlJ",
        "colab_type": "text"
      },
      "source": [
        "Learn a third order Markov chain by passing the argument `order=3` when you call the function `train`"
      ]
    },
    {
      "cell_type": "code",
      "metadata": {
        "id": "sM0ZsMuWYrYS",
        "colab_type": "code",
        "colab": {}
      },
      "source": [
        "# create a new markov chain \n",
        "mark = mai.markov.Markov()\n",
        "\n",
        "# clear the table\n",
        "mark.clear()\n",
        "\n",
        "# learn a table\n",
        "mark.train(music, order=3) # <-- increase the value of order here!!!"
      ],
      "execution_count": 0,
      "outputs": []
    },
    {
      "cell_type": "markdown",
      "metadata": {
        "id": "fcRy73tYjOj6",
        "colab_type": "text"
      },
      "source": [
        "View the transition table. Note that the previous state is represented as a list of numbers. For instance, the transition table entry `((60, 62, 64), 65): 1` means we that the sequence ``(60, 62, 64)`` is followed by the number `65` once."
      ]
    },
    {
      "cell_type": "code",
      "metadata": {
        "id": "gAla3C3SYrYW",
        "colab_type": "code",
        "outputId": "f20dc310-8b11-475c-af30-b1fc54764229",
        "colab": {
          "base_uri": "https://localhost:8080/",
          "height": 35
        }
      },
      "source": [
        "# view the transition table\n",
        "mark.transitions"
      ],
      "execution_count": 0,
      "outputs": [
        {
          "output_type": "execute_result",
          "data": {
            "text/plain": [
              "{((60, 62, 64), 65): 1, ((62, 64, 65), 67): 1, ((64, 65, 67), 60): 1}"
            ]
          },
          "metadata": {
            "tags": []
          },
          "execution_count": 5
        }
      ]
    },
    {
      "cell_type": "markdown",
      "metadata": {
        "id": "PDh3t6usmYyH",
        "colab_type": "text"
      },
      "source": [
        "## Generate a new musical sequence from the trained Markov model\n",
        "This works pretty much the same as order 1 EXCEPT our initial state must now be a list of three values"
      ]
    },
    {
      "cell_type": "code",
      "metadata": {
        "id": "LY-ZNJICYrYd",
        "colab_type": "code",
        "outputId": "09ec0f59-0145-4261-ac59-ae7d42a907f9",
        "colab": {
          "base_uri": "https://localhost:8080/",
          "height": 35
        }
      },
      "source": [
        "# set initial state\n",
        "mark.state = (60, 62, 64)\n",
        "\n",
        "# next choice\n",
        "mark.choose()"
      ],
      "execution_count": 0,
      "outputs": [
        {
          "output_type": "execute_result",
          "data": {
            "text/plain": [
              "65"
            ]
          },
          "metadata": {
            "tags": []
          },
          "execution_count": 6
        }
      ]
    },
    {
      "cell_type": "markdown",
      "metadata": {
        "id": "Urn22m0WnhMk",
        "colab_type": "text"
      },
      "source": [
        "Keep choosing"
      ]
    },
    {
      "cell_type": "code",
      "metadata": {
        "id": "Nu1oqbtuZIYF",
        "colab_type": "code",
        "outputId": "ccc3608d-396d-47e3-c749-623c533cbccc",
        "colab": {
          "base_uri": "https://localhost:8080/",
          "height": 35
        }
      },
      "source": [
        "# next choice\n",
        "mark.choose()"
      ],
      "execution_count": 0,
      "outputs": [
        {
          "output_type": "execute_result",
          "data": {
            "text/plain": [
              "67"
            ]
          },
          "metadata": {
            "tags": []
          },
          "execution_count": 7
        }
      ]
    }
  ]
}