{
  "nbformat": 4,
  "nbformat_minor": 0,
  "metadata": {
    "colab": {
      "name": "4.3 Higher Order Markov.ipynb",
      "version": "0.3.2",
      "provenance": [],
      "collapsed_sections": [
        "VTZewVyNindF"
      ],
      "include_colab_link": true
    },
    "kernelspec": {
      "display_name": "Python 2",
      "language": "python",
      "name": "python2"
    }
  },
  "cells": [
    {
      "cell_type": "markdown",
      "metadata": {
        "id": "view-in-github",
        "colab_type": "text"
      },
      "source": [
        "[View in Colaboratory](https://colab.research.google.com/github/davidkant/mai/blob/master/tutorial/4_3_Higher_Order_Markov.ipynb)"
      ]
    },
    {
      "metadata": {
        "id": "cjgAU0dYYuVE",
        "colab_type": "text"
      },
      "cell_type": "markdown",
      "source": [
        "#4.3 Higher Order Markov Chains\n",
        "In this notebook we'll learn how extend the previous code to work with Markov chains of *higher order*."
      ]
    },
    {
      "metadata": {
        "id": "VTZewVyNindF",
        "colab_type": "text"
      },
      "cell_type": "markdown",
      "source": [
        "## Setup"
      ]
    },
    {
      "metadata": {
        "id": "1CNORh5eikyF",
        "colab_type": "code",
        "colab": {}
      },
      "cell_type": "code",
      "source": [
        "# install external libraries\n",
        "!pip install -q git+https://github.com/davidkant/mai#egg=mai;\n",
        "!pip install -q pretty_midi\n",
        "!pip install -q pyfluidsynth\n",
        "!apt-get -qq update\n",
        "!apt-get -qq install -y libfluidsynth1\n"
      ],
      "execution_count": 0,
      "outputs": []
    },
    {
      "metadata": {
        "id": "4KnCEtGthIst",
        "colab_type": "code",
        "colab": {
          "base_uri": "https://localhost:8080/",
          "height": 35
        },
        "outputId": "3a21065e-b10d-4db9-9b69-a43e8463565d"
      },
      "cell_type": "code",
      "source": [
        "# imports\n",
        "import mai\n",
        "import random\n",
        "import matplotlib.pyplot as plt"
      ],
      "execution_count": 2,
      "outputs": [
        {
          "output_type": "stream",
          "text": [
            "Using TensorFlow backend.\n"
          ],
          "name": "stderr"
        }
      ]
    },
    {
      "metadata": {
        "id": "23_CIonEi0aX",
        "colab_type": "text"
      },
      "cell_type": "markdown",
      "source": [
        "## Learn a higher order transition table from data\n",
        "This time we are going to learn a third order transition table. Conceptually, *order* specifies how far back the Markov chain looks when considering what to do next. In terms of numerical formalization, when order is greater than 1, the previous state is represented not as a single value but as a list of values. Order is the number of items in that list."
      ]
    },
    {
      "metadata": {
        "id": "4e_VqT4ijEZj",
        "colab_type": "text"
      },
      "cell_type": "markdown",
      "source": [
        "Example sequence to train on"
      ]
    },
    {
      "metadata": {
        "id": "wPiwgbz5YrYP",
        "colab_type": "code",
        "colab": {}
      },
      "cell_type": "code",
      "source": [
        "# make some dummy music\n",
        "music = [60, 62, 64, 65, 67, 60]"
      ],
      "execution_count": 0,
      "outputs": []
    },
    {
      "metadata": {
        "id": "yCcwxHzOjFlJ",
        "colab_type": "text"
      },
      "cell_type": "markdown",
      "source": [
        "Learn a third order Markov chain by passing the argument `order=3` when you call the function `train`"
      ]
    },
    {
      "metadata": {
        "id": "sM0ZsMuWYrYS",
        "colab_type": "code",
        "colab": {}
      },
      "cell_type": "code",
      "source": [
        "# create a new markov chain \n",
        "mark = mai.markov.Markov()\n",
        "\n",
        "# clear the table\n",
        "mark.clear()\n",
        "\n",
        "# learn a table\n",
        "mark.train(music, order=3) # <-- increase the value of order here!!!"
      ],
      "execution_count": 0,
      "outputs": []
    },
    {
      "metadata": {
        "id": "fcRy73tYjOj6",
        "colab_type": "text"
      },
      "cell_type": "markdown",
      "source": [
        "View the transition table. Note that the previous state is represented as a list of numbers. For instance, the transition table entry `((60, 62, 64), 65): 1` means we that the sequence ``(60, 62, 64)`` is followed by the number `65` once."
      ]
    },
    {
      "metadata": {
        "id": "gAla3C3SYrYW",
        "colab_type": "code",
        "colab": {
          "base_uri": "https://localhost:8080/",
          "height": 35
        },
        "outputId": "c7b4710a-7731-4053-c2ed-b4f0869f240a"
      },
      "cell_type": "code",
      "source": [
        "# view the transition table\n",
        "mark.transitions"
      ],
      "execution_count": 5,
      "outputs": [
        {
          "output_type": "execute_result",
          "data": {
            "text/plain": [
              "{((60, 62, 64), 65): 1, ((62, 64, 65), 67): 1, ((64, 65, 67), 60): 1}"
            ]
          },
          "metadata": {
            "tags": []
          },
          "execution_count": 5
        }
      ]
    },
    {
      "metadata": {
        "id": "PDh3t6usmYyH",
        "colab_type": "text"
      },
      "cell_type": "markdown",
      "source": [
        "## Generate a new musical sequence from the trained Markov model\n",
        "This works pretty much the same as order 1 EXCEPT our initial state must now be a list of three values"
      ]
    },
    {
      "metadata": {
        "id": "LY-ZNJICYrYd",
        "colab_type": "code",
        "colab": {
          "base_uri": "https://localhost:8080/",
          "height": 35
        },
        "outputId": "f12ee0a4-116c-4fb0-80a3-2ed01aa61209"
      },
      "cell_type": "code",
      "source": [
        "# set initial state\n",
        "mark.state = (60, 62, 64)\n",
        "\n",
        "# next choice\n",
        "mark.choose()"
      ],
      "execution_count": 6,
      "outputs": [
        {
          "output_type": "execute_result",
          "data": {
            "text/plain": [
              "65"
            ]
          },
          "metadata": {
            "tags": []
          },
          "execution_count": 6
        }
      ]
    },
    {
      "metadata": {
        "id": "Urn22m0WnhMk",
        "colab_type": "text"
      },
      "cell_type": "markdown",
      "source": [
        "Keep choosing"
      ]
    },
    {
      "metadata": {
        "id": "Nu1oqbtuZIYF",
        "colab_type": "code",
        "colab": {
          "base_uri": "https://localhost:8080/",
          "height": 35
        },
        "outputId": "c977cc46-96cb-4e02-bfcf-b86e9ee6f0de"
      },
      "cell_type": "code",
      "source": [
        "# next choice\n",
        "mark.choose()"
      ],
      "execution_count": 7,
      "outputs": [
        {
          "output_type": "execute_result",
          "data": {
            "text/plain": [
              "67"
            ]
          },
          "metadata": {
            "tags": []
          },
          "execution_count": 7
        }
      ]
    }
  ]
}