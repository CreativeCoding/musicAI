{
  "nbformat": 4,
  "nbformat_minor": 0,
  "metadata": {
    "colab": {
      "name": "5.1 Hello Genetic Algorithm",
      "provenance": [],
      "collapsed_sections": [],
      "toc_visible": true,
      "include_colab_link": true
    },
    "kernelspec": {
      "name": "python3",
      "display_name": "Python 3"
    }
  },
  "cells": [
    {
      "cell_type": "markdown",
      "metadata": {
        "id": "view-in-github",
        "colab_type": "text"
      },
      "source": [
        "<a href=\"https://colab.research.google.com/github/davidkant/mai/blob/master/tutorial/5_1_Hello_Genetic_Algorithm.ipynb\" target=\"_parent\"><img src=\"https://colab.research.google.com/assets/colab-badge.svg\" alt=\"Open In Colab\"/></a>"
      ]
    },
    {
      "cell_type": "markdown",
      "metadata": {
        "id": "vJW_7gUK7SoP",
        "colab_type": "text"
      },
      "source": [
        "# 5.1 Hello Genetic Algorithm\n",
        "In this notebook we'll walk through the general structure of a genetic algorithm and learn how to code up the basic elements."
      ]
    },
    {
      "cell_type": "markdown",
      "metadata": {
        "id": "CjKKTXZA7phS",
        "colab_type": "text"
      },
      "source": [
        "## Setup\n",
        "Run these two cells to install and import necessary libraries."
      ]
    },
    {
      "cell_type": "code",
      "metadata": {
        "id": "eYE6nnSUhZ2e",
        "colab_type": "code",
        "colab": {}
      },
      "source": [
        "# install external libraries for sound playback\n",
        "from IPython.display import clear_output\n",
        "!pip install -q git+https://github.com/davidkant/mai#egg=mai;\n",
        "!apt-get -qq update\n",
        "!apt-get -qq install -y libfluidsynth1\n",
        "clear_output()"
      ],
      "execution_count": 0,
      "outputs": []
    },
    {
      "cell_type": "code",
      "metadata": {
        "id": "NvAuechBYmkt",
        "colab_type": "code",
        "outputId": "74f6e045-ac02-435e-bb1c-02a5c65fde8b",
        "colab": {
          "base_uri": "https://localhost:8080/",
          "height": 35
        }
      },
      "source": [
        "# imports\n",
        "import mai\n",
        "import random"
      ],
      "execution_count": 0,
      "outputs": [
        {
          "output_type": "stream",
          "text": [
            "Using TensorFlow backend.\n"
          ],
          "name": "stderr"
        }
      ]
    },
    {
      "cell_type": "markdown",
      "metadata": {
        "id": "XJU_ESldgacE",
        "colab_type": "text"
      },
      "source": [
        "# The Genetic Algorithm Model\n",
        "The course package `mai` includes a simple genetic algorithm  `GeneticAlgorithm()`. Think of it as an empty shell of a genetic algorithm. It contains the general sequence of steps a GA follows — initialize population, evaluate fitness, reproduce, and repeat — but allows you to customize the GA to your particular application by substituting your own functions for each step. In this notebok we'll take a look at the default functions. **Note:** This is the code `GeneticAlgorithm()` will run if you don't customize anything!"
      ]
    },
    {
      "cell_type": "markdown",
      "metadata": {
        "id": "jm6E1V7EdZAI",
        "colab_type": "text"
      },
      "source": [
        "First, create an empty `GeneticAlgothim()` model to work with."
      ]
    },
    {
      "cell_type": "code",
      "metadata": {
        "id": "IJar4SjPdboC",
        "colab_type": "code",
        "colab": {}
      },
      "source": [
        "ga = mai.genalg.GeneticAlgorithm()"
      ],
      "execution_count": 0,
      "outputs": []
    },
    {
      "cell_type": "markdown",
      "metadata": {
        "id": "AlCIOyYwgf-G",
        "colab_type": "text"
      },
      "source": [
        "## 1. Initialize random population\n",
        "The first step of the GA is to generate an initial population of random individuals. The individuals of this population are *genotypes*. A genotype is a coded representation of the individual. We will represent each genotype as a list of numbers.  "
      ]
    },
    {
      "cell_type": "markdown",
      "metadata": {
        "id": "aMoLYZYIBw4-",
        "colab_type": "text"
      },
      "source": [
        "The GA model generates the initial population by calling the function `random_individual` which returns a random genotype. The cell below shows the default code that the GA model uses to generate a random genotype.  By default, a random individual is a list of 10 random numbers, each either a `0` or `1`."
      ]
    },
    {
      "cell_type": "code",
      "metadata": {
        "id": "iMhR8i5dgZwI",
        "colab_type": "code",
        "colab": {}
      },
      "source": [
        "def random_individual():\n",
        "  \"\"\"Generate a random genotype.\"\"\"\n",
        "\n",
        "  # create a random genotype\n",
        "  genotype = [random.randrange(0,2) for i in range(10)]\n",
        "  \n",
        "  # return it\n",
        "  return genotype"
      ],
      "execution_count": 0,
      "outputs": []
    },
    {
      "cell_type": "markdown",
      "metadata": {
        "id": "XF5Bo0nqF57v",
        "colab_type": "text"
      },
      "source": [
        "Now let's see what it does. In the cell below we initialize a random population and view it. `GeneticAlgorithm()` stores its current popuation in a variable  named `population`."
      ]
    },
    {
      "cell_type": "code",
      "metadata": {
        "id": "DEOxZV6NzKy6",
        "colab_type": "code",
        "outputId": "4a0eee62-8410-4942-bd50-b5620415a95d",
        "colab": {
          "base_uri": "https://localhost:8080/",
          "height": 191
        }
      },
      "source": [
        "# generate an initial population\n",
        "ga.initialize_population()\n",
        "\n",
        "# let's see it\n",
        "ga.population"
      ],
      "execution_count": 0,
      "outputs": [
        {
          "output_type": "execute_result",
          "data": {
            "text/plain": [
              "[[0, 1, 1, 0, 0, 0, 1, 0, 0, 0],\n",
              " [0, 1, 0, 1, 1, 0, 1, 1, 1, 0],\n",
              " [0, 0, 1, 1, 0, 0, 0, 1, 0, 0],\n",
              " [1, 1, 0, 1, 1, 1, 0, 0, 1, 1],\n",
              " [1, 0, 0, 1, 0, 1, 0, 0, 0, 0],\n",
              " [1, 1, 0, 1, 0, 1, 1, 1, 0, 0],\n",
              " [0, 1, 1, 1, 1, 1, 1, 1, 1, 0],\n",
              " [1, 1, 0, 1, 0, 0, 1, 1, 0, 1],\n",
              " [0, 0, 0, 0, 1, 1, 0, 0, 0, 0],\n",
              " [0, 1, 1, 1, 0, 1, 1, 0, 0, 0]]"
            ]
          },
          "metadata": {
            "tags": []
          },
          "execution_count": 5
        }
      ]
    },
    {
      "cell_type": "markdown",
      "metadata": {
        "id": "R7aW_KhFgjdu",
        "colab_type": "text"
      },
      "source": [
        "## 2. Convert genotype to phenotype\n",
        "The second step of the GA is to convert all of the genotypes to *phenotypes*. The phenotype is the expression of the individual's genotype — in other words, the individual's observable traits. "
      ]
    },
    {
      "cell_type": "markdown",
      "metadata": {
        "id": "z0-oJZCDGD9p",
        "colab_type": "text"
      },
      "source": [
        "The GA model converts genotype to phenotype by calling the function `to_phenotype` with the genotype as an argument. The cell below shows the default code that the GA model uses to produce phenotypes. By default, the phenotype is exactly the same as the genotype — not very interesting!"
      ]
    },
    {
      "cell_type": "code",
      "metadata": {
        "id": "prLKz8FQgsLa",
        "colab_type": "code",
        "colab": {}
      },
      "source": [
        "def to_phenotype(genotype):\n",
        "  \"\"\"Convert a genotype into a phenotype.\"\"\"\n",
        "  return genotype"
      ],
      "execution_count": 0,
      "outputs": []
    },
    {
      "cell_type": "markdown",
      "metadata": {
        "id": "0iygJUU5GbW7",
        "colab_type": "text"
      },
      "source": [
        "Now let's see what it does. In the cell below we select the first individial of the population and use the function `to_photype` to convert its genotype to phenotype."
      ]
    },
    {
      "cell_type": "code",
      "metadata": {
        "id": "jbx6H8dBzPzE",
        "colab_type": "code",
        "outputId": "28b974ee-5694-4e79-b5b3-dbfa4ef303b3",
        "colab": {
          "base_uri": "https://localhost:8080/",
          "height": 35
        }
      },
      "source": [
        "# select the first individual\n",
        "individual = ga.population[0]\n",
        "\n",
        "# convert to phenotype\n",
        "phenotype = ga.to_phenotype(individual)\n",
        "\n",
        "# veiw phenotype\n",
        "phenotype"
      ],
      "execution_count": 0,
      "outputs": [
        {
          "output_type": "execute_result",
          "data": {
            "text/plain": [
              "[0, 1, 1, 0, 0, 0, 1, 0, 0, 0]"
            ]
          },
          "metadata": {
            "tags": []
          },
          "execution_count": 8
        }
      ]
    },
    {
      "cell_type": "markdown",
      "metadata": {
        "id": "Yz-ubm_bguxm",
        "colab_type": "text"
      },
      "source": [
        "## 3. Fitness function\n",
        "Next, the GA evaluates the fitness of each individual in the population. The fitness scores determines the likelihood that an individual will be chosen to reproduce and pass on its genetic information. The fitness function is what guides our evolution process, and by defining different fitness functions we can guide our evolution process towards different goals.  \n",
        "\n",
        "**Important**: the fitness function operates on the  phenotype representation, not genotype. Fitness scores are a number between `0` and `1`, in which `0` represents **not** fit and `1` represents **very** fit."
      ]
    },
    {
      "cell_type": "markdown",
      "metadata": {
        "id": "mdFxkwIhJVa3",
        "colab_type": "text"
      },
      "source": [
        "The GA model evalautes fitness of an individual by calling the function `fitness_func` with an individual's phenotype as the argument. The cell below shows the default code that the GA model uses. By default, `fitness_func` counts the number of `1`'s in the phenotype representation, and then divides by the total number of elements. The more `1`'s the higher the score. Don't worry about understanding the code in this cell."
      ]
    },
    {
      "cell_type": "code",
      "metadata": {
        "id": "psVK8AIQgwzA",
        "colab_type": "code",
        "colab": {}
      },
      "source": [
        "def fitness_func(phenotype):\n",
        "  \"\"\"Evaluate the fitness of an individual.\"\"\"\n",
        "  return sum(phenotype) / float(len(phenotype))"
      ],
      "execution_count": 0,
      "outputs": []
    },
    {
      "cell_type": "markdown",
      "metadata": {
        "id": "tXohAWxHKwQ-",
        "colab_type": "text"
      },
      "source": [
        "Now let's see what it does. In the cell below evalute the fitness of the first individual, which was selected and converted to phenotype in the previous step."
      ]
    },
    {
      "cell_type": "code",
      "metadata": {
        "id": "AanSpMjRzTwe",
        "colab_type": "code",
        "outputId": "30a7a991-57c9-4573-8563-abfe7c317b2c",
        "colab": {
          "base_uri": "https://localhost:8080/",
          "height": 35
        }
      },
      "source": [
        "# evalute fitness of individual 0\n",
        "fitness = ga.fitness_func(phenotype)\n",
        "\n",
        "# view fitness\n",
        "fitness"
      ],
      "execution_count": 0,
      "outputs": [
        {
          "output_type": "execute_result",
          "data": {
            "text/plain": [
              "0.30000000000000004"
            ]
          },
          "metadata": {
            "tags": []
          },
          "execution_count": 10
        }
      ]
    },
    {
      "cell_type": "markdown",
      "metadata": {
        "id": "9B5i8EbSgyj-",
        "colab_type": "text"
      },
      "source": [
        "## 4. Construct mating pool\n",
        "After evaluating fitness, the GA constructs a mating pool. The mating pool is the collection of individuals that we will chose from when selecting parents to reproduce offspring for the next generation.\n",
        "\n",
        "Individuals are added to the mating pool in numbers proportional to their fitness scores. The idea is that if an individual is particularly well fit, there will be more copies of that individual in the mating pool, and therefore a greater chance of it being chosen to reproduce."
      ]
    },
    {
      "cell_type": "markdown",
      "metadata": {
        "id": "bU4msBwbOFBZ",
        "colab_type": "text"
      },
      "source": [
        "The GA model calls the function `to_weight` to determine how many copies of an indivual to add to the mating pool. By default, the GA multiplies the fitness score by `100` and then adds `1`. The cell below shows the default code:"
      ]
    },
    {
      "cell_type": "code",
      "metadata": {
        "id": "UNbYxUIEg1fY",
        "colab_type": "code",
        "colab": {}
      },
      "source": [
        "def to_weight(fitness, m=100, b=1):\n",
        "  \"\"\"Convert from fitness score to probability weighting\"\"\"\n",
        "  return int(round(fitness*m + b))"
      ],
      "execution_count": 0,
      "outputs": []
    },
    {
      "cell_type": "markdown",
      "metadata": {
        "id": "kN7xrLDzOin_",
        "colab_type": "text"
      },
      "source": [
        "Now let's see what it does. In the cell below we call the function `to_weight` to see the weight of the first individual."
      ]
    },
    {
      "cell_type": "code",
      "metadata": {
        "id": "lYe3O8TGzalU",
        "colab_type": "code",
        "outputId": "c3dbc924-f58e-48a9-e679-e306c2c1feb5",
        "colab": {
          "base_uri": "https://localhost:8080/",
          "height": 35
        }
      },
      "source": [
        "# convert fitness to weight\n",
        "weight = ga.to_weight(fitness)\n",
        "\n",
        "# view weight\n",
        "weight"
      ],
      "execution_count": 0,
      "outputs": [
        {
          "output_type": "execute_result",
          "data": {
            "text/plain": [
              "31"
            ]
          },
          "metadata": {
            "tags": []
          },
          "execution_count": 12
        }
      ]
    },
    {
      "cell_type": "markdown",
      "metadata": {
        "id": "6UOF8lWcg6Bm",
        "colab_type": "text"
      },
      "source": [
        "## 5. Reproduce\n",
        "Next, the GA generates a new population based on the fitness scores of the previous generation. Pairs of individuals are chosen from the mating pool and combined to produce offspring. Each two parents produces two new offspring. Offspring are produced from parents by the means of a genetic operator called *crossover reproduction*.\n",
        "\n",
        "In crossover reproducion, two parents genotypes are split and recombined to produce two new children genotypes. First, a random split point is selected. Then, the first child gets the first part of parent 1 and the second part of parent 2, and the second child gets the second part of parent 1 and the first part of parent 2.\n",
        "\n",
        "**Important**: crossover reproduction operates on genotypes (not phenotpyes!) and produces new genotypes (not phenotypes!)"
      ]
    },
    {
      "cell_type": "markdown",
      "metadata": {
        "id": "LCwaJ3O4jG6V",
        "colab_type": "text"
      },
      "source": [
        "![crossover reproduction](https://raw.githubusercontent.com/davidkant/aim80L/master/resources/img/GA-crossover.png)\n",
        "\n",
        "**figure:** crossover reproduction"
      ]
    },
    {
      "cell_type": "markdown",
      "metadata": {
        "id": "r3EEa1zkj0Sl",
        "colab_type": "text"
      },
      "source": [
        "The GA model calls the function `reproduce` and passes two parents as arguments. The cell below shows the default code:"
      ]
    },
    {
      "cell_type": "code",
      "metadata": {
        "id": "xk6fTbJLg8VQ",
        "colab_type": "code",
        "colab": {}
      },
      "source": [
        "def reproduce(parent1, parent2):\n",
        "  \"\"\"Generate offspring using random crossover.\"\"\"\n",
        "\n",
        "  # random crossover point\n",
        "  crossover = random.randint(0, len(parent1))\n",
        "\n",
        "  # construct children\n",
        "  child1 = parent1[0:crossover] + parent2[crossover:]\n",
        "  child2 = parent2[0:crossover] + parent1[crossover:]\n",
        "\n",
        "  # return children\n",
        "  return child1, child2"
      ],
      "execution_count": 0,
      "outputs": []
    },
    {
      "cell_type": "markdown",
      "metadata": {
        "id": "kfXEKtd5kKIV",
        "colab_type": "text"
      },
      "source": [
        "Now let's see what it does. In the cell below we select two parents from the current population and call the function `reproduce` to produce two new children."
      ]
    },
    {
      "cell_type": "code",
      "metadata": {
        "id": "A7fdn9VYze6Y",
        "colab_type": "code",
        "outputId": "c9737071-81fc-463b-d1e8-f13ac1322a9d",
        "colab": {
          "base_uri": "https://localhost:8080/",
          "height": 87
        }
      },
      "source": [
        "# select parents\n",
        "parent1 = ga.population[0]\n",
        "parent2 = ga.population[1]\n",
        "\n",
        "# reproduce children\n",
        "child1, child2  = ga.reproduce(parent1, parent2)\n",
        "\n",
        "# print parent genotypes\n",
        "print('parent1:', parent1)\n",
        "print('parent2:', parent2)\n",
        "\n",
        "# print children genotypes\n",
        "print('child1: ', child1)\n",
        "print('child2: ', child2)"
      ],
      "execution_count": 0,
      "outputs": [
        {
          "output_type": "stream",
          "text": [
            "parent1: [0, 1, 1, 0, 0, 0, 1, 0, 0, 0]\n",
            "parent2: [0, 1, 0, 1, 1, 0, 1, 1, 1, 0]\n",
            "child1:  [0, 1, 1, 0, 0, 0, 1, 0, 0, 0]\n",
            "child2:  [0, 1, 0, 1, 1, 0, 1, 1, 1, 0]\n"
          ],
          "name": "stdout"
        }
      ]
    },
    {
      "cell_type": "markdown",
      "metadata": {
        "id": "71RjwQrVg9fu",
        "colab_type": "text"
      },
      "source": [
        "## 6. Mutate\n",
        "The final step in producing a new generation is  mutation. After reproducing a new generatio, we mutate a select few members of the population.\n",
        "\n",
        "Mutation works by selecting a random element (called chromosome) of the genotype and \"flipping\" its value, which means subtracting it from 1. "
      ]
    },
    {
      "cell_type": "markdown",
      "metadata": {
        "id": "A7CfJhYCpRyU",
        "colab_type": "text"
      },
      "source": [
        "![crossover reproduction](https://raw.githubusercontent.com/davidkant/aim80L/master/resources/img/GA-mutation.png)\n",
        "\n",
        "**figure:** mutation"
      ]
    },
    {
      "cell_type": "markdown",
      "metadata": {
        "id": "ZYO-37tzpfge",
        "colab_type": "text"
      },
      "source": [
        "For each member of the new population, the GA model calls the function `mutate`. The function first determines whether or not to mutate the individual. If chosen for mutation, the function selects a random chromosome and flips its value. The cell below shows the default code:"
      ]
    },
    {
      "cell_type": "code",
      "metadata": {
        "id": "nFECUEUag-fq",
        "colab_type": "code",
        "colab": {}
      },
      "source": [
        "def mutate(genotype, mutation_prob=0.01):\n",
        "  \"\"\"Maybe mutate an individual.\"\"\"\n",
        "    \n",
        "  # do we mutate this individual?\n",
        "  if random.random() <= mutation_prob:\n",
        "      \n",
        "    # select a random chromosome\n",
        "    gene_index = random.randrange(len(genotype))\n",
        "        \n",
        "    # flip its value\n",
        "    genotype[gene_index] = 1 - genotype[gene_index]\n",
        "        \n",
        "  return genotype "
      ],
      "execution_count": 0,
      "outputs": []
    },
    {
      "cell_type": "markdown",
      "metadata": {
        "id": "zTM5LGmep9lW",
        "colab_type": "text"
      },
      "source": [
        "Now let's see what it does. In the cell below we mutate an individual."
      ]
    },
    {
      "cell_type": "code",
      "metadata": {
        "id": "DryPmwwHzoS2",
        "colab_type": "code",
        "outputId": "690e4bdf-ff5b-4fb8-d670-70a493d9d20b",
        "colab": {
          "base_uri": "https://localhost:8080/",
          "height": 69
        }
      },
      "source": [
        "print('before mutation:', individual)\n",
        "\n",
        "# mutate\n",
        "mutated = ga.mutate(individual, mutation_prob=1)\n",
        "\n",
        "print('after mutation: ', mutated)"
      ],
      "execution_count": 0,
      "outputs": [
        {
          "output_type": "stream",
          "text": [
            "-> muuuuutating individual [0, 1, 1, 0, 0, 0, 1, 0, 0, 0]\n",
            "before mutation: [0, 1, 1, 0, 1, 0, 1, 0, 0, 0]\n",
            "after mutation:  [0, 1, 1, 0, 1, 0, 1, 0, 0, 0]\n"
          ],
          "name": "stdout"
        }
      ]
    },
    {
      "cell_type": "markdown",
      "metadata": {
        "id": "rvuujbrkqKQo",
        "colab_type": "text"
      },
      "source": [
        "## And... repeat!\n",
        "The GA repeates steps 2 through 6 to evolve many generations of populations. Hopefully the individuals become more fit as we evolve!"
      ]
    },
    {
      "cell_type": "markdown",
      "metadata": {
        "id": "tBpNUHXthRyW",
        "colab_type": "text"
      },
      "source": [
        "# Let's evolve something!\n",
        "All of the above code is packaged inside the `GeneticAlgorithm()` model such that we only have to call the function `evolve()` to run it. The function `evolve()` takes a number of arguments:\n",
        "\n",
        "- `iters` is the number of generations to evolve\n",
        "- `population_size` is the number of individuals in each population\n",
        "- `init_pop` is a boolean that determines whether or not we initialize a random population or start from where we left off. \n",
        "- `mutation_prob` is the probability that an individual will be mutated"
      ]
    },
    {
      "cell_type": "markdown",
      "metadata": {
        "id": "ZeQIIGHYsqMd",
        "colab_type": "text"
      },
      "source": [
        "In the cell below we evolve 10 generations of 100 individuals each. Try changing the number of generations and population size and see what happens! Try changing the mutation probability, too!"
      ]
    },
    {
      "cell_type": "code",
      "metadata": {
        "id": "NNiQTTObhSyg",
        "colab_type": "code",
        "outputId": "ec913082-6c2d-4b49-fb2f-69791821143c",
        "colab": {
          "base_uri": "https://localhost:8080/",
          "height": 1751
        }
      },
      "source": [
        "# create a new genetic algorithm\n",
        "ga = mai.genalg.GeneticAlgorithm()\n",
        "\n",
        "# evolve 10 times\n",
        "gen = ga.evolve(iters=10,\n",
        "                population_size=100,\n",
        "                init_pop=True,\n",
        "                mutation_prob=0.01)\n",
        "\n",
        "# view the current population\n",
        "gen"
      ],
      "execution_count": 0,
      "outputs": [
        {
          "output_type": "execute_result",
          "data": {
            "text/plain": [
              "([1, 1, 1, 1, 1, 1, 1, 1, 1, 1],\n",
              " [1, 1, 1, 1, 1, 1, 1, 1, 1, 1],\n",
              " [1, 1, 1, 1, 1, 1, 1, 1, 1, 1],\n",
              " [1, 0, 1, 0, 1, 1, 1, 1, 1, 1],\n",
              " [1, 1, 0, 1, 1, 1, 1, 1, 1, 1],\n",
              " [1, 1, 1, 1, 1, 1, 0, 1, 1, 1],\n",
              " [1, 1, 1, 1, 1, 1, 1, 0, 1, 1],\n",
              " [1, 1, 1, 1, 1, 1, 1, 1, 1, 1],\n",
              " [1, 1, 0, 1, 0, 1, 0, 1, 1, 1],\n",
              " [1, 1, 0, 1, 1, 1, 1, 1, 1, 0],\n",
              " [1, 1, 1, 1, 1, 0, 1, 1, 1, 1],\n",
              " [1, 0, 0, 1, 1, 1, 0, 1, 1, 1],\n",
              " [1, 1, 1, 1, 1, 1, 1, 1, 0, 1],\n",
              " [1, 1, 1, 1, 1, 1, 1, 1, 0, 1],\n",
              " [1, 1, 1, 1, 1, 1, 1, 1, 0, 1],\n",
              " [1, 1, 1, 1, 1, 1, 1, 1, 1, 1],\n",
              " [1, 1, 1, 1, 1, 1, 1, 1, 1, 0],\n",
              " [1, 0, 0, 1, 1, 1, 1, 1, 1, 1],\n",
              " [1, 1, 1, 1, 1, 1, 1, 1, 1, 1],\n",
              " [1, 1, 1, 1, 1, 0, 1, 1, 1, 1],\n",
              " [1, 0, 1, 1, 1, 1, 1, 1, 1, 1],\n",
              " [1, 0, 1, 1, 1, 1, 1, 1, 0, 1],\n",
              " [1, 0, 0, 1, 1, 1, 1, 1, 1, 1],\n",
              " [1, 1, 1, 1, 0, 1, 1, 0, 1, 1],\n",
              " [1, 1, 1, 1, 1, 1, 1, 1, 1, 1],\n",
              " [1, 1, 1, 1, 1, 1, 1, 1, 0, 1],\n",
              " [1, 1, 1, 1, 1, 1, 1, 1, 1, 1],\n",
              " [1, 0, 0, 1, 1, 1, 1, 1, 1, 1],\n",
              " [1, 1, 0, 1, 1, 1, 0, 1, 1, 0],\n",
              " [1, 1, 1, 1, 1, 1, 1, 1, 1, 0],\n",
              " [1, 1, 1, 0, 1, 1, 0, 1, 1, 1],\n",
              " [1, 1, 1, 1, 0, 1, 1, 1, 1, 1],\n",
              " [1, 0, 0, 1, 1, 1, 1, 1, 1, 1],\n",
              " [1, 1, 0, 1, 1, 1, 1, 1, 1, 0],\n",
              " [1, 1, 1, 1, 1, 1, 1, 1, 1, 1],\n",
              " [1, 1, 1, 1, 1, 0, 1, 1, 1, 1],\n",
              " [1, 1, 1, 1, 0, 1, 1, 1, 1, 1],\n",
              " [1, 1, 1, 1, 1, 1, 1, 1, 1, 1],\n",
              " [1, 1, 1, 1, 1, 1, 0, 1, 0, 1],\n",
              " [1, 1, 1, 1, 0, 1, 1, 1, 1, 1],\n",
              " [1, 1, 1, 1, 1, 1, 1, 1, 1, 1],\n",
              " [1, 1, 1, 1, 1, 1, 1, 1, 1, 1],\n",
              " [1, 1, 1, 1, 1, 0, 1, 1, 1, 1],\n",
              " [1, 1, 1, 1, 1, 1, 0, 1, 0, 1],\n",
              " [1, 1, 1, 1, 1, 1, 1, 1, 1, 1],\n",
              " [0, 1, 1, 0, 1, 1, 1, 1, 0, 1],\n",
              " [1, 1, 1, 1, 1, 1, 1, 1, 1, 1],\n",
              " [1, 0, 0, 1, 1, 1, 1, 1, 0, 1],\n",
              " [1, 1, 1, 1, 1, 1, 1, 1, 1, 1],\n",
              " [1, 1, 1, 1, 1, 1, 1, 0, 0, 1],\n",
              " [1, 1, 1, 1, 0, 1, 1, 1, 0, 1],\n",
              " [1, 1, 1, 1, 1, 0, 1, 0, 1, 1],\n",
              " [1, 1, 1, 1, 1, 1, 1, 1, 1, 0],\n",
              " [0, 1, 1, 1, 1, 1, 0, 1, 1, 1],\n",
              " [1, 0, 0, 1, 1, 1, 1, 1, 0, 1],\n",
              " [1, 1, 1, 1, 1, 1, 1, 1, 1, 0],\n",
              " [1, 1, 1, 1, 1, 1, 1, 1, 1, 1],\n",
              " [1, 0, 0, 1, 1, 1, 0, 1, 1, 1],\n",
              " [1, 1, 1, 1, 1, 0, 1, 1, 1, 1],\n",
              " [1, 1, 1, 1, 1, 1, 1, 1, 1, 1],\n",
              " [1, 1, 1, 1, 1, 1, 1, 1, 1, 1],\n",
              " [1, 1, 1, 1, 1, 1, 1, 1, 1, 1],\n",
              " [1, 1, 1, 1, 1, 1, 1, 1, 1, 1],\n",
              " [1, 1, 1, 1, 1, 1, 1, 1, 0, 1],\n",
              " [1, 1, 1, 0, 0, 1, 1, 1, 1, 1],\n",
              " [1, 1, 1, 1, 0, 1, 1, 1, 1, 1],\n",
              " [1, 0, 1, 1, 1, 1, 1, 1, 0, 1],\n",
              " [1, 1, 1, 1, 1, 1, 1, 1, 1, 1],\n",
              " [1, 1, 1, 1, 1, 1, 1, 1, 1, 1],\n",
              " [1, 1, 1, 1, 1, 0, 1, 1, 0, 1],\n",
              " [1, 1, 0, 1, 1, 1, 0, 1, 1, 0],\n",
              " [1, 1, 1, 1, 1, 1, 0, 1, 1, 1],\n",
              " [1, 1, 1, 1, 1, 1, 1, 1, 1, 1],\n",
              " [1, 1, 1, 1, 1, 1, 1, 1, 1, 1],\n",
              " [1, 1, 1, 1, 1, 0, 1, 0, 1, 1],\n",
              " [1, 1, 1, 1, 1, 1, 1, 1, 1, 1],\n",
              " [1, 1, 1, 1, 1, 0, 1, 1, 0, 1],\n",
              " [1, 1, 1, 1, 1, 0, 1, 1, 0, 1],\n",
              " [1, 1, 1, 1, 1, 1, 0, 1, 1, 1],\n",
              " [1, 1, 1, 1, 1, 1, 1, 1, 0, 1],\n",
              " [1, 1, 1, 1, 1, 1, 0, 1, 1, 1],\n",
              " [1, 1, 1, 1, 1, 1, 1, 1, 0, 1],\n",
              " [1, 1, 1, 1, 1, 1, 0, 1, 0, 1],\n",
              " [1, 1, 1, 1, 1, 1, 1, 1, 1, 1],\n",
              " [1, 1, 1, 1, 1, 1, 1, 1, 1, 1],\n",
              " [1, 1, 1, 1, 0, 1, 1, 1, 1, 1],\n",
              " [1, 1, 1, 1, 1, 1, 1, 1, 1, 1],\n",
              " [1, 0, 0, 1, 1, 1, 1, 1, 0, 1],\n",
              " [1, 1, 1, 1, 1, 1, 0, 1, 1, 1],\n",
              " [1, 1, 0, 1, 0, 1, 1, 1, 1, 1],\n",
              " [1, 1, 1, 1, 1, 1, 1, 1, 1, 1],\n",
              " [1, 1, 1, 1, 1, 1, 1, 1, 1, 1],\n",
              " [1, 1, 1, 1, 0, 1, 1, 1, 1, 1],\n",
              " [1, 1, 1, 1, 1, 0, 1, 0, 1, 1],\n",
              " [1, 0, 1, 1, 1, 1, 1, 0, 0, 1],\n",
              " [1, 1, 1, 1, 1, 1, 1, 1, 1, 1],\n",
              " [1, 1, 1, 1, 1, 1, 1, 1, 1, 1],\n",
              " [1, 0, 0, 1, 1, 1, 1, 1, 1, 1],\n",
              " [1, 0, 1, 1, 1, 1, 1, 1, 1, 1],\n",
              " [1, 1, 1, 1, 1, 0, 1, 1, 0, 1])"
            ]
          },
          "metadata": {
            "tags": []
          },
          "execution_count": 20
        }
      ]
    },
    {
      "cell_type": "markdown",
      "metadata": {
        "id": "uThL9zPGtHqU",
        "colab_type": "text"
      },
      "source": [
        "Not a terribly exciting evolution, but in the next notebook we'll learn how to customize the GA to our own musical environments by replacing the default functions."
      ]
    }
  ]
}