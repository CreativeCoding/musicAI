{
  "nbformat": 4,
  "nbformat_minor": 0,
  "metadata": {
    "colab": {
      "name": "5.1 Hello Genetic Algorithm",
      "version": "0.3.2",
      "provenance": [],
      "collapsed_sections": [],
      "include_colab_link": true
    }
  },
  "cells": [
    {
      "cell_type": "markdown",
      "metadata": {
        "id": "view-in-github",
        "colab_type": "text"
      },
      "source": [
        "[View in Colaboratory](https://colab.research.google.com/github/davidkant/mai/blob/master/tutorial/5_1_Hello_Genetic_Algorithm.ipynb)"
      ]
    },
    {
      "metadata": {
        "id": "vJW_7gUK7SoP",
        "colab_type": "text"
      },
      "cell_type": "markdown",
      "source": [
        "# 5.1 Hello Genetic Algorithm\n",
        "In this notebook we'll walk throgh the general structure of a genetic algorithm and learn how to code up the basic elements."
      ]
    },
    {
      "metadata": {
        "id": "CjKKTXZA7phS",
        "colab_type": "text"
      },
      "cell_type": "markdown",
      "source": [
        "## Setup"
      ]
    },
    {
      "metadata": {
        "id": "eYE6nnSUhZ2e",
        "colab_type": "code",
        "colab": {}
      },
      "cell_type": "code",
      "source": [
        "# install external libraries\n",
        "!pip install -q git+https://github.com/davidkant/mai#egg=mai;\n",
        "!pip install -q pretty_midi\n",
        "!pip install -q pyfluidsynth\n",
        "!apt-get -qq update\n",
        "!apt-get -qq install -y libfluidsynth1"
      ],
      "execution_count": 0,
      "outputs": []
    },
    {
      "metadata": {
        "id": "NvAuechBYmkt",
        "colab_type": "code",
        "colab": {
          "base_uri": "https://localhost:8080/",
          "height": 35
        },
        "outputId": "8b4e8a23-a287-4f10-9828-31f76bd1dfe4"
      },
      "cell_type": "code",
      "source": [
        "# imports\n",
        "import mai\n",
        "import random"
      ],
      "execution_count": 2,
      "outputs": [
        {
          "output_type": "stream",
          "text": [
            "Using TensorFlow backend.\n"
          ],
          "name": "stderr"
        }
      ]
    },
    {
      "metadata": {
        "id": "XJU_ESldgacE",
        "colab_type": "text"
      },
      "cell_type": "markdown",
      "source": [
        "# The Genetic Algorithm Model\n",
        "The course package `mai` includes a simple genetic algorithm  `GeneticAlgorithm()`. Think of it as an empty shell of a genetic algorithm. It contains the general sequence of steps a GA follows — initialize population, evaluate fitness, reproduce, and repeat — but allows you to customize the GA to your particular application by substituting your own functions for each step. In this notebok we'll take a look at the default functions. **Note:** This is the code `GeneticAlgorithm()` will run if you don't customize anything!"
      ]
    },
    {
      "metadata": {
        "id": "jm6E1V7EdZAI",
        "colab_type": "text"
      },
      "cell_type": "markdown",
      "source": [
        "First, create an empty `GeneticAlgothim()` model to work with."
      ]
    },
    {
      "metadata": {
        "id": "IJar4SjPdboC",
        "colab_type": "code",
        "colab": {}
      },
      "cell_type": "code",
      "source": [
        "ga = mai.genalg.GeneticAlgorithm()"
      ],
      "execution_count": 0,
      "outputs": []
    },
    {
      "metadata": {
        "id": "AlCIOyYwgf-G",
        "colab_type": "text"
      },
      "cell_type": "markdown",
      "source": [
        "## 1. Initialize random population\n",
        "The first step of the GA is to generate an initial population of random individuals. The individuals of this population are *genotypes*. A genotype is a coded representation of the individual. We will represent each genotype as a list of numbers.  "
      ]
    },
    {
      "metadata": {
        "id": "aMoLYZYIBw4-",
        "colab_type": "text"
      },
      "cell_type": "markdown",
      "source": [
        "The GA model generates the initial population by calling the function `random_individual` which returns a random genotype. The cell below shows the default code that the GA model uses to generate a random genotype.  By default, a random individual is a list of 10 random numbers, each either a `0` or `1`."
      ]
    },
    {
      "metadata": {
        "id": "iMhR8i5dgZwI",
        "colab_type": "code",
        "colab": {}
      },
      "cell_type": "code",
      "source": [
        "def random_individual():\n",
        "    \"\"\"Generate a random genotype.\"\"\"\n",
        "    return [random.randrange(0,2) for i in range(10)]"
      ],
      "execution_count": 0,
      "outputs": []
    },
    {
      "metadata": {
        "id": "XF5Bo0nqF57v",
        "colab_type": "text"
      },
      "cell_type": "markdown",
      "source": [
        "Now let's see what it does. In the cell below we initialize a random population and view it. `GeneticAlgorithm()` stores its current popuation in a variable  named `population`."
      ]
    },
    {
      "metadata": {
        "id": "DEOxZV6NzKy6",
        "colab_type": "code",
        "colab": {
          "base_uri": "https://localhost:8080/",
          "height": 199
        },
        "outputId": "4d5e37f9-d1a7-4268-a0d9-f78bc0d0d006"
      },
      "cell_type": "code",
      "source": [
        "# generate an initial population\n",
        "ga.initialize_population()\n",
        "# let's see it\n",
        "ga.population"
      ],
      "execution_count": 5,
      "outputs": [
        {
          "output_type": "execute_result",
          "data": {
            "text/plain": [
              "[[0, 1, 0, 1, 1, 0, 1, 0, 1, 0],\n",
              " [0, 1, 0, 1, 0, 1, 0, 1, 0, 1],\n",
              " [1, 1, 1, 1, 1, 0, 1, 0, 0, 0],\n",
              " [1, 1, 0, 1, 1, 0, 0, 0, 0, 0],\n",
              " [1, 1, 1, 0, 1, 0, 1, 0, 1, 1],\n",
              " [1, 0, 1, 0, 0, 0, 1, 0, 1, 0],\n",
              " [1, 0, 1, 0, 1, 1, 0, 0, 1, 0],\n",
              " [1, 1, 0, 1, 1, 0, 0, 1, 1, 1],\n",
              " [1, 0, 1, 0, 0, 1, 0, 0, 1, 0],\n",
              " [1, 1, 1, 0, 1, 1, 1, 0, 0, 0]]"
            ]
          },
          "metadata": {
            "tags": []
          },
          "execution_count": 5
        }
      ]
    },
    {
      "metadata": {
        "id": "R7aW_KhFgjdu",
        "colab_type": "text"
      },
      "cell_type": "markdown",
      "source": [
        "## 2. Convert genotype to phenotype\n",
        "The second step of the GA is to convert all of the genotypes to *phenotypes*. The phenotype is the expression of the individual's genotype — in other words, the individual's observable traits. "
      ]
    },
    {
      "metadata": {
        "id": "z0-oJZCDGD9p",
        "colab_type": "text"
      },
      "cell_type": "markdown",
      "source": [
        "The GA model converts genotype to phenotype by calling the function `to_phenotype` with the genotype as an argument. The cell below shows the default code that the GA model uses to produce phenotypes. By default, the phenotype is exactly the same as the genotype — not very interesting!"
      ]
    },
    {
      "metadata": {
        "id": "prLKz8FQgsLa",
        "colab_type": "code",
        "colab": {}
      },
      "cell_type": "code",
      "source": [
        "def to_phenotype(genotype):\n",
        "    \"\"\"Convert a genotype into a phenotype.\"\"\"\n",
        "    return genotype"
      ],
      "execution_count": 0,
      "outputs": []
    },
    {
      "metadata": {
        "id": "0iygJUU5GbW7",
        "colab_type": "text"
      },
      "cell_type": "markdown",
      "source": [
        "Now let's see what it does. In the cell below we select the first individial of the population and use the function `to_photype` to convert its genotype to phenotype."
      ]
    },
    {
      "metadata": {
        "id": "jbx6H8dBzPzE",
        "colab_type": "code",
        "colab": {
          "base_uri": "https://localhost:8080/",
          "height": 35
        },
        "outputId": "d761a703-9276-465e-eee9-95512c1100e2"
      },
      "cell_type": "code",
      "source": [
        "# select the first individual\n",
        "individual = ga.population[0]\n",
        "# convert to phenotype\n",
        "phenotype = ga.to_phenotype(individual)\n",
        "# veiw phenotype\n",
        "phenotype"
      ],
      "execution_count": 7,
      "outputs": [
        {
          "output_type": "execute_result",
          "data": {
            "text/plain": [
              "[0, 1, 0, 1, 1, 0, 1, 0, 1, 0]"
            ]
          },
          "metadata": {
            "tags": []
          },
          "execution_count": 7
        }
      ]
    },
    {
      "metadata": {
        "id": "Yz-ubm_bguxm",
        "colab_type": "text"
      },
      "cell_type": "markdown",
      "source": [
        "## 3. Fitness function\n",
        "Next, the GA evaluates the fitness of each individual in the population. The fitness scores determines the likelihood that an individual will be chosen to reproduce and pass on its genetic information. The fitness function is what guides our evolution process, and by defining different fitness functions we can guide our evolution process towards different goals.  \n",
        "\n",
        "**Important**: the fitness function operates on the  phenotype representation, not genotype. Fitness scores are a number between `0` and `1`, in which `0` represents **not** fit and `1` represents **very** fit."
      ]
    },
    {
      "metadata": {
        "id": "mdFxkwIhJVa3",
        "colab_type": "text"
      },
      "cell_type": "markdown",
      "source": [
        "The GA model evalautes fitness of an individual by calling the function `fitness_func` with an individual's phenotype as the argument. The cell below shows the default code that the GA model uses. By default, `fitness_func` counts the number of `1`'s in the phenotype representation, and then divides by the total number of elements. The more `1`'s the higher the score. Don't worry about understanding the code in this cell."
      ]
    },
    {
      "metadata": {
        "id": "psVK8AIQgwzA",
        "colab_type": "code",
        "colab": {}
      },
      "cell_type": "code",
      "source": [
        "def fitness_func(phenotype):\n",
        "    \"\"\"Evaluate the fitness of an individual.\"\"\"\n",
        "    return sum(phenotype) / float(len(phenotype))"
      ],
      "execution_count": 0,
      "outputs": []
    },
    {
      "metadata": {
        "id": "tXohAWxHKwQ-",
        "colab_type": "text"
      },
      "cell_type": "markdown",
      "source": [
        "Now let's see what it does. In the cell below evalute the fitness of the first individual, which was selected and converted to phenotype in the previous step."
      ]
    },
    {
      "metadata": {
        "id": "AanSpMjRzTwe",
        "colab_type": "code",
        "colab": {
          "base_uri": "https://localhost:8080/",
          "height": 35
        },
        "outputId": "1fe17299-033e-42c8-b4da-17a4dbae4f0f"
      },
      "cell_type": "code",
      "source": [
        "# evalute fitness of individual 0\n",
        "fitness = ga.fitness_func(phenotype)\n",
        "# view fitness\n",
        "fitness"
      ],
      "execution_count": 9,
      "outputs": [
        {
          "output_type": "execute_result",
          "data": {
            "text/plain": [
              "0.5"
            ]
          },
          "metadata": {
            "tags": []
          },
          "execution_count": 9
        }
      ]
    },
    {
      "metadata": {
        "id": "9B5i8EbSgyj-",
        "colab_type": "text"
      },
      "cell_type": "markdown",
      "source": [
        "## 4. Construct mating pool\n",
        "After evaluating fitness, the GA constructs a mating pool. The mating pool is the collection of individuals that we will chose from when selecting parents to reproduce offspring for the next generation.\n",
        "\n",
        "Individuals are added to the mating pool in numbers proportional to their fitness scores. The idea is that if an individual is particularly well fit, there will be more copies of that individual in the mating pool, and therefore a greater chance of it being chosen to reproduce."
      ]
    },
    {
      "metadata": {
        "id": "bU4msBwbOFBZ",
        "colab_type": "text"
      },
      "cell_type": "markdown",
      "source": [
        "The GA model calls the function `to_weight` to determine how many copies of an indivual to add to the mating pool. By default, the GA multiplies the fitness score by `100` and then adds `1`. The cell below shows the default code:"
      ]
    },
    {
      "metadata": {
        "id": "UNbYxUIEg1fY",
        "colab_type": "code",
        "colab": {}
      },
      "cell_type": "code",
      "source": [
        "def to_weight(fitness, m=100, b=1):\n",
        "    \"\"\"Convert from fitness score to probability weighting\"\"\"\n",
        "    return int(round(fitness*m + b))"
      ],
      "execution_count": 0,
      "outputs": []
    },
    {
      "metadata": {
        "id": "kN7xrLDzOin_",
        "colab_type": "text"
      },
      "cell_type": "markdown",
      "source": [
        "Now let's see what it does. In the cell below we call the function `to_weight` to see the weight of the first individual."
      ]
    },
    {
      "metadata": {
        "id": "lYe3O8TGzalU",
        "colab_type": "code",
        "colab": {
          "base_uri": "https://localhost:8080/",
          "height": 35
        },
        "outputId": "93675d34-d79b-4561-e06a-6f81b10baa00"
      },
      "cell_type": "code",
      "source": [
        "# convert fitness to weight\n",
        "weight = ga.to_weight(fitness)\n",
        "# view weight\n",
        "weight"
      ],
      "execution_count": 11,
      "outputs": [
        {
          "output_type": "execute_result",
          "data": {
            "text/plain": [
              "51"
            ]
          },
          "metadata": {
            "tags": []
          },
          "execution_count": 11
        }
      ]
    },
    {
      "metadata": {
        "id": "6UOF8lWcg6Bm",
        "colab_type": "text"
      },
      "cell_type": "markdown",
      "source": [
        "## 5. Reproduce\n",
        "Next, the GA generates a new population based on the fitness scores of the previous generation. Pairs of individuals are chosen from the mating pool and combined to produce offspring. Each two parents produces two new offspring. Offspring are produced from parents by the means of a genetic operator called *crossover reproduction*.\n",
        "\n",
        "In crossover reproducion, two parents genotypes are split and recombined to produce two new children genotypes. First, a random split point is selected. Then, the first child gets the first part of parent 1 and the second part of parent 2, and the second child gets the second part of parent 1 and the first part of parent 2.\n",
        "\n",
        "**Important**: crossover reproduction operates on genotypes (not phenotpyes!) and produces new genotypes (not phenotypes!)"
      ]
    },
    {
      "metadata": {
        "id": "LCwaJ3O4jG6V",
        "colab_type": "text"
      },
      "cell_type": "markdown",
      "source": [
        "![crossover reproduction](https://raw.githubusercontent.com/davidkant/aim80L/master/resources/img/GA-crossover.png)\n",
        "\n",
        "**figure:** crossover reproduction"
      ]
    },
    {
      "metadata": {
        "id": "r3EEa1zkj0Sl",
        "colab_type": "text"
      },
      "cell_type": "markdown",
      "source": [
        "The GA model calls the function `reproduce` and passes two parents as arguments. The cell below shows the default code:"
      ]
    },
    {
      "metadata": {
        "id": "xk6fTbJLg8VQ",
        "colab_type": "code",
        "colab": {}
      },
      "cell_type": "code",
      "source": [
        "def reproduce(parent1, parent2):\n",
        "    \"\"\"Generate offspring using random crossover.\"\"\"\n",
        "\n",
        "    # random crossover point\n",
        "    crossover = random.randrange(0, len(parent1))\n",
        "\n",
        "    # construct children\n",
        "    child1 = parent1[0:crossover] + parent2[crossover:]\n",
        "    child2 = parent2[0:crossover] + parent1[crossover:]\n",
        "\n",
        "    # return children\n",
        "    return child1, child2"
      ],
      "execution_count": 0,
      "outputs": []
    },
    {
      "metadata": {
        "id": "kfXEKtd5kKIV",
        "colab_type": "text"
      },
      "cell_type": "markdown",
      "source": [
        "Now let's see what it does. In the cell below we select two parents from the current population and call the function `reproduce` to produce two new children."
      ]
    },
    {
      "metadata": {
        "id": "A7fdn9VYze6Y",
        "colab_type": "code",
        "colab": {
          "base_uri": "https://localhost:8080/",
          "height": 90
        },
        "outputId": "28fb8dea-80c8-4a2f-869a-db0b8edd64a8"
      },
      "cell_type": "code",
      "source": [
        "# select parents\n",
        "parent1 = ga.population[0]\n",
        "parent2 = ga.population[1]\n",
        "\n",
        "# print parent genotypes\n",
        "print 'parent1: {0}'.format(parent1)\n",
        "print 'parent2: {0}'.format(parent2)\n",
        "\n",
        "# reproduce\n",
        "print 'children:'\n",
        "ga.reproduce(parent1, parent2)"
      ],
      "execution_count": 13,
      "outputs": [
        {
          "output_type": "stream",
          "text": [
            "parent1: [0, 1, 0, 1, 1, 0, 1, 0, 1, 0]\n",
            "parent2: [0, 1, 0, 1, 0, 1, 0, 1, 0, 1]\n",
            "children:\n"
          ],
          "name": "stdout"
        },
        {
          "output_type": "execute_result",
          "data": {
            "text/plain": [
              "([0, 1, 0, 1, 0, 1, 0, 1, 0, 1], [0, 1, 0, 1, 1, 0, 1, 0, 1, 0])"
            ]
          },
          "metadata": {
            "tags": []
          },
          "execution_count": 13
        }
      ]
    },
    {
      "metadata": {
        "id": "71RjwQrVg9fu",
        "colab_type": "text"
      },
      "cell_type": "markdown",
      "source": [
        "## 6. Mutate\n",
        "The final step in producing a new generation is  mutation. After reproducing a new generatio, we mutate a select few members of the population.\n",
        "\n",
        "Mutation works by selecting a random element (called chromosome) of the genotype and \"flipping\" its value, which means subtracting it from 1. "
      ]
    },
    {
      "metadata": {
        "id": "A7CfJhYCpRyU",
        "colab_type": "text"
      },
      "cell_type": "markdown",
      "source": [
        "![crossover reproduction](https://raw.githubusercontent.com/davidkant/aim80L/master/resources/img/GA-mutation.png)\n",
        "\n",
        "**figure:** mutation"
      ]
    },
    {
      "metadata": {
        "id": "ZYO-37tzpfge",
        "colab_type": "text"
      },
      "cell_type": "markdown",
      "source": [
        "For each member of the new population, the GA model calls the function `mutate`. The function first determines whether or not to mutate the individual. If chosen for mutation, the function selects a random chromosome and flips its value. The cell below shows the default code:"
      ]
    },
    {
      "metadata": {
        "id": "nFECUEUag-fq",
        "colab_type": "code",
        "colab": {}
      },
      "cell_type": "code",
      "source": [
        "def mutate(genotype, mutation_prob=0.01):\n",
        "    \"\"\"Maybe mutate an individual.\"\"\"\n",
        "    \n",
        "    # do we mutate this individual?\n",
        "    if random.random() <= mutation_prob:\n",
        "      \n",
        "        # select a random chromosome\n",
        "        gene_index = random.randrange(len(genotype))\n",
        "        \n",
        "        # flip its value\n",
        "        genotype[gene_index] = 1 - genotype[gene_index]\n",
        "        \n",
        "    return genotype "
      ],
      "execution_count": 0,
      "outputs": []
    },
    {
      "metadata": {
        "id": "zTM5LGmep9lW",
        "colab_type": "text"
      },
      "cell_type": "markdown",
      "source": [
        "Now let's see what it does. In the cell below we mutate an individual."
      ]
    },
    {
      "metadata": {
        "id": "DryPmwwHzoS2",
        "colab_type": "code",
        "colab": {
          "base_uri": "https://localhost:8080/",
          "height": 72
        },
        "outputId": "e8d4198e-d5ce-4718-c2fe-c9a998697bb6"
      },
      "cell_type": "code",
      "source": [
        "print individual\n",
        "ga.mutate(individual, mutation_prob=1)"
      ],
      "execution_count": 15,
      "outputs": [
        {
          "output_type": "stream",
          "text": [
            "[0, 1, 0, 1, 1, 0, 1, 0, 1, 0]\n",
            "-> muuuuutating individual [0, 1, 0, 1, 1, 0, 1, 0, 1, 0]\n"
          ],
          "name": "stdout"
        },
        {
          "output_type": "execute_result",
          "data": {
            "text/plain": [
              "[1, 1, 0, 1, 1, 0, 1, 0, 1, 0]"
            ]
          },
          "metadata": {
            "tags": []
          },
          "execution_count": 15
        }
      ]
    },
    {
      "metadata": {
        "id": "rvuujbrkqKQo",
        "colab_type": "text"
      },
      "cell_type": "markdown",
      "source": [
        "## And... repeat!\n",
        "The GA repeates steps 2 through 6 to evolve many generations of populations. Hopefully the individuals become more fit as we evolve!"
      ]
    },
    {
      "metadata": {
        "id": "tBpNUHXthRyW",
        "colab_type": "text"
      },
      "cell_type": "markdown",
      "source": [
        "# Let's evolve something!\n",
        "All of the above code is packaged inside the `GeneticAlgorithm()` model such that we only have to call the function `evolve()` to run it. The function `evolve()` takes a number of arguments:\n",
        "\n",
        "- `iters` is the number of generations to evolve\n",
        "- `population_size` is the number of individuals in each population\n",
        "- `init_pop` is a boolean that determines whether or not we initialize a random population or start from where we left off. \n",
        "- `mutation_prob` is the probability that an individual will be mutated"
      ]
    },
    {
      "metadata": {
        "id": "ZeQIIGHYsqMd",
        "colab_type": "text"
      },
      "cell_type": "markdown",
      "source": [
        "In the cell below we evolve 10 generations of 100 individuals each. Try changing the number of generations and population size and see what happens! Try changing the mutation probability, too!"
      ]
    },
    {
      "metadata": {
        "id": "NNiQTTObhSyg",
        "colab_type": "code",
        "colab": {
          "base_uri": "https://localhost:8080/",
          "height": 2054
        },
        "outputId": "e04fed04-d6f5-4912-d089-131122615d97"
      },
      "cell_type": "code",
      "source": [
        "# create a new genetic algorithm\n",
        "ga = mai.genalg.GeneticAlgorithm()\n",
        "\n",
        "# evolve 10 times\n",
        "gen = ga.evolve(iters=10,\n",
        "                population_size=100,\n",
        "                init_pop=True,\n",
        "                mutation_prob=0.01)\n",
        "\n",
        "# view the current population\n",
        "print '\\ncurrent population:\\n'\n",
        "gen"
      ],
      "execution_count": 16,
      "outputs": [
        {
          "output_type": "stream",
          "text": [
            "-> muuuuutating individual [1, 1, 0, 0, 1, 1, 0, 1, 1, 1]\n",
            "-> muuuuutating individual [0, 1, 0, 1, 1, 0, 0, 0, 1, 1]\n",
            "-> muuuuutating individual [0, 1, 0, 0, 0, 0, 1, 0, 1, 0]\n",
            "-> muuuuutating individual [1, 1, 1, 1, 1, 1, 1, 1, 0, 1]\n",
            "-> muuuuutating individual [1, 0, 1, 0, 0, 1, 1, 1, 1, 1]\n",
            "-> muuuuutating individual [1, 1, 0, 1, 0, 1, 1, 1, 1, 1]\n",
            "-> muuuuutating individual [1, 1, 1, 1, 1, 1, 0, 1, 1, 1]\n",
            "-> muuuuutating individual [1, 1, 0, 1, 1, 1, 0, 1, 1, 1]\n",
            "-> muuuuutating individual [1, 1, 1, 1, 1, 1, 1, 1, 1, 1]\n",
            "\n",
            "current population:\n",
            "\n"
          ],
          "name": "stdout"
        },
        {
          "output_type": "execute_result",
          "data": {
            "text/plain": [
              "([1, 1, 1, 1, 0, 1, 0, 1, 1, 1],\n",
              " [1, 0, 0, 1, 1, 0, 1, 1, 1, 1],\n",
              " [0, 1, 1, 1, 1, 0, 1, 1, 0, 1],\n",
              " [1, 1, 1, 1, 1, 1, 1, 0, 1, 1],\n",
              " [1, 1, 0, 1, 0, 0, 1, 1, 1, 1],\n",
              " [1, 1, 1, 0, 1, 1, 1, 1, 1, 1],\n",
              " [1, 1, 1, 1, 1, 1, 1, 1, 1, 1],\n",
              " [1, 1, 1, 0, 1, 1, 1, 1, 1, 1],\n",
              " [0, 1, 1, 1, 0, 1, 1, 1, 1, 1],\n",
              " [0, 1, 1, 1, 1, 1, 1, 1, 1, 1],\n",
              " [1, 1, 0, 1, 1, 1, 1, 1, 1, 1],\n",
              " [1, 1, 1, 0, 1, 1, 1, 1, 1, 1],\n",
              " [0, 1, 0, 1, 1, 1, 1, 1, 1, 1],\n",
              " [0, 1, 1, 1, 0, 1, 1, 0, 1, 1],\n",
              " [1, 1, 1, 1, 1, 0, 1, 1, 1, 1],\n",
              " [0, 1, 0, 1, 1, 1, 1, 1, 1, 1],\n",
              " [1, 1, 0, 1, 1, 1, 1, 1, 1, 1],\n",
              " [0, 1, 1, 0, 1, 1, 1, 1, 1, 0],\n",
              " [0, 1, 1, 1, 1, 1, 1, 1, 1, 1],\n",
              " [1, 1, 0, 1, 1, 1, 1, 1, 1, 1],\n",
              " [0, 1, 1, 1, 1, 1, 1, 1, 1, 1],\n",
              " [0, 1, 1, 0, 1, 1, 1, 1, 1, 1],\n",
              " [1, 1, 1, 1, 1, 1, 0, 1, 1, 1],\n",
              " [1, 1, 0, 1, 0, 1, 1, 0, 1, 1],\n",
              " [1, 1, 0, 1, 1, 1, 1, 1, 1, 1],\n",
              " [0, 1, 1, 1, 1, 1, 1, 1, 1, 1],\n",
              " [0, 1, 1, 1, 1, 1, 1, 1, 1, 1],\n",
              " [1, 0, 1, 0, 1, 1, 1, 1, 1, 1],\n",
              " [1, 1, 1, 1, 1, 1, 1, 1, 0, 1],\n",
              " [0, 0, 1, 1, 1, 1, 1, 1, 1, 1],\n",
              " [1, 1, 1, 1, 1, 1, 1, 1, 1, 1],\n",
              " [0, 0, 1, 1, 1, 1, 1, 1, 1, 1],\n",
              " [1, 1, 1, 1, 1, 1, 1, 1, 1, 1],\n",
              " [1, 1, 1, 0, 0, 1, 1, 1, 1, 1],\n",
              " [1, 1, 1, 1, 1, 0, 1, 1, 1, 1],\n",
              " [1, 1, 1, 0, 1, 1, 1, 1, 1, 1],\n",
              " [1, 1, 1, 1, 1, 1, 1, 1, 1, 1],\n",
              " [1, 1, 1, 1, 1, 0, 1, 1, 1, 1],\n",
              " [1, 1, 1, 1, 1, 1, 1, 1, 1, 1],\n",
              " [1, 1, 1, 1, 1, 1, 1, 0, 1, 1],\n",
              " [1, 0, 1, 1, 1, 1, 0, 1, 1, 1],\n",
              " [1, 0, 0, 1, 1, 1, 1, 1, 1, 1],\n",
              " [1, 0, 1, 1, 1, 1, 1, 1, 1, 0],\n",
              " [1, 1, 1, 1, 1, 1, 1, 1, 1, 1],\n",
              " [1, 1, 1, 1, 1, 0, 1, 1, 1, 1],\n",
              " [1, 1, 1, 0, 1, 1, 1, 1, 1, 1],\n",
              " [1, 1, 0, 1, 1, 1, 1, 1, 1, 1],\n",
              " [0, 1, 1, 0, 1, 1, 1, 1, 1, 1],\n",
              " [1, 1, 1, 1, 1, 1, 1, 1, 0, 1],\n",
              " [0, 1, 0, 1, 1, 1, 1, 1, 1, 1],\n",
              " [0, 1, 1, 1, 1, 1, 1, 1, 1, 1],\n",
              " [1, 1, 0, 1, 1, 1, 1, 1, 0, 1],\n",
              " [1, 1, 1, 0, 1, 1, 1, 1, 1, 1],\n",
              " [1, 1, 1, 1, 1, 0, 1, 0, 1, 1],\n",
              " [1, 1, 1, 1, 1, 1, 1, 1, 1, 0],\n",
              " [1, 1, 0, 0, 1, 1, 1, 1, 1, 1],\n",
              " [0, 0, 1, 0, 1, 1, 1, 1, 1, 1],\n",
              " [0, 1, 1, 1, 1, 1, 1, 0, 1, 1],\n",
              " [1, 1, 1, 1, 1, 0, 1, 1, 1, 1],\n",
              " [1, 1, 1, 1, 0, 1, 1, 0, 1, 1],\n",
              " [0, 1, 0, 1, 1, 1, 1, 1, 1, 1],\n",
              " [1, 1, 1, 1, 1, 1, 1, 1, 1, 1],\n",
              " [0, 1, 1, 1, 0, 1, 1, 1, 1, 0],\n",
              " [1, 1, 1, 0, 1, 1, 1, 1, 1, 1],\n",
              " [1, 1, 1, 1, 1, 1, 1, 0, 1, 1],\n",
              " [1, 1, 0, 1, 0, 1, 1, 1, 1, 1],\n",
              " [1, 0, 0, 1, 1, 0, 1, 1, 1, 1],\n",
              " [1, 1, 0, 1, 0, 0, 1, 1, 1, 0],\n",
              " [0, 1, 1, 1, 0, 0, 1, 1, 1, 1],\n",
              " [1, 1, 1, 0, 1, 1, 1, 1, 1, 0],\n",
              " [1, 1, 1, 1, 1, 1, 1, 1, 1, 1],\n",
              " [0, 1, 0, 1, 1, 1, 1, 1, 1, 1],\n",
              " [1, 1, 1, 1, 1, 0, 1, 1, 1, 1],\n",
              " [1, 1, 1, 0, 0, 1, 1, 0, 1, 1],\n",
              " [0, 1, 0, 1, 0, 0, 1, 1, 1, 1],\n",
              " [0, 0, 1, 0, 1, 1, 1, 0, 1, 1],\n",
              " [1, 1, 1, 1, 1, 0, 1, 1, 0, 1],\n",
              " [1, 1, 1, 1, 1, 0, 1, 1, 1, 1],\n",
              " [1, 1, 1, 1, 1, 1, 1, 1, 1, 1],\n",
              " [1, 1, 1, 1, 1, 1, 1, 1, 1, 1],\n",
              " [1, 0, 1, 0, 1, 1, 1, 1, 1, 1],\n",
              " [1, 0, 1, 0, 1, 1, 1, 1, 1, 1],\n",
              " [1, 1, 1, 1, 1, 1, 1, 1, 1, 1],\n",
              " [1, 1, 1, 1, 0, 1, 1, 1, 1, 1],\n",
              " [0, 0, 1, 0, 1, 1, 1, 1, 1, 1],\n",
              " [0, 0, 1, 1, 1, 1, 1, 0, 1, 1],\n",
              " [1, 1, 1, 1, 1, 1, 1, 0, 1, 1],\n",
              " [1, 1, 1, 1, 1, 1, 1, 1, 0, 1],\n",
              " [1, 1, 1, 0, 1, 1, 1, 1, 1, 1],\n",
              " [0, 0, 1, 1, 1, 1, 1, 1, 1, 1],\n",
              " [1, 1, 1, 1, 0, 1, 1, 1, 0, 1],\n",
              " [1, 1, 1, 1, 1, 1, 1, 1, 1, 1],\n",
              " [1, 1, 1, 1, 1, 1, 1, 1, 1, 1],\n",
              " [1, 1, 1, 1, 1, 1, 1, 1, 1, 1],\n",
              " [1, 1, 1, 1, 1, 0, 1, 1, 1, 1],\n",
              " [0, 1, 1, 1, 0, 1, 0, 1, 1, 1],\n",
              " [1, 1, 1, 0, 1, 1, 1, 1, 1, 1],\n",
              " [1, 1, 1, 1, 1, 1, 1, 1, 1, 1],\n",
              " [1, 1, 1, 1, 1, 0, 1, 1, 1, 1],\n",
              " [0, 0, 0, 1, 1, 0, 1, 1, 1, 1])"
            ]
          },
          "metadata": {
            "tags": []
          },
          "execution_count": 16
        }
      ]
    },
    {
      "metadata": {
        "id": "uThL9zPGtHqU",
        "colab_type": "text"
      },
      "cell_type": "markdown",
      "source": [
        "Not a terribly exciting evolution, but in the next notebook we'll learn how to customize the GA to our own musical environments by replacing the default functions."
      ]
    }
  ]
}